{
 "cells": [
  {
   "cell_type": "markdown",
   "id": "2ce989bc",
   "metadata": {
    "papermill": {
     "duration": 0.047241,
     "end_time": "2022-04-19T08:57:42.983043",
     "exception": false,
     "start_time": "2022-04-19T08:57:42.935802",
     "status": "completed"
    },
    "tags": []
   },
   "source": [
    "## Autism Prediction in Adults"
   ]
  },
  {
   "cell_type": "code",
   "execution_count": 1,
   "id": "3f883afc",
   "metadata": {
    "_cell_guid": "b1076dfc-b9ad-4769-8c92-a6c4dae69d19",
    "_uuid": "8f2839f25d086af736a60e9eeb907d3b93b6e0e5",
    "execution": {
     "iopub.execute_input": "2022-04-19T08:57:43.081001Z",
     "iopub.status.busy": "2022-04-19T08:57:43.080569Z",
     "iopub.status.idle": "2022-04-19T08:57:43.091343Z",
     "shell.execute_reply": "2022-04-19T08:57:43.090310Z"
    },
    "papermill": {
     "duration": 0.063817,
     "end_time": "2022-04-19T08:57:43.093444",
     "exception": false,
     "start_time": "2022-04-19T08:57:43.029627",
     "status": "completed"
    },
    "tags": []
   },
   "outputs": [],
   "source": [
    "import numpy as np # linear algebra\n",
    "import pandas as pd # data processing, CSV file I/O (e.g. pd.read_csv)"
   ]
  },
  {
   "cell_type": "markdown",
   "id": "5e544728",
   "metadata": {
    "papermill": {
     "duration": 0.044883,
     "end_time": "2022-04-19T08:57:43.184008",
     "exception": false,
     "start_time": "2022-04-19T08:57:43.139125",
     "status": "completed"
    },
    "tags": []
   },
   "source": [
    "# Loading Data"
   ]
  },
  {
   "cell_type": "code",
   "execution_count": 2,
   "id": "a3192988",
   "metadata": {
    "execution": {
     "iopub.execute_input": "2022-04-19T08:57:43.276256Z",
     "iopub.status.busy": "2022-04-19T08:57:43.275963Z",
     "iopub.status.idle": "2022-04-19T08:57:43.313417Z",
     "shell.execute_reply": "2022-04-19T08:57:43.312800Z"
    },
    "papermill": {
     "duration": 0.086914,
     "end_time": "2022-04-19T08:57:43.316056",
     "exception": false,
     "start_time": "2022-04-19T08:57:43.229142",
     "status": "completed"
    },
    "tags": []
   },
   "outputs": [
    {
     "data": {
      "text/plain": [
       "((800, 22), (200, 21))"
      ]
     },
     "execution_count": 2,
     "metadata": {},
     "output_type": "execute_result"
    }
   ],
   "source": [
    "train = pd.read_csv('../input/autismdiagnosis/Autism_Prediction/train.csv')\n",
    "test = pd.read_csv('../input/autismdiagnosis/Autism_Prediction/test.csv')\n",
    "\n",
    "train.shape, test.shape"
   ]
  },
  {
   "cell_type": "markdown",
   "id": "ce46be71",
   "metadata": {
    "papermill": {
     "duration": 0.045281,
     "end_time": "2022-04-19T08:57:43.408421",
     "exception": false,
     "start_time": "2022-04-19T08:57:43.363140",
     "status": "completed"
    },
    "tags": []
   },
   "source": [
    "# Understading Data"
   ]
  },
  {
   "cell_type": "code",
   "execution_count": 3,
   "id": "e0a2437d",
   "metadata": {
    "_kg_hide-output": true,
    "execution": {
     "iopub.execute_input": "2022-04-19T08:57:43.501699Z",
     "iopub.status.busy": "2022-04-19T08:57:43.500604Z",
     "iopub.status.idle": "2022-04-19T08:57:43.512472Z",
     "shell.execute_reply": "2022-04-19T08:57:43.511888Z"
    },
    "papermill": {
     "duration": 0.060385,
     "end_time": "2022-04-19T08:57:43.514277",
     "exception": false,
     "start_time": "2022-04-19T08:57:43.453892",
     "status": "completed"
    },
    "tags": []
   },
   "outputs": [
    {
     "data": {
      "text/plain": [
       "ID                 0\n",
       "A1_Score           0\n",
       "A2_Score           0\n",
       "A3_Score           0\n",
       "A4_Score           0\n",
       "A5_Score           0\n",
       "A6_Score           0\n",
       "A7_Score           0\n",
       "A8_Score           0\n",
       "A9_Score           0\n",
       "A10_Score          0\n",
       "age                0\n",
       "gender             0\n",
       "ethnicity          0\n",
       "jaundice           0\n",
       "austim             0\n",
       "contry_of_res      0\n",
       "used_app_before    0\n",
       "result             0\n",
       "age_desc           0\n",
       "relation           0\n",
       "Class/ASD          0\n",
       "dtype: int64"
      ]
     },
     "execution_count": 3,
     "metadata": {},
     "output_type": "execute_result"
    }
   ],
   "source": [
    "train.isnull().sum()"
   ]
  },
  {
   "cell_type": "code",
   "execution_count": 4,
   "id": "beba2726",
   "metadata": {
    "_kg_hide-output": true,
    "execution": {
     "iopub.execute_input": "2022-04-19T08:57:43.610362Z",
     "iopub.status.busy": "2022-04-19T08:57:43.609474Z",
     "iopub.status.idle": "2022-04-19T08:57:43.618549Z",
     "shell.execute_reply": "2022-04-19T08:57:43.617831Z"
    },
    "papermill": {
     "duration": 0.058984,
     "end_time": "2022-04-19T08:57:43.621025",
     "exception": false,
     "start_time": "2022-04-19T08:57:43.562041",
     "status": "completed"
    },
    "tags": []
   },
   "outputs": [
    {
     "data": {
      "text/plain": [
       "ID                 0\n",
       "A1_Score           0\n",
       "A2_Score           0\n",
       "A3_Score           0\n",
       "A4_Score           0\n",
       "A5_Score           0\n",
       "A6_Score           0\n",
       "A7_Score           0\n",
       "A8_Score           0\n",
       "A9_Score           0\n",
       "A10_Score          0\n",
       "age                0\n",
       "gender             0\n",
       "ethnicity          0\n",
       "jaundice           0\n",
       "austim             0\n",
       "contry_of_res      0\n",
       "used_app_before    0\n",
       "result             0\n",
       "age_desc           0\n",
       "relation           0\n",
       "dtype: int64"
      ]
     },
     "execution_count": 4,
     "metadata": {},
     "output_type": "execute_result"
    }
   ],
   "source": [
    "test.isnull().sum()"
   ]
  },
  {
   "cell_type": "code",
   "execution_count": 5,
   "id": "8cd057f2",
   "metadata": {
    "execution": {
     "iopub.execute_input": "2022-04-19T08:57:43.716272Z",
     "iopub.status.busy": "2022-04-19T08:57:43.715758Z",
     "iopub.status.idle": "2022-04-19T08:57:43.744504Z",
     "shell.execute_reply": "2022-04-19T08:57:43.743833Z"
    },
    "papermill": {
     "duration": 0.079437,
     "end_time": "2022-04-19T08:57:43.747083",
     "exception": false,
     "start_time": "2022-04-19T08:57:43.667646",
     "status": "completed"
    },
    "tags": []
   },
   "outputs": [
    {
     "name": "stdout",
     "output_type": "stream",
     "text": [
      "<class 'pandas.core.frame.DataFrame'>\n",
      "RangeIndex: 800 entries, 0 to 799\n",
      "Data columns (total 22 columns):\n",
      " #   Column           Non-Null Count  Dtype  \n",
      "---  ------           --------------  -----  \n",
      " 0   ID               800 non-null    int64  \n",
      " 1   A1_Score         800 non-null    int64  \n",
      " 2   A2_Score         800 non-null    int64  \n",
      " 3   A3_Score         800 non-null    int64  \n",
      " 4   A4_Score         800 non-null    int64  \n",
      " 5   A5_Score         800 non-null    int64  \n",
      " 6   A6_Score         800 non-null    int64  \n",
      " 7   A7_Score         800 non-null    int64  \n",
      " 8   A8_Score         800 non-null    int64  \n",
      " 9   A9_Score         800 non-null    int64  \n",
      " 10  A10_Score        800 non-null    int64  \n",
      " 11  age              800 non-null    float64\n",
      " 12  gender           800 non-null    object \n",
      " 13  ethnicity        800 non-null    object \n",
      " 14  jaundice         800 non-null    object \n",
      " 15  austim           800 non-null    object \n",
      " 16  contry_of_res    800 non-null    object \n",
      " 17  used_app_before  800 non-null    object \n",
      " 18  result           800 non-null    float64\n",
      " 19  age_desc         800 non-null    object \n",
      " 20  relation         800 non-null    object \n",
      " 21  Class/ASD        800 non-null    int64  \n",
      "dtypes: float64(2), int64(12), object(8)\n",
      "memory usage: 137.6+ KB\n"
     ]
    }
   ],
   "source": [
    "train.info()"
   ]
  },
  {
   "cell_type": "markdown",
   "id": "8172693b",
   "metadata": {
    "papermill": {
     "duration": 0.046754,
     "end_time": "2022-04-19T08:57:43.841708",
     "exception": false,
     "start_time": "2022-04-19T08:57:43.794954",
     "status": "completed"
    },
    "tags": []
   },
   "source": [
    "## Select object Cols"
   ]
  },
  {
   "cell_type": "code",
   "execution_count": 6,
   "id": "a1dc772f",
   "metadata": {
    "execution": {
     "iopub.execute_input": "2022-04-19T08:57:43.937451Z",
     "iopub.status.busy": "2022-04-19T08:57:43.936880Z",
     "iopub.status.idle": "2022-04-19T08:57:43.943634Z",
     "shell.execute_reply": "2022-04-19T08:57:43.942788Z"
    },
    "papermill": {
     "duration": 0.056959,
     "end_time": "2022-04-19T08:57:43.945531",
     "exception": false,
     "start_time": "2022-04-19T08:57:43.888572",
     "status": "completed"
    },
    "tags": []
   },
   "outputs": [
    {
     "data": {
      "text/plain": [
       "['gender',\n",
       " 'ethnicity',\n",
       " 'jaundice',\n",
       " 'austim',\n",
       " 'contry_of_res',\n",
       " 'used_app_before',\n",
       " 'age_desc',\n",
       " 'relation']"
      ]
     },
     "execution_count": 6,
     "metadata": {},
     "output_type": "execute_result"
    }
   ],
   "source": [
    "obj_cols = []\n",
    "\n",
    "for i in train.columns:\n",
    "    if train[i].dtypes == 'object':\n",
    "        obj_cols.append(i)\n",
    "        \n",
    "        \n",
    "obj_cols"
   ]
  },
  {
   "cell_type": "markdown",
   "id": "a6b44d5d",
   "metadata": {
    "papermill": {
     "duration": 0.048527,
     "end_time": "2022-04-19T08:57:44.041301",
     "exception": false,
     "start_time": "2022-04-19T08:57:43.992774",
     "status": "completed"
    },
    "tags": []
   },
   "source": [
    "## Label encode"
   ]
  },
  {
   "cell_type": "code",
   "execution_count": 7,
   "id": "dc38ff66",
   "metadata": {
    "execution": {
     "iopub.execute_input": "2022-04-19T08:57:44.137591Z",
     "iopub.status.busy": "2022-04-19T08:57:44.137038Z",
     "iopub.status.idle": "2022-04-19T08:57:45.268537Z",
     "shell.execute_reply": "2022-04-19T08:57:45.267454Z"
    },
    "papermill": {
     "duration": 1.18272,
     "end_time": "2022-04-19T08:57:45.271144",
     "exception": false,
     "start_time": "2022-04-19T08:57:44.088424",
     "status": "completed"
    },
    "tags": []
   },
   "outputs": [],
   "source": [
    "from sklearn import preprocessing\n",
    "le = preprocessing.LabelEncoder()"
   ]
  },
  {
   "cell_type": "code",
   "execution_count": 8,
   "id": "e0caecf3",
   "metadata": {
    "execution": {
     "iopub.execute_input": "2022-04-19T08:57:45.368243Z",
     "iopub.status.busy": "2022-04-19T08:57:45.367883Z",
     "iopub.status.idle": "2022-04-19T08:57:45.404350Z",
     "shell.execute_reply": "2022-04-19T08:57:45.403763Z"
    },
    "papermill": {
     "duration": 0.087819,
     "end_time": "2022-04-19T08:57:45.406086",
     "exception": false,
     "start_time": "2022-04-19T08:57:45.318267",
     "status": "completed"
    },
    "tags": []
   },
   "outputs": [
    {
     "data": {
      "text/html": [
       "<div>\n",
       "<style scoped>\n",
       "    .dataframe tbody tr th:only-of-type {\n",
       "        vertical-align: middle;\n",
       "    }\n",
       "\n",
       "    .dataframe tbody tr th {\n",
       "        vertical-align: top;\n",
       "    }\n",
       "\n",
       "    .dataframe thead th {\n",
       "        text-align: right;\n",
       "    }\n",
       "</style>\n",
       "<table border=\"1\" class=\"dataframe\">\n",
       "  <thead>\n",
       "    <tr style=\"text-align: right;\">\n",
       "      <th></th>\n",
       "      <th>ID</th>\n",
       "      <th>A1_Score</th>\n",
       "      <th>A2_Score</th>\n",
       "      <th>A3_Score</th>\n",
       "      <th>A4_Score</th>\n",
       "      <th>A5_Score</th>\n",
       "      <th>A6_Score</th>\n",
       "      <th>A7_Score</th>\n",
       "      <th>A8_Score</th>\n",
       "      <th>A9_Score</th>\n",
       "      <th>...</th>\n",
       "      <th>gender</th>\n",
       "      <th>ethnicity</th>\n",
       "      <th>jaundice</th>\n",
       "      <th>austim</th>\n",
       "      <th>contry_of_res</th>\n",
       "      <th>used_app_before</th>\n",
       "      <th>result</th>\n",
       "      <th>age_desc</th>\n",
       "      <th>relation</th>\n",
       "      <th>Class/ASD</th>\n",
       "    </tr>\n",
       "  </thead>\n",
       "  <tbody>\n",
       "    <tr>\n",
       "      <th>0</th>\n",
       "      <td>1</td>\n",
       "      <td>1</td>\n",
       "      <td>0</td>\n",
       "      <td>1</td>\n",
       "      <td>0</td>\n",
       "      <td>1</td>\n",
       "      <td>0</td>\n",
       "      <td>1</td>\n",
       "      <td>0</td>\n",
       "      <td>1</td>\n",
       "      <td>...</td>\n",
       "      <td>f</td>\n",
       "      <td>?</td>\n",
       "      <td>no</td>\n",
       "      <td>no</td>\n",
       "      <td>Austria</td>\n",
       "      <td>no</td>\n",
       "      <td>6.351166</td>\n",
       "      <td>18 and more</td>\n",
       "      <td>Self</td>\n",
       "      <td>0</td>\n",
       "    </tr>\n",
       "    <tr>\n",
       "      <th>1</th>\n",
       "      <td>2</td>\n",
       "      <td>0</td>\n",
       "      <td>0</td>\n",
       "      <td>0</td>\n",
       "      <td>0</td>\n",
       "      <td>0</td>\n",
       "      <td>0</td>\n",
       "      <td>0</td>\n",
       "      <td>0</td>\n",
       "      <td>0</td>\n",
       "      <td>...</td>\n",
       "      <td>m</td>\n",
       "      <td>?</td>\n",
       "      <td>no</td>\n",
       "      <td>no</td>\n",
       "      <td>India</td>\n",
       "      <td>no</td>\n",
       "      <td>2.255185</td>\n",
       "      <td>18 and more</td>\n",
       "      <td>Self</td>\n",
       "      <td>0</td>\n",
       "    </tr>\n",
       "    <tr>\n",
       "      <th>2</th>\n",
       "      <td>3</td>\n",
       "      <td>1</td>\n",
       "      <td>1</td>\n",
       "      <td>1</td>\n",
       "      <td>1</td>\n",
       "      <td>1</td>\n",
       "      <td>1</td>\n",
       "      <td>1</td>\n",
       "      <td>1</td>\n",
       "      <td>1</td>\n",
       "      <td>...</td>\n",
       "      <td>m</td>\n",
       "      <td>White-European</td>\n",
       "      <td>no</td>\n",
       "      <td>yes</td>\n",
       "      <td>United States</td>\n",
       "      <td>no</td>\n",
       "      <td>14.851484</td>\n",
       "      <td>18 and more</td>\n",
       "      <td>Self</td>\n",
       "      <td>1</td>\n",
       "    </tr>\n",
       "    <tr>\n",
       "      <th>3</th>\n",
       "      <td>4</td>\n",
       "      <td>0</td>\n",
       "      <td>0</td>\n",
       "      <td>0</td>\n",
       "      <td>0</td>\n",
       "      <td>0</td>\n",
       "      <td>0</td>\n",
       "      <td>0</td>\n",
       "      <td>0</td>\n",
       "      <td>0</td>\n",
       "      <td>...</td>\n",
       "      <td>f</td>\n",
       "      <td>?</td>\n",
       "      <td>no</td>\n",
       "      <td>no</td>\n",
       "      <td>United States</td>\n",
       "      <td>no</td>\n",
       "      <td>2.276617</td>\n",
       "      <td>18 and more</td>\n",
       "      <td>Self</td>\n",
       "      <td>0</td>\n",
       "    </tr>\n",
       "    <tr>\n",
       "      <th>4</th>\n",
       "      <td>5</td>\n",
       "      <td>0</td>\n",
       "      <td>0</td>\n",
       "      <td>0</td>\n",
       "      <td>0</td>\n",
       "      <td>0</td>\n",
       "      <td>0</td>\n",
       "      <td>0</td>\n",
       "      <td>0</td>\n",
       "      <td>0</td>\n",
       "      <td>...</td>\n",
       "      <td>m</td>\n",
       "      <td>?</td>\n",
       "      <td>no</td>\n",
       "      <td>no</td>\n",
       "      <td>South Africa</td>\n",
       "      <td>no</td>\n",
       "      <td>-4.777286</td>\n",
       "      <td>18 and more</td>\n",
       "      <td>Self</td>\n",
       "      <td>0</td>\n",
       "    </tr>\n",
       "    <tr>\n",
       "      <th>...</th>\n",
       "      <td>...</td>\n",
       "      <td>...</td>\n",
       "      <td>...</td>\n",
       "      <td>...</td>\n",
       "      <td>...</td>\n",
       "      <td>...</td>\n",
       "      <td>...</td>\n",
       "      <td>...</td>\n",
       "      <td>...</td>\n",
       "      <td>...</td>\n",
       "      <td>...</td>\n",
       "      <td>...</td>\n",
       "      <td>...</td>\n",
       "      <td>...</td>\n",
       "      <td>...</td>\n",
       "      <td>...</td>\n",
       "      <td>...</td>\n",
       "      <td>...</td>\n",
       "      <td>...</td>\n",
       "      <td>...</td>\n",
       "      <td>...</td>\n",
       "    </tr>\n",
       "    <tr>\n",
       "      <th>795</th>\n",
       "      <td>796</td>\n",
       "      <td>0</td>\n",
       "      <td>1</td>\n",
       "      <td>0</td>\n",
       "      <td>0</td>\n",
       "      <td>0</td>\n",
       "      <td>0</td>\n",
       "      <td>0</td>\n",
       "      <td>0</td>\n",
       "      <td>1</td>\n",
       "      <td>...</td>\n",
       "      <td>m</td>\n",
       "      <td>Hispanic</td>\n",
       "      <td>no</td>\n",
       "      <td>no</td>\n",
       "      <td>New Zealand</td>\n",
       "      <td>no</td>\n",
       "      <td>12.999501</td>\n",
       "      <td>18 and more</td>\n",
       "      <td>Self</td>\n",
       "      <td>0</td>\n",
       "    </tr>\n",
       "    <tr>\n",
       "      <th>796</th>\n",
       "      <td>797</td>\n",
       "      <td>0</td>\n",
       "      <td>1</td>\n",
       "      <td>1</td>\n",
       "      <td>0</td>\n",
       "      <td>0</td>\n",
       "      <td>1</td>\n",
       "      <td>0</td>\n",
       "      <td>1</td>\n",
       "      <td>1</td>\n",
       "      <td>...</td>\n",
       "      <td>m</td>\n",
       "      <td>White-European</td>\n",
       "      <td>no</td>\n",
       "      <td>no</td>\n",
       "      <td>Cyprus</td>\n",
       "      <td>no</td>\n",
       "      <td>13.561518</td>\n",
       "      <td>18 and more</td>\n",
       "      <td>Self</td>\n",
       "      <td>0</td>\n",
       "    </tr>\n",
       "    <tr>\n",
       "      <th>797</th>\n",
       "      <td>798</td>\n",
       "      <td>0</td>\n",
       "      <td>0</td>\n",
       "      <td>0</td>\n",
       "      <td>0</td>\n",
       "      <td>0</td>\n",
       "      <td>0</td>\n",
       "      <td>0</td>\n",
       "      <td>0</td>\n",
       "      <td>0</td>\n",
       "      <td>...</td>\n",
       "      <td>m</td>\n",
       "      <td>South Asian</td>\n",
       "      <td>yes</td>\n",
       "      <td>no</td>\n",
       "      <td>New Zealand</td>\n",
       "      <td>no</td>\n",
       "      <td>2.653177</td>\n",
       "      <td>18 and more</td>\n",
       "      <td>Self</td>\n",
       "      <td>0</td>\n",
       "    </tr>\n",
       "    <tr>\n",
       "      <th>798</th>\n",
       "      <td>799</td>\n",
       "      <td>0</td>\n",
       "      <td>0</td>\n",
       "      <td>0</td>\n",
       "      <td>0</td>\n",
       "      <td>0</td>\n",
       "      <td>0</td>\n",
       "      <td>0</td>\n",
       "      <td>0</td>\n",
       "      <td>0</td>\n",
       "      <td>...</td>\n",
       "      <td>f</td>\n",
       "      <td>?</td>\n",
       "      <td>no</td>\n",
       "      <td>no</td>\n",
       "      <td>Canada</td>\n",
       "      <td>no</td>\n",
       "      <td>9.069342</td>\n",
       "      <td>18 and more</td>\n",
       "      <td>Self</td>\n",
       "      <td>0</td>\n",
       "    </tr>\n",
       "    <tr>\n",
       "      <th>799</th>\n",
       "      <td>800</td>\n",
       "      <td>0</td>\n",
       "      <td>1</td>\n",
       "      <td>0</td>\n",
       "      <td>0</td>\n",
       "      <td>0</td>\n",
       "      <td>0</td>\n",
       "      <td>0</td>\n",
       "      <td>0</td>\n",
       "      <td>0</td>\n",
       "      <td>...</td>\n",
       "      <td>f</td>\n",
       "      <td>?</td>\n",
       "      <td>no</td>\n",
       "      <td>no</td>\n",
       "      <td>United Arab Emirates</td>\n",
       "      <td>yes</td>\n",
       "      <td>2.243304</td>\n",
       "      <td>18 and more</td>\n",
       "      <td>Self</td>\n",
       "      <td>0</td>\n",
       "    </tr>\n",
       "  </tbody>\n",
       "</table>\n",
       "<p>800 rows × 22 columns</p>\n",
       "</div>"
      ],
      "text/plain": [
       "      ID  A1_Score  A2_Score  A3_Score  A4_Score  A5_Score  A6_Score  \\\n",
       "0      1         1         0         1         0         1         0   \n",
       "1      2         0         0         0         0         0         0   \n",
       "2      3         1         1         1         1         1         1   \n",
       "3      4         0         0         0         0         0         0   \n",
       "4      5         0         0         0         0         0         0   \n",
       "..   ...       ...       ...       ...       ...       ...       ...   \n",
       "795  796         0         1         0         0         0         0   \n",
       "796  797         0         1         1         0         0         1   \n",
       "797  798         0         0         0         0         0         0   \n",
       "798  799         0         0         0         0         0         0   \n",
       "799  800         0         1         0         0         0         0   \n",
       "\n",
       "     A7_Score  A8_Score  A9_Score  ...  gender       ethnicity jaundice  \\\n",
       "0           1         0         1  ...       f               ?       no   \n",
       "1           0         0         0  ...       m               ?       no   \n",
       "2           1         1         1  ...       m  White-European       no   \n",
       "3           0         0         0  ...       f               ?       no   \n",
       "4           0         0         0  ...       m               ?       no   \n",
       "..        ...       ...       ...  ...     ...             ...      ...   \n",
       "795         0         0         1  ...       m        Hispanic       no   \n",
       "796         0         1         1  ...       m  White-European       no   \n",
       "797         0         0         0  ...       m     South Asian      yes   \n",
       "798         0         0         0  ...       f               ?       no   \n",
       "799         0         0         0  ...       f               ?       no   \n",
       "\n",
       "    austim         contry_of_res used_app_before     result     age_desc  \\\n",
       "0       no               Austria              no   6.351166  18 and more   \n",
       "1       no                 India              no   2.255185  18 and more   \n",
       "2      yes         United States              no  14.851484  18 and more   \n",
       "3       no         United States              no   2.276617  18 and more   \n",
       "4       no          South Africa              no  -4.777286  18 and more   \n",
       "..     ...                   ...             ...        ...          ...   \n",
       "795     no           New Zealand              no  12.999501  18 and more   \n",
       "796     no                Cyprus              no  13.561518  18 and more   \n",
       "797     no           New Zealand              no   2.653177  18 and more   \n",
       "798     no                Canada              no   9.069342  18 and more   \n",
       "799     no  United Arab Emirates             yes   2.243304  18 and more   \n",
       "\n",
       "     relation Class/ASD  \n",
       "0        Self         0  \n",
       "1        Self         0  \n",
       "2        Self         1  \n",
       "3        Self         0  \n",
       "4        Self         0  \n",
       "..        ...       ...  \n",
       "795      Self         0  \n",
       "796      Self         0  \n",
       "797      Self         0  \n",
       "798      Self         0  \n",
       "799      Self         0  \n",
       "\n",
       "[800 rows x 22 columns]"
      ]
     },
     "execution_count": 8,
     "metadata": {},
     "output_type": "execute_result"
    }
   ],
   "source": [
    "data = train.copy()\n",
    "data"
   ]
  },
  {
   "cell_type": "code",
   "execution_count": 9,
   "id": "22331dd6",
   "metadata": {
    "execution": {
     "iopub.execute_input": "2022-04-19T08:57:45.504455Z",
     "iopub.status.busy": "2022-04-19T08:57:45.503862Z",
     "iopub.status.idle": "2022-04-19T08:57:45.526283Z",
     "shell.execute_reply": "2022-04-19T08:57:45.525639Z"
    },
    "papermill": {
     "duration": 0.074059,
     "end_time": "2022-04-19T08:57:45.528204",
     "exception": false,
     "start_time": "2022-04-19T08:57:45.454145",
     "status": "completed"
    },
    "tags": []
   },
   "outputs": [
    {
     "name": "stdout",
     "output_type": "stream",
     "text": [
      "<class 'pandas.core.frame.DataFrame'>\n",
      "RangeIndex: 800 entries, 0 to 799\n",
      "Data columns (total 22 columns):\n",
      " #   Column           Non-Null Count  Dtype  \n",
      "---  ------           --------------  -----  \n",
      " 0   ID               800 non-null    int64  \n",
      " 1   A1_Score         800 non-null    int64  \n",
      " 2   A2_Score         800 non-null    int64  \n",
      " 3   A3_Score         800 non-null    int64  \n",
      " 4   A4_Score         800 non-null    int64  \n",
      " 5   A5_Score         800 non-null    int64  \n",
      " 6   A6_Score         800 non-null    int64  \n",
      " 7   A7_Score         800 non-null    int64  \n",
      " 8   A8_Score         800 non-null    int64  \n",
      " 9   A9_Score         800 non-null    int64  \n",
      " 10  A10_Score        800 non-null    int64  \n",
      " 11  age              800 non-null    float64\n",
      " 12  gender           800 non-null    int64  \n",
      " 13  ethnicity        800 non-null    int64  \n",
      " 14  jaundice         800 non-null    int64  \n",
      " 15  austim           800 non-null    int64  \n",
      " 16  contry_of_res    800 non-null    int64  \n",
      " 17  used_app_before  800 non-null    int64  \n",
      " 18  result           800 non-null    float64\n",
      " 19  age_desc         800 non-null    int64  \n",
      " 20  relation         800 non-null    int64  \n",
      " 21  Class/ASD        800 non-null    int64  \n",
      "dtypes: float64(2), int64(20)\n",
      "memory usage: 137.6 KB\n"
     ]
    }
   ],
   "source": [
    "for col in obj_cols:\n",
    "    data[col] = le.fit_transform(data[col])\n",
    "    test[col] = le.fit_transform(test[col])\n",
    "    \n",
    "data.info()"
   ]
  },
  {
   "cell_type": "markdown",
   "id": "a841ae8a",
   "metadata": {
    "papermill": {
     "duration": 0.048532,
     "end_time": "2022-04-19T08:57:45.625212",
     "exception": false,
     "start_time": "2022-04-19T08:57:45.576680",
     "status": "completed"
    },
    "tags": []
   },
   "source": [
    "## Modeling"
   ]
  },
  {
   "cell_type": "code",
   "execution_count": 10,
   "id": "7e62f14e",
   "metadata": {
    "execution": {
     "iopub.execute_input": "2022-04-19T08:57:45.724400Z",
     "iopub.status.busy": "2022-04-19T08:57:45.723762Z",
     "iopub.status.idle": "2022-04-19T08:57:45.732088Z",
     "shell.execute_reply": "2022-04-19T08:57:45.730945Z"
    },
    "papermill": {
     "duration": 0.060432,
     "end_time": "2022-04-19T08:57:45.734057",
     "exception": false,
     "start_time": "2022-04-19T08:57:45.673625",
     "status": "completed"
    },
    "tags": []
   },
   "outputs": [
    {
     "data": {
      "text/plain": [
       "(800, 20)"
      ]
     },
     "execution_count": 10,
     "metadata": {},
     "output_type": "execute_result"
    }
   ],
   "source": [
    "#del data['ID']\n",
    "X = data.copy()\n",
    "del X['ID']\n",
    "y = X.pop('Class/ASD')\n",
    "\n",
    "X.shape"
   ]
  },
  {
   "cell_type": "markdown",
   "id": "98dd8ff7",
   "metadata": {
    "papermill": {
     "duration": 0.0506,
     "end_time": "2022-04-19T08:57:45.833509",
     "exception": false,
     "start_time": "2022-04-19T08:57:45.782909",
     "status": "completed"
    },
    "tags": []
   },
   "source": [
    "## Split"
   ]
  },
  {
   "cell_type": "code",
   "execution_count": 11,
   "id": "b4e20092",
   "metadata": {
    "execution": {
     "iopub.execute_input": "2022-04-19T08:57:45.935962Z",
     "iopub.status.busy": "2022-04-19T08:57:45.935553Z",
     "iopub.status.idle": "2022-04-19T08:57:46.005257Z",
     "shell.execute_reply": "2022-04-19T08:57:46.004311Z"
    },
    "papermill": {
     "duration": 0.123269,
     "end_time": "2022-04-19T08:57:46.007687",
     "exception": false,
     "start_time": "2022-04-19T08:57:45.884418",
     "status": "completed"
    },
    "tags": []
   },
   "outputs": [],
   "source": [
    "from sklearn.model_selection import train_test_split\n",
    "X_train, X_test, y_train, y_test = train_test_split(X, y, test_size=0.20, random_state=42)"
   ]
  },
  {
   "cell_type": "code",
   "execution_count": 12,
   "id": "83c5ae62",
   "metadata": {
    "execution": {
     "iopub.execute_input": "2022-04-19T08:57:46.107378Z",
     "iopub.status.busy": "2022-04-19T08:57:46.107065Z",
     "iopub.status.idle": "2022-04-19T08:57:48.411330Z",
     "shell.execute_reply": "2022-04-19T08:57:48.410382Z"
    },
    "papermill": {
     "duration": 2.356989,
     "end_time": "2022-04-19T08:57:48.413773",
     "exception": false,
     "start_time": "2022-04-19T08:57:46.056784",
     "status": "completed"
    },
    "tags": []
   },
   "outputs": [
    {
     "data": {
      "text/html": [
       "<style type='text/css'>\n",
       ".datatable table.frame { margin-bottom: 0; }\n",
       ".datatable table.frame thead { border-bottom: none; }\n",
       ".datatable table.frame tr.coltypes td {  color: #FFFFFF;  line-height: 6px;  padding: 0 0.5em;}\n",
       ".datatable .bool    { background: #DDDD99; }\n",
       ".datatable .object  { background: #565656; }\n",
       ".datatable .int     { background: #5D9E5D; }\n",
       ".datatable .float   { background: #4040CC; }\n",
       ".datatable .str     { background: #CC4040; }\n",
       ".datatable .time    { background: #40CC40; }\n",
       ".datatable .row_index {  background: var(--jp-border-color3);  border-right: 1px solid var(--jp-border-color0);  color: var(--jp-ui-font-color3);  font-size: 9px;}\n",
       ".datatable .frame tbody td { text-align: left; }\n",
       ".datatable .frame tr.coltypes .row_index {  background: var(--jp-border-color0);}\n",
       ".datatable th:nth-child(2) { padding-left: 12px; }\n",
       ".datatable .hellipsis {  color: var(--jp-cell-editor-border-color);}\n",
       ".datatable .vellipsis {  background: var(--jp-layout-color0);  color: var(--jp-cell-editor-border-color);}\n",
       ".datatable .na {  color: var(--jp-cell-editor-border-color);  font-size: 80%;}\n",
       ".datatable .sp {  opacity: 0.25;}\n",
       ".datatable .footer { font-size: 9px; }\n",
       ".datatable .frame_dimensions {  background: var(--jp-border-color3);  border-top: 1px solid var(--jp-border-color0);  color: var(--jp-ui-font-color3);  display: inline-block;  opacity: 0.6;  padding: 1px 10px 1px 5px;}\n",
       "</style>\n"
      ],
      "text/plain": [
       "<IPython.core.display.HTML object>"
      ]
     },
     "metadata": {},
     "output_type": "display_data"
    }
   ],
   "source": [
    "from sklearn.metrics import roc_auc_score, roc_curve\n",
    "from sklearn.model_selection import KFold,StratifiedKFold\n",
    "from sklearn.model_selection import cross_val_score\n",
    "from xgboost import XGBClassifier\n",
    "from lightgbm import LGBMClassifier\n",
    "import optuna\n",
    "from catboost import CatBoostClassifier"
   ]
  },
  {
   "cell_type": "code",
   "execution_count": 13,
   "id": "614c6f8d",
   "metadata": {
    "execution": {
     "iopub.execute_input": "2022-04-19T08:57:48.516817Z",
     "iopub.status.busy": "2022-04-19T08:57:48.516213Z",
     "iopub.status.idle": "2022-04-19T08:57:48.519557Z",
     "shell.execute_reply": "2022-04-19T08:57:48.518976Z"
    },
    "papermill": {
     "duration": 0.0572,
     "end_time": "2022-04-19T08:57:48.521492",
     "exception": false,
     "start_time": "2022-04-19T08:57:48.464292",
     "status": "completed"
    },
    "tags": []
   },
   "outputs": [],
   "source": [
    "#stop"
   ]
  },
  {
   "cell_type": "markdown",
   "id": "87a1a01a",
   "metadata": {
    "papermill": {
     "duration": 0.048968,
     "end_time": "2022-04-19T08:57:48.619969",
     "exception": false,
     "start_time": "2022-04-19T08:57:48.571001",
     "status": "completed"
    },
    "tags": []
   },
   "source": [
    "### pd.concat"
   ]
  },
  {
   "cell_type": "code",
   "execution_count": 14,
   "id": "b144407b",
   "metadata": {
    "execution": {
     "iopub.execute_input": "2022-04-19T08:57:48.721938Z",
     "iopub.status.busy": "2022-04-19T08:57:48.721327Z",
     "iopub.status.idle": "2022-04-19T08:57:48.729454Z",
     "shell.execute_reply": "2022-04-19T08:57:48.728876Z"
    },
    "papermill": {
     "duration": 0.061855,
     "end_time": "2022-04-19T08:57:48.731214",
     "exception": false,
     "start_time": "2022-04-19T08:57:48.669359",
     "status": "completed"
    },
    "tags": []
   },
   "outputs": [
    {
     "data": {
      "text/plain": [
       "(1000, 22)"
      ]
     },
     "execution_count": 14,
     "metadata": {},
     "output_type": "execute_result"
    }
   ],
   "source": [
    "all_data = pd.concat([data, test], ignore_index=True)\n",
    "all_data.shape"
   ]
  },
  {
   "cell_type": "code",
   "execution_count": 15,
   "id": "2d9b6c9b",
   "metadata": {
    "execution": {
     "iopub.execute_input": "2022-04-19T08:57:48.833880Z",
     "iopub.status.busy": "2022-04-19T08:57:48.833340Z",
     "iopub.status.idle": "2022-04-19T08:57:48.848869Z",
     "shell.execute_reply": "2022-04-19T08:57:48.848250Z"
    },
    "papermill": {
     "duration": 0.069521,
     "end_time": "2022-04-19T08:57:48.851368",
     "exception": false,
     "start_time": "2022-04-19T08:57:48.781847",
     "status": "completed"
    },
    "tags": []
   },
   "outputs": [
    {
     "name": "stdout",
     "output_type": "stream",
     "text": [
      "<class 'pandas.core.frame.DataFrame'>\n",
      "RangeIndex: 1000 entries, 0 to 999\n",
      "Data columns (total 22 columns):\n",
      " #   Column           Non-Null Count  Dtype  \n",
      "---  ------           --------------  -----  \n",
      " 0   ID               1000 non-null   int64  \n",
      " 1   A1_Score         1000 non-null   int64  \n",
      " 2   A2_Score         1000 non-null   int64  \n",
      " 3   A3_Score         1000 non-null   int64  \n",
      " 4   A4_Score         1000 non-null   int64  \n",
      " 5   A5_Score         1000 non-null   int64  \n",
      " 6   A6_Score         1000 non-null   int64  \n",
      " 7   A7_Score         1000 non-null   int64  \n",
      " 8   A8_Score         1000 non-null   int64  \n",
      " 9   A9_Score         1000 non-null   int64  \n",
      " 10  A10_Score        1000 non-null   int64  \n",
      " 11  age              1000 non-null   float64\n",
      " 12  gender           1000 non-null   int64  \n",
      " 13  ethnicity        1000 non-null   int64  \n",
      " 14  jaundice         1000 non-null   int64  \n",
      " 15  austim           1000 non-null   int64  \n",
      " 16  contry_of_res    1000 non-null   int64  \n",
      " 17  used_app_before  1000 non-null   int64  \n",
      " 18  result           1000 non-null   float64\n",
      " 19  age_desc         1000 non-null   int64  \n",
      " 20  relation         1000 non-null   int64  \n",
      " 21  Class/ASD        800 non-null    float64\n",
      "dtypes: float64(3), int64(19)\n",
      "memory usage: 172.0 KB\n"
     ]
    }
   ],
   "source": [
    "all_data.info()"
   ]
  },
  {
   "cell_type": "markdown",
   "id": "94755ff0",
   "metadata": {
    "papermill": {
     "duration": 0.051112,
     "end_time": "2022-04-19T08:57:48.952828",
     "exception": false,
     "start_time": "2022-04-19T08:57:48.901716",
     "status": "completed"
    },
    "tags": []
   },
   "source": [
    "### Impute data"
   ]
  },
  {
   "cell_type": "code",
   "execution_count": 16,
   "id": "97c3dd94",
   "metadata": {
    "_kg_hide-output": true,
    "execution": {
     "iopub.execute_input": "2022-04-19T08:57:49.057268Z",
     "iopub.status.busy": "2022-04-19T08:57:49.056677Z",
     "iopub.status.idle": "2022-04-19T08:57:49.067649Z",
     "shell.execute_reply": "2022-04-19T08:57:49.066861Z"
    },
    "papermill": {
     "duration": 0.066644,
     "end_time": "2022-04-19T08:57:49.070057",
     "exception": false,
     "start_time": "2022-04-19T08:57:49.003413",
     "status": "completed"
    },
    "tags": []
   },
   "outputs": [],
   "source": [
    "from sklearn.impute import KNNImputer, SimpleImputer"
   ]
  },
  {
   "cell_type": "code",
   "execution_count": 17,
   "id": "faf932f8",
   "metadata": {
    "execution": {
     "iopub.execute_input": "2022-04-19T08:57:49.173590Z",
     "iopub.status.busy": "2022-04-19T08:57:49.172950Z",
     "iopub.status.idle": "2022-04-19T08:57:49.220953Z",
     "shell.execute_reply": "2022-04-19T08:57:49.220313Z"
    },
    "papermill": {
     "duration": 0.102038,
     "end_time": "2022-04-19T08:57:49.222714",
     "exception": false,
     "start_time": "2022-04-19T08:57:49.120676",
     "status": "completed"
    },
    "tags": []
   },
   "outputs": [
    {
     "data": {
      "text/html": [
       "<div>\n",
       "<style scoped>\n",
       "    .dataframe tbody tr th:only-of-type {\n",
       "        vertical-align: middle;\n",
       "    }\n",
       "\n",
       "    .dataframe tbody tr th {\n",
       "        vertical-align: top;\n",
       "    }\n",
       "\n",
       "    .dataframe thead th {\n",
       "        text-align: right;\n",
       "    }\n",
       "</style>\n",
       "<table border=\"1\" class=\"dataframe\">\n",
       "  <thead>\n",
       "    <tr style=\"text-align: right;\">\n",
       "      <th></th>\n",
       "      <th>0</th>\n",
       "      <th>1</th>\n",
       "      <th>2</th>\n",
       "      <th>3</th>\n",
       "      <th>4</th>\n",
       "      <th>5</th>\n",
       "      <th>6</th>\n",
       "      <th>7</th>\n",
       "      <th>8</th>\n",
       "      <th>9</th>\n",
       "      <th>...</th>\n",
       "      <th>12</th>\n",
       "      <th>13</th>\n",
       "      <th>14</th>\n",
       "      <th>15</th>\n",
       "      <th>16</th>\n",
       "      <th>17</th>\n",
       "      <th>18</th>\n",
       "      <th>19</th>\n",
       "      <th>20</th>\n",
       "      <th>21</th>\n",
       "    </tr>\n",
       "  </thead>\n",
       "  <tbody>\n",
       "    <tr>\n",
       "      <th>0</th>\n",
       "      <td>1.0</td>\n",
       "      <td>1.0</td>\n",
       "      <td>0.0</td>\n",
       "      <td>1.0</td>\n",
       "      <td>0.0</td>\n",
       "      <td>1.0</td>\n",
       "      <td>0.0</td>\n",
       "      <td>1.0</td>\n",
       "      <td>0.0</td>\n",
       "      <td>1.0</td>\n",
       "      <td>...</td>\n",
       "      <td>0.0</td>\n",
       "      <td>0.0</td>\n",
       "      <td>0.0</td>\n",
       "      <td>0.0</td>\n",
       "      <td>7.0</td>\n",
       "      <td>0.0</td>\n",
       "      <td>6.351166</td>\n",
       "      <td>0.0</td>\n",
       "      <td>5.0</td>\n",
       "      <td>0.00000</td>\n",
       "    </tr>\n",
       "    <tr>\n",
       "      <th>1</th>\n",
       "      <td>2.0</td>\n",
       "      <td>0.0</td>\n",
       "      <td>0.0</td>\n",
       "      <td>0.0</td>\n",
       "      <td>0.0</td>\n",
       "      <td>0.0</td>\n",
       "      <td>0.0</td>\n",
       "      <td>0.0</td>\n",
       "      <td>0.0</td>\n",
       "      <td>0.0</td>\n",
       "      <td>...</td>\n",
       "      <td>1.0</td>\n",
       "      <td>0.0</td>\n",
       "      <td>0.0</td>\n",
       "      <td>0.0</td>\n",
       "      <td>25.0</td>\n",
       "      <td>0.0</td>\n",
       "      <td>2.255185</td>\n",
       "      <td>0.0</td>\n",
       "      <td>5.0</td>\n",
       "      <td>0.00000</td>\n",
       "    </tr>\n",
       "    <tr>\n",
       "      <th>2</th>\n",
       "      <td>3.0</td>\n",
       "      <td>1.0</td>\n",
       "      <td>1.0</td>\n",
       "      <td>1.0</td>\n",
       "      <td>1.0</td>\n",
       "      <td>1.0</td>\n",
       "      <td>1.0</td>\n",
       "      <td>1.0</td>\n",
       "      <td>1.0</td>\n",
       "      <td>1.0</td>\n",
       "      <td>...</td>\n",
       "      <td>1.0</td>\n",
       "      <td>10.0</td>\n",
       "      <td>0.0</td>\n",
       "      <td>1.0</td>\n",
       "      <td>54.0</td>\n",
       "      <td>0.0</td>\n",
       "      <td>14.851484</td>\n",
       "      <td>0.0</td>\n",
       "      <td>5.0</td>\n",
       "      <td>1.00000</td>\n",
       "    </tr>\n",
       "    <tr>\n",
       "      <th>3</th>\n",
       "      <td>4.0</td>\n",
       "      <td>0.0</td>\n",
       "      <td>0.0</td>\n",
       "      <td>0.0</td>\n",
       "      <td>0.0</td>\n",
       "      <td>0.0</td>\n",
       "      <td>0.0</td>\n",
       "      <td>0.0</td>\n",
       "      <td>0.0</td>\n",
       "      <td>0.0</td>\n",
       "      <td>...</td>\n",
       "      <td>0.0</td>\n",
       "      <td>0.0</td>\n",
       "      <td>0.0</td>\n",
       "      <td>0.0</td>\n",
       "      <td>54.0</td>\n",
       "      <td>0.0</td>\n",
       "      <td>2.276617</td>\n",
       "      <td>0.0</td>\n",
       "      <td>5.0</td>\n",
       "      <td>0.00000</td>\n",
       "    </tr>\n",
       "    <tr>\n",
       "      <th>4</th>\n",
       "      <td>5.0</td>\n",
       "      <td>0.0</td>\n",
       "      <td>0.0</td>\n",
       "      <td>0.0</td>\n",
       "      <td>0.0</td>\n",
       "      <td>0.0</td>\n",
       "      <td>0.0</td>\n",
       "      <td>0.0</td>\n",
       "      <td>0.0</td>\n",
       "      <td>0.0</td>\n",
       "      <td>...</td>\n",
       "      <td>1.0</td>\n",
       "      <td>0.0</td>\n",
       "      <td>0.0</td>\n",
       "      <td>0.0</td>\n",
       "      <td>46.0</td>\n",
       "      <td>0.0</td>\n",
       "      <td>-4.777286</td>\n",
       "      <td>0.0</td>\n",
       "      <td>5.0</td>\n",
       "      <td>0.00000</td>\n",
       "    </tr>\n",
       "    <tr>\n",
       "      <th>...</th>\n",
       "      <td>...</td>\n",
       "      <td>...</td>\n",
       "      <td>...</td>\n",
       "      <td>...</td>\n",
       "      <td>...</td>\n",
       "      <td>...</td>\n",
       "      <td>...</td>\n",
       "      <td>...</td>\n",
       "      <td>...</td>\n",
       "      <td>...</td>\n",
       "      <td>...</td>\n",
       "      <td>...</td>\n",
       "      <td>...</td>\n",
       "      <td>...</td>\n",
       "      <td>...</td>\n",
       "      <td>...</td>\n",
       "      <td>...</td>\n",
       "      <td>...</td>\n",
       "      <td>...</td>\n",
       "      <td>...</td>\n",
       "      <td>...</td>\n",
       "    </tr>\n",
       "    <tr>\n",
       "      <th>995</th>\n",
       "      <td>196.0</td>\n",
       "      <td>1.0</td>\n",
       "      <td>1.0</td>\n",
       "      <td>0.0</td>\n",
       "      <td>0.0</td>\n",
       "      <td>1.0</td>\n",
       "      <td>0.0</td>\n",
       "      <td>0.0</td>\n",
       "      <td>1.0</td>\n",
       "      <td>1.0</td>\n",
       "      <td>...</td>\n",
       "      <td>1.0</td>\n",
       "      <td>2.0</td>\n",
       "      <td>0.0</td>\n",
       "      <td>0.0</td>\n",
       "      <td>4.0</td>\n",
       "      <td>0.0</td>\n",
       "      <td>-1.915659</td>\n",
       "      <td>0.0</td>\n",
       "      <td>5.0</td>\n",
       "      <td>0.20125</td>\n",
       "    </tr>\n",
       "    <tr>\n",
       "      <th>996</th>\n",
       "      <td>197.0</td>\n",
       "      <td>1.0</td>\n",
       "      <td>0.0</td>\n",
       "      <td>0.0</td>\n",
       "      <td>0.0</td>\n",
       "      <td>0.0</td>\n",
       "      <td>0.0</td>\n",
       "      <td>0.0</td>\n",
       "      <td>0.0</td>\n",
       "      <td>0.0</td>\n",
       "      <td>...</td>\n",
       "      <td>1.0</td>\n",
       "      <td>6.0</td>\n",
       "      <td>0.0</td>\n",
       "      <td>0.0</td>\n",
       "      <td>14.0</td>\n",
       "      <td>0.0</td>\n",
       "      <td>0.520234</td>\n",
       "      <td>0.0</td>\n",
       "      <td>5.0</td>\n",
       "      <td>0.20125</td>\n",
       "    </tr>\n",
       "    <tr>\n",
       "      <th>997</th>\n",
       "      <td>198.0</td>\n",
       "      <td>1.0</td>\n",
       "      <td>0.0</td>\n",
       "      <td>0.0</td>\n",
       "      <td>0.0</td>\n",
       "      <td>0.0</td>\n",
       "      <td>0.0</td>\n",
       "      <td>1.0</td>\n",
       "      <td>0.0</td>\n",
       "      <td>1.0</td>\n",
       "      <td>...</td>\n",
       "      <td>1.0</td>\n",
       "      <td>0.0</td>\n",
       "      <td>0.0</td>\n",
       "      <td>0.0</td>\n",
       "      <td>23.0</td>\n",
       "      <td>0.0</td>\n",
       "      <td>3.498948</td>\n",
       "      <td>0.0</td>\n",
       "      <td>0.0</td>\n",
       "      <td>0.20125</td>\n",
       "    </tr>\n",
       "    <tr>\n",
       "      <th>998</th>\n",
       "      <td>199.0</td>\n",
       "      <td>0.0</td>\n",
       "      <td>1.0</td>\n",
       "      <td>0.0</td>\n",
       "      <td>0.0</td>\n",
       "      <td>0.0</td>\n",
       "      <td>0.0</td>\n",
       "      <td>0.0</td>\n",
       "      <td>1.0</td>\n",
       "      <td>0.0</td>\n",
       "      <td>...</td>\n",
       "      <td>0.0</td>\n",
       "      <td>0.0</td>\n",
       "      <td>0.0</td>\n",
       "      <td>0.0</td>\n",
       "      <td>32.0</td>\n",
       "      <td>0.0</td>\n",
       "      <td>5.594550</td>\n",
       "      <td>0.0</td>\n",
       "      <td>5.0</td>\n",
       "      <td>0.20125</td>\n",
       "    </tr>\n",
       "    <tr>\n",
       "      <th>999</th>\n",
       "      <td>200.0</td>\n",
       "      <td>1.0</td>\n",
       "      <td>0.0</td>\n",
       "      <td>0.0</td>\n",
       "      <td>0.0</td>\n",
       "      <td>0.0</td>\n",
       "      <td>0.0</td>\n",
       "      <td>1.0</td>\n",
       "      <td>1.0</td>\n",
       "      <td>0.0</td>\n",
       "      <td>...</td>\n",
       "      <td>0.0</td>\n",
       "      <td>6.0</td>\n",
       "      <td>0.0</td>\n",
       "      <td>0.0</td>\n",
       "      <td>9.0</td>\n",
       "      <td>0.0</td>\n",
       "      <td>9.532981</td>\n",
       "      <td>0.0</td>\n",
       "      <td>5.0</td>\n",
       "      <td>0.20125</td>\n",
       "    </tr>\n",
       "  </tbody>\n",
       "</table>\n",
       "<p>1000 rows × 22 columns</p>\n",
       "</div>"
      ],
      "text/plain": [
       "        0    1    2    3    4    5    6    7    8    9   ...   12    13   14  \\\n",
       "0      1.0  1.0  0.0  1.0  0.0  1.0  0.0  1.0  0.0  1.0  ...  0.0   0.0  0.0   \n",
       "1      2.0  0.0  0.0  0.0  0.0  0.0  0.0  0.0  0.0  0.0  ...  1.0   0.0  0.0   \n",
       "2      3.0  1.0  1.0  1.0  1.0  1.0  1.0  1.0  1.0  1.0  ...  1.0  10.0  0.0   \n",
       "3      4.0  0.0  0.0  0.0  0.0  0.0  0.0  0.0  0.0  0.0  ...  0.0   0.0  0.0   \n",
       "4      5.0  0.0  0.0  0.0  0.0  0.0  0.0  0.0  0.0  0.0  ...  1.0   0.0  0.0   \n",
       "..     ...  ...  ...  ...  ...  ...  ...  ...  ...  ...  ...  ...   ...  ...   \n",
       "995  196.0  1.0  1.0  0.0  0.0  1.0  0.0  0.0  1.0  1.0  ...  1.0   2.0  0.0   \n",
       "996  197.0  1.0  0.0  0.0  0.0  0.0  0.0  0.0  0.0  0.0  ...  1.0   6.0  0.0   \n",
       "997  198.0  1.0  0.0  0.0  0.0  0.0  0.0  1.0  0.0  1.0  ...  1.0   0.0  0.0   \n",
       "998  199.0  0.0  1.0  0.0  0.0  0.0  0.0  0.0  1.0  0.0  ...  0.0   0.0  0.0   \n",
       "999  200.0  1.0  0.0  0.0  0.0  0.0  0.0  1.0  1.0  0.0  ...  0.0   6.0  0.0   \n",
       "\n",
       "      15    16   17         18   19   20       21  \n",
       "0    0.0   7.0  0.0   6.351166  0.0  5.0  0.00000  \n",
       "1    0.0  25.0  0.0   2.255185  0.0  5.0  0.00000  \n",
       "2    1.0  54.0  0.0  14.851484  0.0  5.0  1.00000  \n",
       "3    0.0  54.0  0.0   2.276617  0.0  5.0  0.00000  \n",
       "4    0.0  46.0  0.0  -4.777286  0.0  5.0  0.00000  \n",
       "..   ...   ...  ...        ...  ...  ...      ...  \n",
       "995  0.0   4.0  0.0  -1.915659  0.0  5.0  0.20125  \n",
       "996  0.0  14.0  0.0   0.520234  0.0  5.0  0.20125  \n",
       "997  0.0  23.0  0.0   3.498948  0.0  0.0  0.20125  \n",
       "998  0.0  32.0  0.0   5.594550  0.0  5.0  0.20125  \n",
       "999  0.0   9.0  0.0   9.532981  0.0  5.0  0.20125  \n",
       "\n",
       "[1000 rows x 22 columns]"
      ]
     },
     "execution_count": 17,
     "metadata": {},
     "output_type": "execute_result"
    }
   ],
   "source": [
    "spim = SimpleImputer()\n",
    "spimput_data = pd.DataFrame(spim.fit_transform(all_data))\n",
    "spimput_data"
   ]
  },
  {
   "cell_type": "code",
   "execution_count": 18,
   "id": "d4f29046",
   "metadata": {
    "execution": {
     "iopub.execute_input": "2022-04-19T08:57:49.327330Z",
     "iopub.status.busy": "2022-04-19T08:57:49.327002Z",
     "iopub.status.idle": "2022-04-19T08:57:49.442155Z",
     "shell.execute_reply": "2022-04-19T08:57:49.441211Z"
    },
    "papermill": {
     "duration": 0.171098,
     "end_time": "2022-04-19T08:57:49.445308",
     "exception": false,
     "start_time": "2022-04-19T08:57:49.274210",
     "status": "completed"
    },
    "tags": []
   },
   "outputs": [
    {
     "data": {
      "text/html": [
       "<div>\n",
       "<style scoped>\n",
       "    .dataframe tbody tr th:only-of-type {\n",
       "        vertical-align: middle;\n",
       "    }\n",
       "\n",
       "    .dataframe tbody tr th {\n",
       "        vertical-align: top;\n",
       "    }\n",
       "\n",
       "    .dataframe thead th {\n",
       "        text-align: right;\n",
       "    }\n",
       "</style>\n",
       "<table border=\"1\" class=\"dataframe\">\n",
       "  <thead>\n",
       "    <tr style=\"text-align: right;\">\n",
       "      <th></th>\n",
       "      <th>0</th>\n",
       "      <th>1</th>\n",
       "      <th>2</th>\n",
       "      <th>3</th>\n",
       "      <th>4</th>\n",
       "      <th>5</th>\n",
       "      <th>6</th>\n",
       "      <th>7</th>\n",
       "      <th>8</th>\n",
       "      <th>9</th>\n",
       "      <th>...</th>\n",
       "      <th>12</th>\n",
       "      <th>13</th>\n",
       "      <th>14</th>\n",
       "      <th>15</th>\n",
       "      <th>16</th>\n",
       "      <th>17</th>\n",
       "      <th>18</th>\n",
       "      <th>19</th>\n",
       "      <th>20</th>\n",
       "      <th>21</th>\n",
       "    </tr>\n",
       "  </thead>\n",
       "  <tbody>\n",
       "    <tr>\n",
       "      <th>0</th>\n",
       "      <td>1.0</td>\n",
       "      <td>1.0</td>\n",
       "      <td>0.0</td>\n",
       "      <td>1.0</td>\n",
       "      <td>0.0</td>\n",
       "      <td>1.0</td>\n",
       "      <td>0.0</td>\n",
       "      <td>1.0</td>\n",
       "      <td>0.0</td>\n",
       "      <td>1.0</td>\n",
       "      <td>...</td>\n",
       "      <td>0.0</td>\n",
       "      <td>0.0</td>\n",
       "      <td>0.0</td>\n",
       "      <td>0.0</td>\n",
       "      <td>7.0</td>\n",
       "      <td>0.0</td>\n",
       "      <td>6.351166</td>\n",
       "      <td>0.0</td>\n",
       "      <td>5.0</td>\n",
       "      <td>0.0</td>\n",
       "    </tr>\n",
       "    <tr>\n",
       "      <th>1</th>\n",
       "      <td>2.0</td>\n",
       "      <td>0.0</td>\n",
       "      <td>0.0</td>\n",
       "      <td>0.0</td>\n",
       "      <td>0.0</td>\n",
       "      <td>0.0</td>\n",
       "      <td>0.0</td>\n",
       "      <td>0.0</td>\n",
       "      <td>0.0</td>\n",
       "      <td>0.0</td>\n",
       "      <td>...</td>\n",
       "      <td>1.0</td>\n",
       "      <td>0.0</td>\n",
       "      <td>0.0</td>\n",
       "      <td>0.0</td>\n",
       "      <td>25.0</td>\n",
       "      <td>0.0</td>\n",
       "      <td>2.255185</td>\n",
       "      <td>0.0</td>\n",
       "      <td>5.0</td>\n",
       "      <td>0.0</td>\n",
       "    </tr>\n",
       "    <tr>\n",
       "      <th>2</th>\n",
       "      <td>3.0</td>\n",
       "      <td>1.0</td>\n",
       "      <td>1.0</td>\n",
       "      <td>1.0</td>\n",
       "      <td>1.0</td>\n",
       "      <td>1.0</td>\n",
       "      <td>1.0</td>\n",
       "      <td>1.0</td>\n",
       "      <td>1.0</td>\n",
       "      <td>1.0</td>\n",
       "      <td>...</td>\n",
       "      <td>1.0</td>\n",
       "      <td>10.0</td>\n",
       "      <td>0.0</td>\n",
       "      <td>1.0</td>\n",
       "      <td>54.0</td>\n",
       "      <td>0.0</td>\n",
       "      <td>14.851484</td>\n",
       "      <td>0.0</td>\n",
       "      <td>5.0</td>\n",
       "      <td>1.0</td>\n",
       "    </tr>\n",
       "    <tr>\n",
       "      <th>3</th>\n",
       "      <td>4.0</td>\n",
       "      <td>0.0</td>\n",
       "      <td>0.0</td>\n",
       "      <td>0.0</td>\n",
       "      <td>0.0</td>\n",
       "      <td>0.0</td>\n",
       "      <td>0.0</td>\n",
       "      <td>0.0</td>\n",
       "      <td>0.0</td>\n",
       "      <td>0.0</td>\n",
       "      <td>...</td>\n",
       "      <td>0.0</td>\n",
       "      <td>0.0</td>\n",
       "      <td>0.0</td>\n",
       "      <td>0.0</td>\n",
       "      <td>54.0</td>\n",
       "      <td>0.0</td>\n",
       "      <td>2.276617</td>\n",
       "      <td>0.0</td>\n",
       "      <td>5.0</td>\n",
       "      <td>0.0</td>\n",
       "    </tr>\n",
       "    <tr>\n",
       "      <th>4</th>\n",
       "      <td>5.0</td>\n",
       "      <td>0.0</td>\n",
       "      <td>0.0</td>\n",
       "      <td>0.0</td>\n",
       "      <td>0.0</td>\n",
       "      <td>0.0</td>\n",
       "      <td>0.0</td>\n",
       "      <td>0.0</td>\n",
       "      <td>0.0</td>\n",
       "      <td>0.0</td>\n",
       "      <td>...</td>\n",
       "      <td>1.0</td>\n",
       "      <td>0.0</td>\n",
       "      <td>0.0</td>\n",
       "      <td>0.0</td>\n",
       "      <td>46.0</td>\n",
       "      <td>0.0</td>\n",
       "      <td>-4.777286</td>\n",
       "      <td>0.0</td>\n",
       "      <td>5.0</td>\n",
       "      <td>0.0</td>\n",
       "    </tr>\n",
       "    <tr>\n",
       "      <th>...</th>\n",
       "      <td>...</td>\n",
       "      <td>...</td>\n",
       "      <td>...</td>\n",
       "      <td>...</td>\n",
       "      <td>...</td>\n",
       "      <td>...</td>\n",
       "      <td>...</td>\n",
       "      <td>...</td>\n",
       "      <td>...</td>\n",
       "      <td>...</td>\n",
       "      <td>...</td>\n",
       "      <td>...</td>\n",
       "      <td>...</td>\n",
       "      <td>...</td>\n",
       "      <td>...</td>\n",
       "      <td>...</td>\n",
       "      <td>...</td>\n",
       "      <td>...</td>\n",
       "      <td>...</td>\n",
       "      <td>...</td>\n",
       "      <td>...</td>\n",
       "    </tr>\n",
       "    <tr>\n",
       "      <th>995</th>\n",
       "      <td>196.0</td>\n",
       "      <td>1.0</td>\n",
       "      <td>1.0</td>\n",
       "      <td>0.0</td>\n",
       "      <td>0.0</td>\n",
       "      <td>1.0</td>\n",
       "      <td>0.0</td>\n",
       "      <td>0.0</td>\n",
       "      <td>1.0</td>\n",
       "      <td>1.0</td>\n",
       "      <td>...</td>\n",
       "      <td>1.0</td>\n",
       "      <td>2.0</td>\n",
       "      <td>0.0</td>\n",
       "      <td>0.0</td>\n",
       "      <td>4.0</td>\n",
       "      <td>0.0</td>\n",
       "      <td>-1.915659</td>\n",
       "      <td>0.0</td>\n",
       "      <td>5.0</td>\n",
       "      <td>0.0</td>\n",
       "    </tr>\n",
       "    <tr>\n",
       "      <th>996</th>\n",
       "      <td>197.0</td>\n",
       "      <td>1.0</td>\n",
       "      <td>0.0</td>\n",
       "      <td>0.0</td>\n",
       "      <td>0.0</td>\n",
       "      <td>0.0</td>\n",
       "      <td>0.0</td>\n",
       "      <td>0.0</td>\n",
       "      <td>0.0</td>\n",
       "      <td>0.0</td>\n",
       "      <td>...</td>\n",
       "      <td>1.0</td>\n",
       "      <td>6.0</td>\n",
       "      <td>0.0</td>\n",
       "      <td>0.0</td>\n",
       "      <td>14.0</td>\n",
       "      <td>0.0</td>\n",
       "      <td>0.520234</td>\n",
       "      <td>0.0</td>\n",
       "      <td>5.0</td>\n",
       "      <td>0.0</td>\n",
       "    </tr>\n",
       "    <tr>\n",
       "      <th>997</th>\n",
       "      <td>198.0</td>\n",
       "      <td>1.0</td>\n",
       "      <td>0.0</td>\n",
       "      <td>0.0</td>\n",
       "      <td>0.0</td>\n",
       "      <td>0.0</td>\n",
       "      <td>0.0</td>\n",
       "      <td>1.0</td>\n",
       "      <td>0.0</td>\n",
       "      <td>1.0</td>\n",
       "      <td>...</td>\n",
       "      <td>1.0</td>\n",
       "      <td>0.0</td>\n",
       "      <td>0.0</td>\n",
       "      <td>0.0</td>\n",
       "      <td>23.0</td>\n",
       "      <td>0.0</td>\n",
       "      <td>3.498948</td>\n",
       "      <td>0.0</td>\n",
       "      <td>0.0</td>\n",
       "      <td>0.0</td>\n",
       "    </tr>\n",
       "    <tr>\n",
       "      <th>998</th>\n",
       "      <td>199.0</td>\n",
       "      <td>0.0</td>\n",
       "      <td>1.0</td>\n",
       "      <td>0.0</td>\n",
       "      <td>0.0</td>\n",
       "      <td>0.0</td>\n",
       "      <td>0.0</td>\n",
       "      <td>0.0</td>\n",
       "      <td>1.0</td>\n",
       "      <td>0.0</td>\n",
       "      <td>...</td>\n",
       "      <td>0.0</td>\n",
       "      <td>0.0</td>\n",
       "      <td>0.0</td>\n",
       "      <td>0.0</td>\n",
       "      <td>32.0</td>\n",
       "      <td>0.0</td>\n",
       "      <td>5.594550</td>\n",
       "      <td>0.0</td>\n",
       "      <td>5.0</td>\n",
       "      <td>0.0</td>\n",
       "    </tr>\n",
       "    <tr>\n",
       "      <th>999</th>\n",
       "      <td>200.0</td>\n",
       "      <td>1.0</td>\n",
       "      <td>0.0</td>\n",
       "      <td>0.0</td>\n",
       "      <td>0.0</td>\n",
       "      <td>0.0</td>\n",
       "      <td>0.0</td>\n",
       "      <td>1.0</td>\n",
       "      <td>1.0</td>\n",
       "      <td>0.0</td>\n",
       "      <td>...</td>\n",
       "      <td>0.0</td>\n",
       "      <td>6.0</td>\n",
       "      <td>0.0</td>\n",
       "      <td>0.0</td>\n",
       "      <td>9.0</td>\n",
       "      <td>0.0</td>\n",
       "      <td>9.532981</td>\n",
       "      <td>0.0</td>\n",
       "      <td>5.0</td>\n",
       "      <td>0.5</td>\n",
       "    </tr>\n",
       "  </tbody>\n",
       "</table>\n",
       "<p>1000 rows × 22 columns</p>\n",
       "</div>"
      ],
      "text/plain": [
       "        0    1    2    3    4    5    6    7    8    9   ...   12    13   14  \\\n",
       "0      1.0  1.0  0.0  1.0  0.0  1.0  0.0  1.0  0.0  1.0  ...  0.0   0.0  0.0   \n",
       "1      2.0  0.0  0.0  0.0  0.0  0.0  0.0  0.0  0.0  0.0  ...  1.0   0.0  0.0   \n",
       "2      3.0  1.0  1.0  1.0  1.0  1.0  1.0  1.0  1.0  1.0  ...  1.0  10.0  0.0   \n",
       "3      4.0  0.0  0.0  0.0  0.0  0.0  0.0  0.0  0.0  0.0  ...  0.0   0.0  0.0   \n",
       "4      5.0  0.0  0.0  0.0  0.0  0.0  0.0  0.0  0.0  0.0  ...  1.0   0.0  0.0   \n",
       "..     ...  ...  ...  ...  ...  ...  ...  ...  ...  ...  ...  ...   ...  ...   \n",
       "995  196.0  1.0  1.0  0.0  0.0  1.0  0.0  0.0  1.0  1.0  ...  1.0   2.0  0.0   \n",
       "996  197.0  1.0  0.0  0.0  0.0  0.0  0.0  0.0  0.0  0.0  ...  1.0   6.0  0.0   \n",
       "997  198.0  1.0  0.0  0.0  0.0  0.0  0.0  1.0  0.0  1.0  ...  1.0   0.0  0.0   \n",
       "998  199.0  0.0  1.0  0.0  0.0  0.0  0.0  0.0  1.0  0.0  ...  0.0   0.0  0.0   \n",
       "999  200.0  1.0  0.0  0.0  0.0  0.0  0.0  1.0  1.0  0.0  ...  0.0   6.0  0.0   \n",
       "\n",
       "      15    16   17         18   19   20   21  \n",
       "0    0.0   7.0  0.0   6.351166  0.0  5.0  0.0  \n",
       "1    0.0  25.0  0.0   2.255185  0.0  5.0  0.0  \n",
       "2    1.0  54.0  0.0  14.851484  0.0  5.0  1.0  \n",
       "3    0.0  54.0  0.0   2.276617  0.0  5.0  0.0  \n",
       "4    0.0  46.0  0.0  -4.777286  0.0  5.0  0.0  \n",
       "..   ...   ...  ...        ...  ...  ...  ...  \n",
       "995  0.0   4.0  0.0  -1.915659  0.0  5.0  0.0  \n",
       "996  0.0  14.0  0.0   0.520234  0.0  5.0  0.0  \n",
       "997  0.0  23.0  0.0   3.498948  0.0  0.0  0.0  \n",
       "998  0.0  32.0  0.0   5.594550  0.0  5.0  0.0  \n",
       "999  0.0   9.0  0.0   9.532981  0.0  5.0  0.5  \n",
       "\n",
       "[1000 rows x 22 columns]"
      ]
     },
     "execution_count": 18,
     "metadata": {},
     "output_type": "execute_result"
    }
   ],
   "source": [
    "imputer = KNNImputer(n_neighbors=2, weights=\"uniform\")\n",
    "imput_data = pd.DataFrame(imputer.fit_transform(all_data))\n",
    "imput_data"
   ]
  },
  {
   "cell_type": "markdown",
   "id": "44c8a0b9",
   "metadata": {
    "papermill": {
     "duration": 0.052109,
     "end_time": "2022-04-19T08:57:49.564292",
     "exception": false,
     "start_time": "2022-04-19T08:57:49.512183",
     "status": "completed"
    },
    "tags": []
   },
   "source": [
    "### Rename cols"
   ]
  },
  {
   "cell_type": "code",
   "execution_count": 19,
   "id": "767f278f",
   "metadata": {
    "execution": {
     "iopub.execute_input": "2022-04-19T08:57:49.670350Z",
     "iopub.status.busy": "2022-04-19T08:57:49.669624Z",
     "iopub.status.idle": "2022-04-19T08:57:49.675752Z",
     "shell.execute_reply": "2022-04-19T08:57:49.675177Z"
    },
    "papermill": {
     "duration": 0.061647,
     "end_time": "2022-04-19T08:57:49.677984",
     "exception": false,
     "start_time": "2022-04-19T08:57:49.616337",
     "status": "completed"
    },
    "tags": []
   },
   "outputs": [
    {
     "data": {
      "text/plain": [
       "['ID',\n",
       " 'A1_Score',\n",
       " 'A2_Score',\n",
       " 'A3_Score',\n",
       " 'A4_Score',\n",
       " 'A5_Score',\n",
       " 'A6_Score',\n",
       " 'A7_Score',\n",
       " 'A8_Score',\n",
       " 'A9_Score',\n",
       " 'A10_Score',\n",
       " 'age',\n",
       " 'gender',\n",
       " 'ethnicity',\n",
       " 'jaundice',\n",
       " 'austim',\n",
       " 'contry_of_res',\n",
       " 'used_app_before',\n",
       " 'result',\n",
       " 'age_desc',\n",
       " 'relation',\n",
       " 'Class/ASD']"
      ]
     },
     "execution_count": 19,
     "metadata": {},
     "output_type": "execute_result"
    }
   ],
   "source": [
    "all_data.columns.tolist()"
   ]
  },
  {
   "cell_type": "code",
   "execution_count": 20,
   "id": "f0973530",
   "metadata": {
    "execution": {
     "iopub.execute_input": "2022-04-19T08:57:49.786593Z",
     "iopub.status.busy": "2022-04-19T08:57:49.786001Z",
     "iopub.status.idle": "2022-04-19T08:57:49.791295Z",
     "shell.execute_reply": "2022-04-19T08:57:49.790751Z"
    },
    "papermill": {
     "duration": 0.062104,
     "end_time": "2022-04-19T08:57:49.793531",
     "exception": false,
     "start_time": "2022-04-19T08:57:49.731427",
     "status": "completed"
    },
    "tags": []
   },
   "outputs": [],
   "source": [
    "col_names = {0:'ID', 1:'A1_Score', 2:'A2_Score', 3:'A3_Score', 4:'A4_Score', 5:'A5_Score', 6:'A6_Score',\n",
    " 7:'A7_Score', 8:'A8_Score', 9:'A9_Score', 10:'A10_Score', 11:'age', 12:'gender', 13:'ethnicity', 14:'jaundice',\n",
    " 15:'austim', 16:'contry_of_res', 17:'used_app_before', 18:'result', 19:'age_desc', 20:'relation', 21:'Class/ASD'}"
   ]
  },
  {
   "cell_type": "code",
   "execution_count": 21,
   "id": "dd32308f",
   "metadata": {
    "execution": {
     "iopub.execute_input": "2022-04-19T08:57:49.902118Z",
     "iopub.status.busy": "2022-04-19T08:57:49.901756Z",
     "iopub.status.idle": "2022-04-19T08:57:49.914037Z",
     "shell.execute_reply": "2022-04-19T08:57:49.913149Z"
    },
    "papermill": {
     "duration": 0.069217,
     "end_time": "2022-04-19T08:57:49.916237",
     "exception": false,
     "start_time": "2022-04-19T08:57:49.847020",
     "status": "completed"
    },
    "tags": []
   },
   "outputs": [
    {
     "data": {
      "text/plain": [
       "0.00000    639\n",
       "0.20125    200\n",
       "1.00000    161\n",
       "Name: Class/ASD, dtype: int64"
      ]
     },
     "execution_count": 21,
     "metadata": {},
     "output_type": "execute_result"
    }
   ],
   "source": [
    "spimput_data.rename(columns = col_names, inplace = True)\n",
    "spimput_data['Class/ASD'].value_counts()"
   ]
  },
  {
   "cell_type": "code",
   "execution_count": 22,
   "id": "600bc15c",
   "metadata": {
    "execution": {
     "iopub.execute_input": "2022-04-19T08:57:50.025420Z",
     "iopub.status.busy": "2022-04-19T08:57:50.024533Z",
     "iopub.status.idle": "2022-04-19T08:57:50.034068Z",
     "shell.execute_reply": "2022-04-19T08:57:50.033415Z"
    },
    "papermill": {
     "duration": 0.066384,
     "end_time": "2022-04-19T08:57:50.036202",
     "exception": false,
     "start_time": "2022-04-19T08:57:49.969818",
     "status": "completed"
    },
    "tags": []
   },
   "outputs": [
    {
     "data": {
      "text/plain": [
       "0.0    798\n",
       "1.0    167\n",
       "0.5     35\n",
       "Name: Class/ASD, dtype: int64"
      ]
     },
     "execution_count": 22,
     "metadata": {},
     "output_type": "execute_result"
    }
   ],
   "source": [
    "imput_data.rename(columns = col_names, inplace = True)\n",
    "imput_data['Class/ASD'].value_counts()"
   ]
  },
  {
   "cell_type": "code",
   "execution_count": 23,
   "id": "f8a92fbd",
   "metadata": {
    "execution": {
     "iopub.execute_input": "2022-04-19T08:57:50.146800Z",
     "iopub.status.busy": "2022-04-19T08:57:50.145965Z",
     "iopub.status.idle": "2022-04-19T08:57:50.153111Z",
     "shell.execute_reply": "2022-04-19T08:57:50.152526Z"
    },
    "papermill": {
     "duration": 0.064337,
     "end_time": "2022-04-19T08:57:50.155039",
     "exception": false,
     "start_time": "2022-04-19T08:57:50.090702",
     "status": "completed"
    },
    "tags": []
   },
   "outputs": [],
   "source": [
    "imput_data['Class/ASD'][ imput_data['Class/ASD'] == 0.5] = 1"
   ]
  },
  {
   "cell_type": "code",
   "execution_count": 24,
   "id": "ec2ecc9a",
   "metadata": {
    "execution": {
     "iopub.execute_input": "2022-04-19T08:57:50.266161Z",
     "iopub.status.busy": "2022-04-19T08:57:50.265201Z",
     "iopub.status.idle": "2022-04-19T08:57:50.272765Z",
     "shell.execute_reply": "2022-04-19T08:57:50.272186Z"
    },
    "papermill": {
     "duration": 0.065409,
     "end_time": "2022-04-19T08:57:50.274778",
     "exception": false,
     "start_time": "2022-04-19T08:57:50.209369",
     "status": "completed"
    },
    "tags": []
   },
   "outputs": [
    {
     "data": {
      "text/plain": [
       "0.0    798\n",
       "1.0    202\n",
       "Name: Class/ASD, dtype: int64"
      ]
     },
     "execution_count": 24,
     "metadata": {},
     "output_type": "execute_result"
    }
   ],
   "source": [
    "imput_data['Class/ASD'].value_counts()"
   ]
  },
  {
   "cell_type": "code",
   "execution_count": 25,
   "id": "d6602e26",
   "metadata": {
    "execution": {
     "iopub.execute_input": "2022-04-19T08:57:50.385841Z",
     "iopub.status.busy": "2022-04-19T08:57:50.385321Z",
     "iopub.status.idle": "2022-04-19T08:57:50.392467Z",
     "shell.execute_reply": "2022-04-19T08:57:50.391917Z"
    },
    "papermill": {
     "duration": 0.065125,
     "end_time": "2022-04-19T08:57:50.394284",
     "exception": false,
     "start_time": "2022-04-19T08:57:50.329159",
     "status": "completed"
    },
    "tags": []
   },
   "outputs": [
    {
     "data": {
      "text/plain": [
       "(1000, 20)"
      ]
     },
     "execution_count": 25,
     "metadata": {},
     "output_type": "execute_result"
    }
   ],
   "source": [
    "X_ = imput_data.copy()\n",
    "del X_['ID']\n",
    "y_ = X_.pop('Class/ASD')\n",
    "X_.shape"
   ]
  },
  {
   "cell_type": "code",
   "execution_count": 26,
   "id": "be976dac",
   "metadata": {
    "execution": {
     "iopub.execute_input": "2022-04-19T08:57:50.506154Z",
     "iopub.status.busy": "2022-04-19T08:57:50.505531Z",
     "iopub.status.idle": "2022-04-19T08:57:50.912459Z",
     "shell.execute_reply": "2022-04-19T08:57:50.911793Z"
    },
    "papermill": {
     "duration": 0.466174,
     "end_time": "2022-04-19T08:57:50.915687",
     "exception": false,
     "start_time": "2022-04-19T08:57:50.449513",
     "status": "completed"
    },
    "tags": []
   },
   "outputs": [
    {
     "name": "stderr",
     "output_type": "stream",
     "text": [
      "/opt/conda/lib/python3.7/site-packages/xgboost/sklearn.py:1224: UserWarning: The use of label encoder in XGBClassifier is deprecated and will be removed in a future release. To remove this warning, do the following: 1) Pass option use_label_encoder=False when constructing XGBClassifier object; and 2) Encode your labels (y) as integers starting with 0, i.e. 0, 1, 2, ..., [num_class - 1].\n",
      "  warnings.warn(label_encoder_deprecation_msg, UserWarning)\n"
     ]
    },
    {
     "name": "stdout",
     "output_type": "stream",
     "text": [
      "[08:57:50] WARNING: ../src/learner.cc:1115: Starting in XGBoost 1.3.0, the default evaluation metric used with the objective 'binary:logistic' was changed from 'error' to 'logloss'. Explicitly set eval_metric if you'd like to restore the old behavior.\n",
      "AUC: 1.00000\n"
     ]
    }
   ],
   "source": [
    "model = XGBClassifier()\n",
    "model.fit(X_, y_)\n",
    "\n",
    "pred = model.predict(X_test)\n",
    "auc = roc_auc_score(y_test, pred)\n",
    "print(\"AUC: %.5f\" % auc)\n",
    "\n",
    "# AUC: 0.74328\n",
    "# X, y : AUC: 1.00000"
   ]
  },
  {
   "cell_type": "code",
   "execution_count": 27,
   "id": "3a67c1a2",
   "metadata": {
    "execution": {
     "iopub.execute_input": "2022-04-19T08:57:51.033041Z",
     "iopub.status.busy": "2022-04-19T08:57:51.032668Z",
     "iopub.status.idle": "2022-04-19T08:57:51.047756Z",
     "shell.execute_reply": "2022-04-19T08:57:51.046620Z"
    },
    "papermill": {
     "duration": 0.076095,
     "end_time": "2022-04-19T08:57:51.049966",
     "exception": false,
     "start_time": "2022-04-19T08:57:50.973871",
     "status": "completed"
    },
    "tags": []
   },
   "outputs": [
    {
     "data": {
      "text/html": [
       "<div>\n",
       "<style scoped>\n",
       "    .dataframe tbody tr th:only-of-type {\n",
       "        vertical-align: middle;\n",
       "    }\n",
       "\n",
       "    .dataframe tbody tr th {\n",
       "        vertical-align: top;\n",
       "    }\n",
       "\n",
       "    .dataframe thead th {\n",
       "        text-align: right;\n",
       "    }\n",
       "</style>\n",
       "<table border=\"1\" class=\"dataframe\">\n",
       "  <thead>\n",
       "    <tr style=\"text-align: right;\">\n",
       "      <th></th>\n",
       "      <th>Value</th>\n",
       "      <th>Feature</th>\n",
       "    </tr>\n",
       "  </thead>\n",
       "  <tbody>\n",
       "    <tr>\n",
       "      <th>2</th>\n",
       "      <td>0.177731</td>\n",
       "      <td>A3_Score</td>\n",
       "    </tr>\n",
       "    <tr>\n",
       "      <th>3</th>\n",
       "      <td>0.170009</td>\n",
       "      <td>A4_Score</td>\n",
       "    </tr>\n",
       "    <tr>\n",
       "      <th>5</th>\n",
       "      <td>0.160009</td>\n",
       "      <td>A6_Score</td>\n",
       "    </tr>\n",
       "    <tr>\n",
       "      <th>8</th>\n",
       "      <td>0.060779</td>\n",
       "      <td>A9_Score</td>\n",
       "    </tr>\n",
       "    <tr>\n",
       "      <th>0</th>\n",
       "      <td>0.039361</td>\n",
       "      <td>A1_Score</td>\n",
       "    </tr>\n",
       "    <tr>\n",
       "      <th>12</th>\n",
       "      <td>0.037418</td>\n",
       "      <td>ethnicity</td>\n",
       "    </tr>\n",
       "    <tr>\n",
       "      <th>4</th>\n",
       "      <td>0.036229</td>\n",
       "      <td>A5_Score</td>\n",
       "    </tr>\n",
       "    <tr>\n",
       "      <th>1</th>\n",
       "      <td>0.035276</td>\n",
       "      <td>A2_Score</td>\n",
       "    </tr>\n",
       "    <tr>\n",
       "      <th>9</th>\n",
       "      <td>0.033351</td>\n",
       "      <td>A10_Score</td>\n",
       "    </tr>\n",
       "    <tr>\n",
       "      <th>15</th>\n",
       "      <td>0.033054</td>\n",
       "      <td>contry_of_res</td>\n",
       "    </tr>\n",
       "    <tr>\n",
       "      <th>6</th>\n",
       "      <td>0.030590</td>\n",
       "      <td>A7_Score</td>\n",
       "    </tr>\n",
       "    <tr>\n",
       "      <th>19</th>\n",
       "      <td>0.029083</td>\n",
       "      <td>relation</td>\n",
       "    </tr>\n",
       "    <tr>\n",
       "      <th>7</th>\n",
       "      <td>0.027695</td>\n",
       "      <td>A8_Score</td>\n",
       "    </tr>\n",
       "    <tr>\n",
       "      <th>14</th>\n",
       "      <td>0.024160</td>\n",
       "      <td>austim</td>\n",
       "    </tr>\n",
       "    <tr>\n",
       "      <th>10</th>\n",
       "      <td>0.023472</td>\n",
       "      <td>age</td>\n",
       "    </tr>\n",
       "    <tr>\n",
       "      <th>11</th>\n",
       "      <td>0.022203</td>\n",
       "      <td>gender</td>\n",
       "    </tr>\n",
       "    <tr>\n",
       "      <th>17</th>\n",
       "      <td>0.021354</td>\n",
       "      <td>result</td>\n",
       "    </tr>\n",
       "    <tr>\n",
       "      <th>16</th>\n",
       "      <td>0.019906</td>\n",
       "      <td>used_app_before</td>\n",
       "    </tr>\n",
       "    <tr>\n",
       "      <th>13</th>\n",
       "      <td>0.018321</td>\n",
       "      <td>jaundice</td>\n",
       "    </tr>\n",
       "    <tr>\n",
       "      <th>18</th>\n",
       "      <td>0.000000</td>\n",
       "      <td>age_desc</td>\n",
       "    </tr>\n",
       "  </tbody>\n",
       "</table>\n",
       "</div>"
      ],
      "text/plain": [
       "       Value          Feature\n",
       "2   0.177731         A3_Score\n",
       "3   0.170009         A4_Score\n",
       "5   0.160009         A6_Score\n",
       "8   0.060779         A9_Score\n",
       "0   0.039361         A1_Score\n",
       "12  0.037418        ethnicity\n",
       "4   0.036229         A5_Score\n",
       "1   0.035276         A2_Score\n",
       "9   0.033351        A10_Score\n",
       "15  0.033054    contry_of_res\n",
       "6   0.030590         A7_Score\n",
       "19  0.029083         relation\n",
       "7   0.027695         A8_Score\n",
       "14  0.024160           austim\n",
       "10  0.023472              age\n",
       "11  0.022203           gender\n",
       "17  0.021354           result\n",
       "16  0.019906  used_app_before\n",
       "13  0.018321         jaundice\n",
       "18  0.000000         age_desc"
      ]
     },
     "execution_count": 27,
     "metadata": {},
     "output_type": "execute_result"
    }
   ],
   "source": [
    "pd.DataFrame({'Value':model.feature_importances_,'Feature':X.columns}).sort_values(by=\"Value\",ascending=False)"
   ]
  },
  {
   "cell_type": "code",
   "execution_count": 28,
   "id": "94c2350d",
   "metadata": {
    "execution": {
     "iopub.execute_input": "2022-04-19T08:57:51.167635Z",
     "iopub.status.busy": "2022-04-19T08:57:51.167175Z",
     "iopub.status.idle": "2022-04-19T08:57:51.354614Z",
     "shell.execute_reply": "2022-04-19T08:57:51.353436Z"
    },
    "papermill": {
     "duration": 0.248629,
     "end_time": "2022-04-19T08:57:51.357393",
     "exception": false,
     "start_time": "2022-04-19T08:57:51.108764",
     "status": "completed"
    },
    "tags": []
   },
   "outputs": [
    {
     "name": "stdout",
     "output_type": "stream",
     "text": [
      "AUC: 1.00000\n"
     ]
    }
   ],
   "source": [
    "model = LGBMClassifier()\n",
    "model.fit(X_, y_)\n",
    "\n",
    "pred = model.predict(X_test)\n",
    "auc = roc_auc_score(y_test, pred)\n",
    "print(\"AUC: %.5f\" % auc)\n",
    "\n",
    "# AUC: 0.72939\n",
    "# AUC: 0.99597"
   ]
  },
  {
   "cell_type": "code",
   "execution_count": 29,
   "id": "19825a7b",
   "metadata": {
    "execution": {
     "iopub.execute_input": "2022-04-19T08:57:51.473749Z",
     "iopub.status.busy": "2022-04-19T08:57:51.473435Z",
     "iopub.status.idle": "2022-04-19T08:57:53.122009Z",
     "shell.execute_reply": "2022-04-19T08:57:53.120794Z"
    },
    "papermill": {
     "duration": 1.709428,
     "end_time": "2022-04-19T08:57:53.124650",
     "exception": false,
     "start_time": "2022-04-19T08:57:51.415222",
     "status": "completed"
    },
    "tags": []
   },
   "outputs": [
    {
     "name": "stdout",
     "output_type": "stream",
     "text": [
      "AUC: 0.95027\n"
     ]
    }
   ],
   "source": [
    "model = CatBoostClassifier(verbose=False)\n",
    "model.fit(X_, y_)\n",
    "\n",
    "pred = model.predict(X_test)\n",
    "auc = roc_auc_score(y_test, pred)\n",
    "print(\"AUC: %.5f\" % auc)\n",
    "\n",
    "# AUC: 0.76120\n",
    "# AUC: 0.98208"
   ]
  },
  {
   "cell_type": "code",
   "execution_count": 30,
   "id": "8529bde0",
   "metadata": {
    "execution": {
     "iopub.execute_input": "2022-04-19T08:57:53.241361Z",
     "iopub.status.busy": "2022-04-19T08:57:53.241045Z",
     "iopub.status.idle": "2022-04-19T08:57:53.246403Z",
     "shell.execute_reply": "2022-04-19T08:57:53.245670Z"
    },
    "papermill": {
     "duration": 0.066297,
     "end_time": "2022-04-19T08:57:53.248623",
     "exception": false,
     "start_time": "2022-04-19T08:57:53.182326",
     "status": "completed"
    },
    "tags": []
   },
   "outputs": [],
   "source": [
    "features = ['A1_Score',\n",
    " 'A2_Score',\n",
    " 'A3_Score',\n",
    " 'A4_Score',\n",
    " 'A5_Score',\n",
    " 'A6_Score',\n",
    " 'A7_Score',\n",
    " 'A8_Score',\n",
    " 'A9_Score',\n",
    " 'age',\n",
    " 'gender',\n",
    " 'ethnicity',\n",
    " 'jaundice',\n",
    " 'austim',\n",
    " 'contry_of_res',\n",
    " 'used_app_before',\n",
    " 'result',\n",
    " 'relation']"
   ]
  },
  {
   "cell_type": "markdown",
   "id": "87b7b30b",
   "metadata": {
    "papermill": {
     "duration": 0.057837,
     "end_time": "2022-04-19T08:57:53.366063",
     "exception": false,
     "start_time": "2022-04-19T08:57:53.308226",
     "status": "completed"
    },
    "tags": []
   },
   "source": [
    "# Optuna with XGB"
   ]
  },
  {
   "cell_type": "code",
   "execution_count": 31,
   "id": "8a36fbe5",
   "metadata": {
    "execution": {
     "iopub.execute_input": "2022-04-19T08:57:53.482380Z",
     "iopub.status.busy": "2022-04-19T08:57:53.482037Z",
     "iopub.status.idle": "2022-04-19T08:57:53.488452Z",
     "shell.execute_reply": "2022-04-19T08:57:53.487571Z"
    },
    "papermill": {
     "duration": 0.067008,
     "end_time": "2022-04-19T08:57:53.490591",
     "exception": false,
     "start_time": "2022-04-19T08:57:53.423583",
     "status": "completed"
    },
    "tags": []
   },
   "outputs": [],
   "source": [
    "def objectivesXGBCls(trial):\n",
    "    params = {\n",
    "        'max_depth' : trial.suggest_int(\"max_depth\", 1, 16),\n",
    "        'n_estimators': trial.suggest_int('n_estimators', 10, 3000),\n",
    "        'random_state': trial.suggest_int(\"random_state\", 1, 1522),\n",
    "        'learning_rate': trial.suggest_float('learning_rate',0, 1),\n",
    "    }\n",
    "\n",
    "    model = XGBClassifier(**params)\n",
    "    model.fit(X_,y_)\n",
    "    score = model.score(X_,y_)\n",
    "    print(score)\n",
    "    return score"
   ]
  },
  {
   "cell_type": "code",
   "execution_count": 32,
   "id": "37e86b4c",
   "metadata": {
    "execution": {
     "iopub.execute_input": "2022-04-19T08:57:53.607211Z",
     "iopub.status.busy": "2022-04-19T08:57:53.606889Z",
     "iopub.status.idle": "2022-04-19T08:57:53.610759Z",
     "shell.execute_reply": "2022-04-19T08:57:53.609883Z"
    },
    "papermill": {
     "duration": 0.064423,
     "end_time": "2022-04-19T08:57:53.612671",
     "exception": false,
     "start_time": "2022-04-19T08:57:53.548248",
     "status": "completed"
    },
    "tags": []
   },
   "outputs": [],
   "source": [
    "#opt = optuna.create_study(direction='maximize')\n",
    "#opt.optimize(objectivesXGBCls, n_trials=15)"
   ]
  },
  {
   "cell_type": "code",
   "execution_count": 33,
   "id": "d5946481",
   "metadata": {
    "execution": {
     "iopub.execute_input": "2022-04-19T08:57:53.730158Z",
     "iopub.status.busy": "2022-04-19T08:57:53.729634Z",
     "iopub.status.idle": "2022-04-19T08:57:53.734819Z",
     "shell.execute_reply": "2022-04-19T08:57:53.733692Z"
    },
    "papermill": {
     "duration": 0.067117,
     "end_time": "2022-04-19T08:57:53.736937",
     "exception": false,
     "start_time": "2022-04-19T08:57:53.669820",
     "status": "completed"
    },
    "tags": []
   },
   "outputs": [],
   "source": [
    "# best params\n",
    "#parameters = opt.best_params\n",
    "#parameters = {'max_depth': 3, 'n_estimators': 863, 'random_state': 544, 'learning_rate': 0.7747947204223922}\n",
    "#parameters = {'max_depth': 16, 'n_estimators': 1962, 'random_state': 882, 'learning_rate': 0.7705596891430972}\n",
    "parameters = {'max_depth': 3, 'n_estimators': 1130, 'random_state': 1051, 'learning_rate': 0.36522957340144424}"
   ]
  },
  {
   "cell_type": "code",
   "execution_count": 34,
   "id": "c0e9e699",
   "metadata": {
    "execution": {
     "iopub.execute_input": "2022-04-19T08:57:53.852532Z",
     "iopub.status.busy": "2022-04-19T08:57:53.851470Z",
     "iopub.status.idle": "2022-04-19T08:57:53.856750Z",
     "shell.execute_reply": "2022-04-19T08:57:53.856142Z"
    },
    "papermill": {
     "duration": 0.065135,
     "end_time": "2022-04-19T08:57:53.858696",
     "exception": false,
     "start_time": "2022-04-19T08:57:53.793561",
     "status": "completed"
    },
    "tags": []
   },
   "outputs": [],
   "source": [
    "del test['ID']"
   ]
  },
  {
   "cell_type": "code",
   "execution_count": 35,
   "id": "3996165d",
   "metadata": {
    "execution": {
     "iopub.execute_input": "2022-04-19T08:57:53.977628Z",
     "iopub.status.busy": "2022-04-19T08:57:53.976613Z",
     "iopub.status.idle": "2022-04-19T08:57:58.026959Z",
     "shell.execute_reply": "2022-04-19T08:57:58.026297Z"
    },
    "papermill": {
     "duration": 4.111997,
     "end_time": "2022-04-19T08:57:58.029663",
     "exception": false,
     "start_time": "2022-04-19T08:57:53.917666",
     "status": "completed"
    },
    "tags": []
   },
   "outputs": [
    {
     "name": "stderr",
     "output_type": "stream",
     "text": [
      "/opt/conda/lib/python3.7/site-packages/xgboost/sklearn.py:1224: UserWarning: The use of label encoder in XGBClassifier is deprecated and will be removed in a future release. To remove this warning, do the following: 1) Pass option use_label_encoder=False when constructing XGBClassifier object; and 2) Encode your labels (y) as integers starting with 0, i.e. 0, 1, 2, ..., [num_class - 1].\n",
      "  warnings.warn(label_encoder_deprecation_msg, UserWarning)\n"
     ]
    },
    {
     "name": "stdout",
     "output_type": "stream",
     "text": [
      "[08:57:54] WARNING: ../src/learner.cc:1115: Starting in XGBoost 1.3.0, the default evaluation metric used with the objective 'binary:logistic' was changed from 'error' to 'logloss'. Explicitly set eval_metric if you'd like to restore the old behavior.\n"
     ]
    }
   ],
   "source": [
    "model = XGBClassifier(**parameters)\n",
    "model.fit(X_, y_)\n",
    "\n",
    "pred = model.predict(test)"
   ]
  },
  {
   "cell_type": "code",
   "execution_count": 36,
   "id": "1165ecbf",
   "metadata": {
    "execution": {
     "iopub.execute_input": "2022-04-19T08:57:58.149085Z",
     "iopub.status.busy": "2022-04-19T08:57:58.148806Z",
     "iopub.status.idle": "2022-04-19T08:57:58.155968Z",
     "shell.execute_reply": "2022-04-19T08:57:58.154827Z"
    },
    "papermill": {
     "duration": 0.069116,
     "end_time": "2022-04-19T08:57:58.158261",
     "exception": false,
     "start_time": "2022-04-19T08:57:58.089145",
     "status": "completed"
    },
    "tags": []
   },
   "outputs": [
    {
     "data": {
      "text/plain": [
       "200"
      ]
     },
     "execution_count": 36,
     "metadata": {},
     "output_type": "execute_result"
    }
   ],
   "source": [
    "len(pred)"
   ]
  },
  {
   "cell_type": "markdown",
   "id": "b363459c",
   "metadata": {
    "papermill": {
     "duration": 0.057733,
     "end_time": "2022-04-19T08:57:58.275177",
     "exception": false,
     "start_time": "2022-04-19T08:57:58.217444",
     "status": "completed"
    },
    "tags": []
   },
   "source": [
    "# Submission"
   ]
  },
  {
   "cell_type": "code",
   "execution_count": 37,
   "id": "07c130e1",
   "metadata": {
    "execution": {
     "iopub.execute_input": "2022-04-19T08:57:58.394644Z",
     "iopub.status.busy": "2022-04-19T08:57:58.394309Z",
     "iopub.status.idle": "2022-04-19T08:57:58.409603Z",
     "shell.execute_reply": "2022-04-19T08:57:58.408425Z"
    },
    "papermill": {
     "duration": 0.078573,
     "end_time": "2022-04-19T08:57:58.411985",
     "exception": false,
     "start_time": "2022-04-19T08:57:58.333412",
     "status": "completed"
    },
    "tags": []
   },
   "outputs": [
    {
     "data": {
      "text/plain": [
       "(200, 2)"
      ]
     },
     "execution_count": 37,
     "metadata": {},
     "output_type": "execute_result"
    }
   ],
   "source": [
    "sub = pd.read_csv('../input/autismdiagnosis/Autism_Prediction/sample_submission.csv')\n",
    "sub.shape"
   ]
  },
  {
   "cell_type": "code",
   "execution_count": 38,
   "id": "a6e46213",
   "metadata": {
    "execution": {
     "iopub.execute_input": "2022-04-19T08:57:58.531621Z",
     "iopub.status.busy": "2022-04-19T08:57:58.531332Z",
     "iopub.status.idle": "2022-04-19T08:57:58.540165Z",
     "shell.execute_reply": "2022-04-19T08:57:58.539166Z"
    },
    "papermill": {
     "duration": 0.070929,
     "end_time": "2022-04-19T08:57:58.542459",
     "exception": false,
     "start_time": "2022-04-19T08:57:58.471530",
     "status": "completed"
    },
    "tags": []
   },
   "outputs": [],
   "source": [
    "sub['Class/ASD'] = pred\n",
    "sub.to_csv('submission.csv', index=False)"
   ]
  },
  {
   "cell_type": "code",
   "execution_count": 39,
   "id": "4c101ded",
   "metadata": {
    "execution": {
     "iopub.execute_input": "2022-04-19T08:57:58.662621Z",
     "iopub.status.busy": "2022-04-19T08:57:58.662286Z",
     "iopub.status.idle": "2022-04-19T08:57:58.671319Z",
     "shell.execute_reply": "2022-04-19T08:57:58.670480Z"
    },
    "papermill": {
     "duration": 0.071381,
     "end_time": "2022-04-19T08:57:58.673358",
     "exception": false,
     "start_time": "2022-04-19T08:57:58.601977",
     "status": "completed"
    },
    "tags": []
   },
   "outputs": [
    {
     "data": {
      "text/plain": [
       "0.0    159\n",
       "1.0     41\n",
       "Name: Class/ASD, dtype: int64"
      ]
     },
     "execution_count": 39,
     "metadata": {},
     "output_type": "execute_result"
    }
   ],
   "source": [
    "sub['Class/ASD'].value_counts()"
   ]
  }
 ],
 "metadata": {
  "kernelspec": {
   "display_name": "Python 3",
   "language": "python",
   "name": "python3"
  },
  "language_info": {
   "codemirror_mode": {
    "name": "ipython",
    "version": 3
   },
   "file_extension": ".py",
   "mimetype": "text/x-python",
   "name": "python",
   "nbconvert_exporter": "python",
   "pygments_lexer": "ipython3",
   "version": "3.7.12"
  },
  "papermill": {
   "default_parameters": {},
   "duration": 27.236806,
   "end_time": "2022-04-19T08:57:59.856269",
   "environment_variables": {},
   "exception": null,
   "input_path": "__notebook__.ipynb",
   "output_path": "__notebook__.ipynb",
   "parameters": {},
   "start_time": "2022-04-19T08:57:32.619463",
   "version": "2.3.4"
  }
 },
 "nbformat": 4,
 "nbformat_minor": 5
}
