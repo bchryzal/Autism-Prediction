{
 "cells": [
  {
   "cell_type": "markdown",
   "id": "0f53f8cd",
   "metadata": {
    "papermill": {
     "duration": 0.050081,
     "end_time": "2022-04-19T09:01:44.736066",
     "exception": false,
     "start_time": "2022-04-19T09:01:44.685985",
     "status": "completed"
    },
    "tags": []
   },
   "source": [
    "## Autism Prediction in Adults"
   ]
  },
  {
   "cell_type": "code",
   "execution_count": 1,
   "id": "1db6fdba",
   "metadata": {
    "_cell_guid": "b1076dfc-b9ad-4769-8c92-a6c4dae69d19",
    "_uuid": "8f2839f25d086af736a60e9eeb907d3b93b6e0e5",
    "execution": {
     "iopub.execute_input": "2022-04-19T09:01:44.831149Z",
     "iopub.status.busy": "2022-04-19T09:01:44.830397Z",
     "iopub.status.idle": "2022-04-19T09:01:44.843069Z",
     "shell.execute_reply": "2022-04-19T09:01:44.842104Z"
    },
    "papermill": {
     "duration": 0.064097,
     "end_time": "2022-04-19T09:01:44.845562",
     "exception": false,
     "start_time": "2022-04-19T09:01:44.781465",
     "status": "completed"
    },
    "tags": []
   },
   "outputs": [],
   "source": [
    "import numpy as np # linear algebra\n",
    "import pandas as pd # data processing, CSV file I/O (e.g. pd.read_csv)"
   ]
  },
  {
   "cell_type": "markdown",
   "id": "317a9756",
   "metadata": {
    "papermill": {
     "duration": 0.044974,
     "end_time": "2022-04-19T09:01:44.936980",
     "exception": false,
     "start_time": "2022-04-19T09:01:44.892006",
     "status": "completed"
    },
    "tags": []
   },
   "source": [
    "# Loading Data"
   ]
  },
  {
   "cell_type": "code",
   "execution_count": 2,
   "id": "f36d7db8",
   "metadata": {
    "execution": {
     "iopub.execute_input": "2022-04-19T09:01:45.029222Z",
     "iopub.status.busy": "2022-04-19T09:01:45.028662Z",
     "iopub.status.idle": "2022-04-19T09:01:45.072053Z",
     "shell.execute_reply": "2022-04-19T09:01:45.071184Z"
    },
    "papermill": {
     "duration": 0.092207,
     "end_time": "2022-04-19T09:01:45.074368",
     "exception": false,
     "start_time": "2022-04-19T09:01:44.982161",
     "status": "completed"
    },
    "tags": []
   },
   "outputs": [
    {
     "data": {
      "text/plain": [
       "((800, 22), (200, 21))"
      ]
     },
     "execution_count": 2,
     "metadata": {},
     "output_type": "execute_result"
    }
   ],
   "source": [
    "train = pd.read_csv('../input/autismdiagnosis/Autism_Prediction/train.csv')\n",
    "test = pd.read_csv('../input/autismdiagnosis/Autism_Prediction/test.csv')\n",
    "\n",
    "train.shape, test.shape"
   ]
  },
  {
   "cell_type": "markdown",
   "id": "0b8e9368",
   "metadata": {
    "papermill": {
     "duration": 0.044925,
     "end_time": "2022-04-19T09:01:45.165515",
     "exception": false,
     "start_time": "2022-04-19T09:01:45.120590",
     "status": "completed"
    },
    "tags": []
   },
   "source": [
    "# Understading Data"
   ]
  },
  {
   "cell_type": "code",
   "execution_count": 3,
   "id": "69bcfa2c",
   "metadata": {
    "_kg_hide-output": true,
    "execution": {
     "iopub.execute_input": "2022-04-19T09:01:45.257982Z",
     "iopub.status.busy": "2022-04-19T09:01:45.257444Z",
     "iopub.status.idle": "2022-04-19T09:01:45.267394Z",
     "shell.execute_reply": "2022-04-19T09:01:45.266821Z"
    },
    "papermill": {
     "duration": 0.057854,
     "end_time": "2022-04-19T09:01:45.269130",
     "exception": false,
     "start_time": "2022-04-19T09:01:45.211276",
     "status": "completed"
    },
    "tags": []
   },
   "outputs": [
    {
     "data": {
      "text/plain": [
       "ID                 0\n",
       "A1_Score           0\n",
       "A2_Score           0\n",
       "A3_Score           0\n",
       "A4_Score           0\n",
       "A5_Score           0\n",
       "A6_Score           0\n",
       "A7_Score           0\n",
       "A8_Score           0\n",
       "A9_Score           0\n",
       "A10_Score          0\n",
       "age                0\n",
       "gender             0\n",
       "ethnicity          0\n",
       "jaundice           0\n",
       "austim             0\n",
       "contry_of_res      0\n",
       "used_app_before    0\n",
       "result             0\n",
       "age_desc           0\n",
       "relation           0\n",
       "Class/ASD          0\n",
       "dtype: int64"
      ]
     },
     "execution_count": 3,
     "metadata": {},
     "output_type": "execute_result"
    }
   ],
   "source": [
    "train.isnull().sum()"
   ]
  },
  {
   "cell_type": "code",
   "execution_count": 4,
   "id": "200495ab",
   "metadata": {
    "_kg_hide-output": true,
    "execution": {
     "iopub.execute_input": "2022-04-19T09:01:45.364221Z",
     "iopub.status.busy": "2022-04-19T09:01:45.363674Z",
     "iopub.status.idle": "2022-04-19T09:01:45.371425Z",
     "shell.execute_reply": "2022-04-19T09:01:45.370792Z"
    },
    "papermill": {
     "duration": 0.056445,
     "end_time": "2022-04-19T09:01:45.373324",
     "exception": false,
     "start_time": "2022-04-19T09:01:45.316879",
     "status": "completed"
    },
    "tags": []
   },
   "outputs": [
    {
     "data": {
      "text/plain": [
       "ID                 0\n",
       "A1_Score           0\n",
       "A2_Score           0\n",
       "A3_Score           0\n",
       "A4_Score           0\n",
       "A5_Score           0\n",
       "A6_Score           0\n",
       "A7_Score           0\n",
       "A8_Score           0\n",
       "A9_Score           0\n",
       "A10_Score          0\n",
       "age                0\n",
       "gender             0\n",
       "ethnicity          0\n",
       "jaundice           0\n",
       "austim             0\n",
       "contry_of_res      0\n",
       "used_app_before    0\n",
       "result             0\n",
       "age_desc           0\n",
       "relation           0\n",
       "dtype: int64"
      ]
     },
     "execution_count": 4,
     "metadata": {},
     "output_type": "execute_result"
    }
   ],
   "source": [
    "test.isnull().sum()"
   ]
  },
  {
   "cell_type": "code",
   "execution_count": 5,
   "id": "f5c08fda",
   "metadata": {
    "execution": {
     "iopub.execute_input": "2022-04-19T09:01:45.467873Z",
     "iopub.status.busy": "2022-04-19T09:01:45.467304Z",
     "iopub.status.idle": "2022-04-19T09:01:45.493327Z",
     "shell.execute_reply": "2022-04-19T09:01:45.492553Z"
    },
    "papermill": {
     "duration": 0.076272,
     "end_time": "2022-04-19T09:01:45.496278",
     "exception": false,
     "start_time": "2022-04-19T09:01:45.420006",
     "status": "completed"
    },
    "tags": []
   },
   "outputs": [
    {
     "name": "stdout",
     "output_type": "stream",
     "text": [
      "<class 'pandas.core.frame.DataFrame'>\n",
      "RangeIndex: 800 entries, 0 to 799\n",
      "Data columns (total 22 columns):\n",
      " #   Column           Non-Null Count  Dtype  \n",
      "---  ------           --------------  -----  \n",
      " 0   ID               800 non-null    int64  \n",
      " 1   A1_Score         800 non-null    int64  \n",
      " 2   A2_Score         800 non-null    int64  \n",
      " 3   A3_Score         800 non-null    int64  \n",
      " 4   A4_Score         800 non-null    int64  \n",
      " 5   A5_Score         800 non-null    int64  \n",
      " 6   A6_Score         800 non-null    int64  \n",
      " 7   A7_Score         800 non-null    int64  \n",
      " 8   A8_Score         800 non-null    int64  \n",
      " 9   A9_Score         800 non-null    int64  \n",
      " 10  A10_Score        800 non-null    int64  \n",
      " 11  age              800 non-null    float64\n",
      " 12  gender           800 non-null    object \n",
      " 13  ethnicity        800 non-null    object \n",
      " 14  jaundice         800 non-null    object \n",
      " 15  austim           800 non-null    object \n",
      " 16  contry_of_res    800 non-null    object \n",
      " 17  used_app_before  800 non-null    object \n",
      " 18  result           800 non-null    float64\n",
      " 19  age_desc         800 non-null    object \n",
      " 20  relation         800 non-null    object \n",
      " 21  Class/ASD        800 non-null    int64  \n",
      "dtypes: float64(2), int64(12), object(8)\n",
      "memory usage: 137.6+ KB\n"
     ]
    }
   ],
   "source": [
    "train.info()"
   ]
  },
  {
   "cell_type": "markdown",
   "id": "a832f506",
   "metadata": {
    "papermill": {
     "duration": 0.046803,
     "end_time": "2022-04-19T09:01:45.591141",
     "exception": false,
     "start_time": "2022-04-19T09:01:45.544338",
     "status": "completed"
    },
    "tags": []
   },
   "source": [
    "## Select object Cols"
   ]
  },
  {
   "cell_type": "code",
   "execution_count": 6,
   "id": "ef7496df",
   "metadata": {
    "execution": {
     "iopub.execute_input": "2022-04-19T09:01:45.687321Z",
     "iopub.status.busy": "2022-04-19T09:01:45.686819Z",
     "iopub.status.idle": "2022-04-19T09:01:45.693493Z",
     "shell.execute_reply": "2022-04-19T09:01:45.692626Z"
    },
    "papermill": {
     "duration": 0.057206,
     "end_time": "2022-04-19T09:01:45.695524",
     "exception": false,
     "start_time": "2022-04-19T09:01:45.638318",
     "status": "completed"
    },
    "tags": []
   },
   "outputs": [
    {
     "data": {
      "text/plain": [
       "['gender',\n",
       " 'ethnicity',\n",
       " 'jaundice',\n",
       " 'austim',\n",
       " 'contry_of_res',\n",
       " 'used_app_before',\n",
       " 'age_desc',\n",
       " 'relation']"
      ]
     },
     "execution_count": 6,
     "metadata": {},
     "output_type": "execute_result"
    }
   ],
   "source": [
    "obj_cols = []\n",
    "\n",
    "for i in train.columns:\n",
    "    if train[i].dtypes == 'object':\n",
    "        obj_cols.append(i)\n",
    "        \n",
    "        \n",
    "obj_cols"
   ]
  },
  {
   "cell_type": "markdown",
   "id": "ffdefe12",
   "metadata": {
    "papermill": {
     "duration": 0.046895,
     "end_time": "2022-04-19T09:01:45.789460",
     "exception": false,
     "start_time": "2022-04-19T09:01:45.742565",
     "status": "completed"
    },
    "tags": []
   },
   "source": [
    "## Label encode"
   ]
  },
  {
   "cell_type": "code",
   "execution_count": 7,
   "id": "bb9ce028",
   "metadata": {
    "execution": {
     "iopub.execute_input": "2022-04-19T09:01:45.887367Z",
     "iopub.status.busy": "2022-04-19T09:01:45.887093Z",
     "iopub.status.idle": "2022-04-19T09:01:46.981573Z",
     "shell.execute_reply": "2022-04-19T09:01:46.980791Z"
    },
    "papermill": {
     "duration": 1.147729,
     "end_time": "2022-04-19T09:01:46.984315",
     "exception": false,
     "start_time": "2022-04-19T09:01:45.836586",
     "status": "completed"
    },
    "tags": []
   },
   "outputs": [],
   "source": [
    "from sklearn import preprocessing\n",
    "le = preprocessing.LabelEncoder()"
   ]
  },
  {
   "cell_type": "code",
   "execution_count": 8,
   "id": "9b08ad66",
   "metadata": {
    "execution": {
     "iopub.execute_input": "2022-04-19T09:01:47.082242Z",
     "iopub.status.busy": "2022-04-19T09:01:47.081308Z",
     "iopub.status.idle": "2022-04-19T09:01:47.115025Z",
     "shell.execute_reply": "2022-04-19T09:01:47.114366Z"
    },
    "papermill": {
     "duration": 0.085294,
     "end_time": "2022-04-19T09:01:47.116945",
     "exception": false,
     "start_time": "2022-04-19T09:01:47.031651",
     "status": "completed"
    },
    "tags": []
   },
   "outputs": [
    {
     "data": {
      "text/html": [
       "<div>\n",
       "<style scoped>\n",
       "    .dataframe tbody tr th:only-of-type {\n",
       "        vertical-align: middle;\n",
       "    }\n",
       "\n",
       "    .dataframe tbody tr th {\n",
       "        vertical-align: top;\n",
       "    }\n",
       "\n",
       "    .dataframe thead th {\n",
       "        text-align: right;\n",
       "    }\n",
       "</style>\n",
       "<table border=\"1\" class=\"dataframe\">\n",
       "  <thead>\n",
       "    <tr style=\"text-align: right;\">\n",
       "      <th></th>\n",
       "      <th>ID</th>\n",
       "      <th>A1_Score</th>\n",
       "      <th>A2_Score</th>\n",
       "      <th>A3_Score</th>\n",
       "      <th>A4_Score</th>\n",
       "      <th>A5_Score</th>\n",
       "      <th>A6_Score</th>\n",
       "      <th>A7_Score</th>\n",
       "      <th>A8_Score</th>\n",
       "      <th>A9_Score</th>\n",
       "      <th>...</th>\n",
       "      <th>gender</th>\n",
       "      <th>ethnicity</th>\n",
       "      <th>jaundice</th>\n",
       "      <th>austim</th>\n",
       "      <th>contry_of_res</th>\n",
       "      <th>used_app_before</th>\n",
       "      <th>result</th>\n",
       "      <th>age_desc</th>\n",
       "      <th>relation</th>\n",
       "      <th>Class/ASD</th>\n",
       "    </tr>\n",
       "  </thead>\n",
       "  <tbody>\n",
       "    <tr>\n",
       "      <th>0</th>\n",
       "      <td>1</td>\n",
       "      <td>1</td>\n",
       "      <td>0</td>\n",
       "      <td>1</td>\n",
       "      <td>0</td>\n",
       "      <td>1</td>\n",
       "      <td>0</td>\n",
       "      <td>1</td>\n",
       "      <td>0</td>\n",
       "      <td>1</td>\n",
       "      <td>...</td>\n",
       "      <td>f</td>\n",
       "      <td>?</td>\n",
       "      <td>no</td>\n",
       "      <td>no</td>\n",
       "      <td>Austria</td>\n",
       "      <td>no</td>\n",
       "      <td>6.351166</td>\n",
       "      <td>18 and more</td>\n",
       "      <td>Self</td>\n",
       "      <td>0</td>\n",
       "    </tr>\n",
       "    <tr>\n",
       "      <th>1</th>\n",
       "      <td>2</td>\n",
       "      <td>0</td>\n",
       "      <td>0</td>\n",
       "      <td>0</td>\n",
       "      <td>0</td>\n",
       "      <td>0</td>\n",
       "      <td>0</td>\n",
       "      <td>0</td>\n",
       "      <td>0</td>\n",
       "      <td>0</td>\n",
       "      <td>...</td>\n",
       "      <td>m</td>\n",
       "      <td>?</td>\n",
       "      <td>no</td>\n",
       "      <td>no</td>\n",
       "      <td>India</td>\n",
       "      <td>no</td>\n",
       "      <td>2.255185</td>\n",
       "      <td>18 and more</td>\n",
       "      <td>Self</td>\n",
       "      <td>0</td>\n",
       "    </tr>\n",
       "    <tr>\n",
       "      <th>2</th>\n",
       "      <td>3</td>\n",
       "      <td>1</td>\n",
       "      <td>1</td>\n",
       "      <td>1</td>\n",
       "      <td>1</td>\n",
       "      <td>1</td>\n",
       "      <td>1</td>\n",
       "      <td>1</td>\n",
       "      <td>1</td>\n",
       "      <td>1</td>\n",
       "      <td>...</td>\n",
       "      <td>m</td>\n",
       "      <td>White-European</td>\n",
       "      <td>no</td>\n",
       "      <td>yes</td>\n",
       "      <td>United States</td>\n",
       "      <td>no</td>\n",
       "      <td>14.851484</td>\n",
       "      <td>18 and more</td>\n",
       "      <td>Self</td>\n",
       "      <td>1</td>\n",
       "    </tr>\n",
       "    <tr>\n",
       "      <th>3</th>\n",
       "      <td>4</td>\n",
       "      <td>0</td>\n",
       "      <td>0</td>\n",
       "      <td>0</td>\n",
       "      <td>0</td>\n",
       "      <td>0</td>\n",
       "      <td>0</td>\n",
       "      <td>0</td>\n",
       "      <td>0</td>\n",
       "      <td>0</td>\n",
       "      <td>...</td>\n",
       "      <td>f</td>\n",
       "      <td>?</td>\n",
       "      <td>no</td>\n",
       "      <td>no</td>\n",
       "      <td>United States</td>\n",
       "      <td>no</td>\n",
       "      <td>2.276617</td>\n",
       "      <td>18 and more</td>\n",
       "      <td>Self</td>\n",
       "      <td>0</td>\n",
       "    </tr>\n",
       "    <tr>\n",
       "      <th>4</th>\n",
       "      <td>5</td>\n",
       "      <td>0</td>\n",
       "      <td>0</td>\n",
       "      <td>0</td>\n",
       "      <td>0</td>\n",
       "      <td>0</td>\n",
       "      <td>0</td>\n",
       "      <td>0</td>\n",
       "      <td>0</td>\n",
       "      <td>0</td>\n",
       "      <td>...</td>\n",
       "      <td>m</td>\n",
       "      <td>?</td>\n",
       "      <td>no</td>\n",
       "      <td>no</td>\n",
       "      <td>South Africa</td>\n",
       "      <td>no</td>\n",
       "      <td>-4.777286</td>\n",
       "      <td>18 and more</td>\n",
       "      <td>Self</td>\n",
       "      <td>0</td>\n",
       "    </tr>\n",
       "    <tr>\n",
       "      <th>...</th>\n",
       "      <td>...</td>\n",
       "      <td>...</td>\n",
       "      <td>...</td>\n",
       "      <td>...</td>\n",
       "      <td>...</td>\n",
       "      <td>...</td>\n",
       "      <td>...</td>\n",
       "      <td>...</td>\n",
       "      <td>...</td>\n",
       "      <td>...</td>\n",
       "      <td>...</td>\n",
       "      <td>...</td>\n",
       "      <td>...</td>\n",
       "      <td>...</td>\n",
       "      <td>...</td>\n",
       "      <td>...</td>\n",
       "      <td>...</td>\n",
       "      <td>...</td>\n",
       "      <td>...</td>\n",
       "      <td>...</td>\n",
       "      <td>...</td>\n",
       "    </tr>\n",
       "    <tr>\n",
       "      <th>795</th>\n",
       "      <td>796</td>\n",
       "      <td>0</td>\n",
       "      <td>1</td>\n",
       "      <td>0</td>\n",
       "      <td>0</td>\n",
       "      <td>0</td>\n",
       "      <td>0</td>\n",
       "      <td>0</td>\n",
       "      <td>0</td>\n",
       "      <td>1</td>\n",
       "      <td>...</td>\n",
       "      <td>m</td>\n",
       "      <td>Hispanic</td>\n",
       "      <td>no</td>\n",
       "      <td>no</td>\n",
       "      <td>New Zealand</td>\n",
       "      <td>no</td>\n",
       "      <td>12.999501</td>\n",
       "      <td>18 and more</td>\n",
       "      <td>Self</td>\n",
       "      <td>0</td>\n",
       "    </tr>\n",
       "    <tr>\n",
       "      <th>796</th>\n",
       "      <td>797</td>\n",
       "      <td>0</td>\n",
       "      <td>1</td>\n",
       "      <td>1</td>\n",
       "      <td>0</td>\n",
       "      <td>0</td>\n",
       "      <td>1</td>\n",
       "      <td>0</td>\n",
       "      <td>1</td>\n",
       "      <td>1</td>\n",
       "      <td>...</td>\n",
       "      <td>m</td>\n",
       "      <td>White-European</td>\n",
       "      <td>no</td>\n",
       "      <td>no</td>\n",
       "      <td>Cyprus</td>\n",
       "      <td>no</td>\n",
       "      <td>13.561518</td>\n",
       "      <td>18 and more</td>\n",
       "      <td>Self</td>\n",
       "      <td>0</td>\n",
       "    </tr>\n",
       "    <tr>\n",
       "      <th>797</th>\n",
       "      <td>798</td>\n",
       "      <td>0</td>\n",
       "      <td>0</td>\n",
       "      <td>0</td>\n",
       "      <td>0</td>\n",
       "      <td>0</td>\n",
       "      <td>0</td>\n",
       "      <td>0</td>\n",
       "      <td>0</td>\n",
       "      <td>0</td>\n",
       "      <td>...</td>\n",
       "      <td>m</td>\n",
       "      <td>South Asian</td>\n",
       "      <td>yes</td>\n",
       "      <td>no</td>\n",
       "      <td>New Zealand</td>\n",
       "      <td>no</td>\n",
       "      <td>2.653177</td>\n",
       "      <td>18 and more</td>\n",
       "      <td>Self</td>\n",
       "      <td>0</td>\n",
       "    </tr>\n",
       "    <tr>\n",
       "      <th>798</th>\n",
       "      <td>799</td>\n",
       "      <td>0</td>\n",
       "      <td>0</td>\n",
       "      <td>0</td>\n",
       "      <td>0</td>\n",
       "      <td>0</td>\n",
       "      <td>0</td>\n",
       "      <td>0</td>\n",
       "      <td>0</td>\n",
       "      <td>0</td>\n",
       "      <td>...</td>\n",
       "      <td>f</td>\n",
       "      <td>?</td>\n",
       "      <td>no</td>\n",
       "      <td>no</td>\n",
       "      <td>Canada</td>\n",
       "      <td>no</td>\n",
       "      <td>9.069342</td>\n",
       "      <td>18 and more</td>\n",
       "      <td>Self</td>\n",
       "      <td>0</td>\n",
       "    </tr>\n",
       "    <tr>\n",
       "      <th>799</th>\n",
       "      <td>800</td>\n",
       "      <td>0</td>\n",
       "      <td>1</td>\n",
       "      <td>0</td>\n",
       "      <td>0</td>\n",
       "      <td>0</td>\n",
       "      <td>0</td>\n",
       "      <td>0</td>\n",
       "      <td>0</td>\n",
       "      <td>0</td>\n",
       "      <td>...</td>\n",
       "      <td>f</td>\n",
       "      <td>?</td>\n",
       "      <td>no</td>\n",
       "      <td>no</td>\n",
       "      <td>United Arab Emirates</td>\n",
       "      <td>yes</td>\n",
       "      <td>2.243304</td>\n",
       "      <td>18 and more</td>\n",
       "      <td>Self</td>\n",
       "      <td>0</td>\n",
       "    </tr>\n",
       "  </tbody>\n",
       "</table>\n",
       "<p>800 rows × 22 columns</p>\n",
       "</div>"
      ],
      "text/plain": [
       "      ID  A1_Score  A2_Score  A3_Score  A4_Score  A5_Score  A6_Score  \\\n",
       "0      1         1         0         1         0         1         0   \n",
       "1      2         0         0         0         0         0         0   \n",
       "2      3         1         1         1         1         1         1   \n",
       "3      4         0         0         0         0         0         0   \n",
       "4      5         0         0         0         0         0         0   \n",
       "..   ...       ...       ...       ...       ...       ...       ...   \n",
       "795  796         0         1         0         0         0         0   \n",
       "796  797         0         1         1         0         0         1   \n",
       "797  798         0         0         0         0         0         0   \n",
       "798  799         0         0         0         0         0         0   \n",
       "799  800         0         1         0         0         0         0   \n",
       "\n",
       "     A7_Score  A8_Score  A9_Score  ...  gender       ethnicity jaundice  \\\n",
       "0           1         0         1  ...       f               ?       no   \n",
       "1           0         0         0  ...       m               ?       no   \n",
       "2           1         1         1  ...       m  White-European       no   \n",
       "3           0         0         0  ...       f               ?       no   \n",
       "4           0         0         0  ...       m               ?       no   \n",
       "..        ...       ...       ...  ...     ...             ...      ...   \n",
       "795         0         0         1  ...       m        Hispanic       no   \n",
       "796         0         1         1  ...       m  White-European       no   \n",
       "797         0         0         0  ...       m     South Asian      yes   \n",
       "798         0         0         0  ...       f               ?       no   \n",
       "799         0         0         0  ...       f               ?       no   \n",
       "\n",
       "    austim         contry_of_res used_app_before     result     age_desc  \\\n",
       "0       no               Austria              no   6.351166  18 and more   \n",
       "1       no                 India              no   2.255185  18 and more   \n",
       "2      yes         United States              no  14.851484  18 and more   \n",
       "3       no         United States              no   2.276617  18 and more   \n",
       "4       no          South Africa              no  -4.777286  18 and more   \n",
       "..     ...                   ...             ...        ...          ...   \n",
       "795     no           New Zealand              no  12.999501  18 and more   \n",
       "796     no                Cyprus              no  13.561518  18 and more   \n",
       "797     no           New Zealand              no   2.653177  18 and more   \n",
       "798     no                Canada              no   9.069342  18 and more   \n",
       "799     no  United Arab Emirates             yes   2.243304  18 and more   \n",
       "\n",
       "     relation Class/ASD  \n",
       "0        Self         0  \n",
       "1        Self         0  \n",
       "2        Self         1  \n",
       "3        Self         0  \n",
       "4        Self         0  \n",
       "..        ...       ...  \n",
       "795      Self         0  \n",
       "796      Self         0  \n",
       "797      Self         0  \n",
       "798      Self         0  \n",
       "799      Self         0  \n",
       "\n",
       "[800 rows x 22 columns]"
      ]
     },
     "execution_count": 8,
     "metadata": {},
     "output_type": "execute_result"
    }
   ],
   "source": [
    "data = train.copy()\n",
    "data"
   ]
  },
  {
   "cell_type": "code",
   "execution_count": 9,
   "id": "5d14913c",
   "metadata": {
    "execution": {
     "iopub.execute_input": "2022-04-19T09:01:47.215881Z",
     "iopub.status.busy": "2022-04-19T09:01:47.215569Z",
     "iopub.status.idle": "2022-04-19T09:01:47.237478Z",
     "shell.execute_reply": "2022-04-19T09:01:47.236805Z"
    },
    "papermill": {
     "duration": 0.075235,
     "end_time": "2022-04-19T09:01:47.240525",
     "exception": false,
     "start_time": "2022-04-19T09:01:47.165290",
     "status": "completed"
    },
    "tags": []
   },
   "outputs": [
    {
     "name": "stdout",
     "output_type": "stream",
     "text": [
      "<class 'pandas.core.frame.DataFrame'>\n",
      "RangeIndex: 800 entries, 0 to 799\n",
      "Data columns (total 22 columns):\n",
      " #   Column           Non-Null Count  Dtype  \n",
      "---  ------           --------------  -----  \n",
      " 0   ID               800 non-null    int64  \n",
      " 1   A1_Score         800 non-null    int64  \n",
      " 2   A2_Score         800 non-null    int64  \n",
      " 3   A3_Score         800 non-null    int64  \n",
      " 4   A4_Score         800 non-null    int64  \n",
      " 5   A5_Score         800 non-null    int64  \n",
      " 6   A6_Score         800 non-null    int64  \n",
      " 7   A7_Score         800 non-null    int64  \n",
      " 8   A8_Score         800 non-null    int64  \n",
      " 9   A9_Score         800 non-null    int64  \n",
      " 10  A10_Score        800 non-null    int64  \n",
      " 11  age              800 non-null    float64\n",
      " 12  gender           800 non-null    int64  \n",
      " 13  ethnicity        800 non-null    int64  \n",
      " 14  jaundice         800 non-null    int64  \n",
      " 15  austim           800 non-null    int64  \n",
      " 16  contry_of_res    800 non-null    int64  \n",
      " 17  used_app_before  800 non-null    int64  \n",
      " 18  result           800 non-null    float64\n",
      " 19  age_desc         800 non-null    int64  \n",
      " 20  relation         800 non-null    int64  \n",
      " 21  Class/ASD        800 non-null    int64  \n",
      "dtypes: float64(2), int64(20)\n",
      "memory usage: 137.6 KB\n"
     ]
    }
   ],
   "source": [
    "for col in obj_cols:\n",
    "    data[col] = le.fit_transform(data[col])\n",
    "    test[col] = le.fit_transform(test[col])\n",
    "    \n",
    "data.info()"
   ]
  },
  {
   "cell_type": "markdown",
   "id": "38e57523",
   "metadata": {
    "papermill": {
     "duration": 0.049139,
     "end_time": "2022-04-19T09:01:47.338393",
     "exception": false,
     "start_time": "2022-04-19T09:01:47.289254",
     "status": "completed"
    },
    "tags": []
   },
   "source": [
    "## Modeling"
   ]
  },
  {
   "cell_type": "code",
   "execution_count": 10,
   "id": "c2128c0a",
   "metadata": {
    "execution": {
     "iopub.execute_input": "2022-04-19T09:01:47.437486Z",
     "iopub.status.busy": "2022-04-19T09:01:47.437179Z",
     "iopub.status.idle": "2022-04-19T09:01:47.445369Z",
     "shell.execute_reply": "2022-04-19T09:01:47.444781Z"
    },
    "papermill": {
     "duration": 0.06009,
     "end_time": "2022-04-19T09:01:47.447294",
     "exception": false,
     "start_time": "2022-04-19T09:01:47.387204",
     "status": "completed"
    },
    "tags": []
   },
   "outputs": [
    {
     "data": {
      "text/plain": [
       "(800, 20)"
      ]
     },
     "execution_count": 10,
     "metadata": {},
     "output_type": "execute_result"
    }
   ],
   "source": [
    "#del data['ID']\n",
    "X = data.copy()\n",
    "del X['ID']\n",
    "y = X.pop('Class/ASD')\n",
    "\n",
    "X.shape"
   ]
  },
  {
   "cell_type": "markdown",
   "id": "f54c0015",
   "metadata": {
    "papermill": {
     "duration": 0.049125,
     "end_time": "2022-04-19T09:01:47.545493",
     "exception": false,
     "start_time": "2022-04-19T09:01:47.496368",
     "status": "completed"
    },
    "tags": []
   },
   "source": [
    "## Split"
   ]
  },
  {
   "cell_type": "code",
   "execution_count": 11,
   "id": "1d1cbb84",
   "metadata": {
    "execution": {
     "iopub.execute_input": "2022-04-19T09:01:47.645435Z",
     "iopub.status.busy": "2022-04-19T09:01:47.644878Z",
     "iopub.status.idle": "2022-04-19T09:01:47.713574Z",
     "shell.execute_reply": "2022-04-19T09:01:47.712875Z"
    },
    "papermill": {
     "duration": 0.121717,
     "end_time": "2022-04-19T09:01:47.716084",
     "exception": false,
     "start_time": "2022-04-19T09:01:47.594367",
     "status": "completed"
    },
    "tags": []
   },
   "outputs": [],
   "source": [
    "from sklearn.model_selection import train_test_split\n",
    "X_train, X_test, y_train, y_test = train_test_split(X, y, test_size=0.20, random_state=42)"
   ]
  },
  {
   "cell_type": "code",
   "execution_count": 12,
   "id": "18bec276",
   "metadata": {
    "execution": {
     "iopub.execute_input": "2022-04-19T09:01:47.815736Z",
     "iopub.status.busy": "2022-04-19T09:01:47.815201Z",
     "iopub.status.idle": "2022-04-19T09:01:50.051251Z",
     "shell.execute_reply": "2022-04-19T09:01:50.050242Z"
    },
    "papermill": {
     "duration": 2.289243,
     "end_time": "2022-04-19T09:01:50.054317",
     "exception": false,
     "start_time": "2022-04-19T09:01:47.765074",
     "status": "completed"
    },
    "tags": []
   },
   "outputs": [
    {
     "data": {
      "text/html": [
       "<style type='text/css'>\n",
       ".datatable table.frame { margin-bottom: 0; }\n",
       ".datatable table.frame thead { border-bottom: none; }\n",
       ".datatable table.frame tr.coltypes td {  color: #FFFFFF;  line-height: 6px;  padding: 0 0.5em;}\n",
       ".datatable .bool    { background: #DDDD99; }\n",
       ".datatable .object  { background: #565656; }\n",
       ".datatable .int     { background: #5D9E5D; }\n",
       ".datatable .float   { background: #4040CC; }\n",
       ".datatable .str     { background: #CC4040; }\n",
       ".datatable .time    { background: #40CC40; }\n",
       ".datatable .row_index {  background: var(--jp-border-color3);  border-right: 1px solid var(--jp-border-color0);  color: var(--jp-ui-font-color3);  font-size: 9px;}\n",
       ".datatable .frame tbody td { text-align: left; }\n",
       ".datatable .frame tr.coltypes .row_index {  background: var(--jp-border-color0);}\n",
       ".datatable th:nth-child(2) { padding-left: 12px; }\n",
       ".datatable .hellipsis {  color: var(--jp-cell-editor-border-color);}\n",
       ".datatable .vellipsis {  background: var(--jp-layout-color0);  color: var(--jp-cell-editor-border-color);}\n",
       ".datatable .na {  color: var(--jp-cell-editor-border-color);  font-size: 80%;}\n",
       ".datatable .sp {  opacity: 0.25;}\n",
       ".datatable .footer { font-size: 9px; }\n",
       ".datatable .frame_dimensions {  background: var(--jp-border-color3);  border-top: 1px solid var(--jp-border-color0);  color: var(--jp-ui-font-color3);  display: inline-block;  opacity: 0.6;  padding: 1px 10px 1px 5px;}\n",
       "</style>\n"
      ],
      "text/plain": [
       "<IPython.core.display.HTML object>"
      ]
     },
     "metadata": {},
     "output_type": "display_data"
    }
   ],
   "source": [
    "from sklearn.metrics import roc_auc_score, roc_curve\n",
    "from sklearn.model_selection import KFold,StratifiedKFold\n",
    "from sklearn.model_selection import cross_val_score\n",
    "from xgboost import XGBClassifier\n",
    "from lightgbm import LGBMClassifier\n",
    "import optuna\n",
    "from catboost import CatBoostClassifier"
   ]
  },
  {
   "cell_type": "code",
   "execution_count": 13,
   "id": "a95bccfb",
   "metadata": {
    "execution": {
     "iopub.execute_input": "2022-04-19T09:01:50.158585Z",
     "iopub.status.busy": "2022-04-19T09:01:50.158270Z",
     "iopub.status.idle": "2022-04-19T09:01:50.161876Z",
     "shell.execute_reply": "2022-04-19T09:01:50.161072Z"
    },
    "papermill": {
     "duration": 0.058222,
     "end_time": "2022-04-19T09:01:50.163865",
     "exception": false,
     "start_time": "2022-04-19T09:01:50.105643",
     "status": "completed"
    },
    "tags": []
   },
   "outputs": [],
   "source": [
    "#stop"
   ]
  },
  {
   "cell_type": "markdown",
   "id": "1f821ced",
   "metadata": {
    "papermill": {
     "duration": 0.04891,
     "end_time": "2022-04-19T09:01:50.262517",
     "exception": false,
     "start_time": "2022-04-19T09:01:50.213607",
     "status": "completed"
    },
    "tags": []
   },
   "source": [
    "### pd.concat"
   ]
  },
  {
   "cell_type": "code",
   "execution_count": 14,
   "id": "c5cd3683",
   "metadata": {
    "execution": {
     "iopub.execute_input": "2022-04-19T09:01:50.363675Z",
     "iopub.status.busy": "2022-04-19T09:01:50.362824Z",
     "iopub.status.idle": "2022-04-19T09:01:50.371147Z",
     "shell.execute_reply": "2022-04-19T09:01:50.370275Z"
    },
    "papermill": {
     "duration": 0.061506,
     "end_time": "2022-04-19T09:01:50.373339",
     "exception": false,
     "start_time": "2022-04-19T09:01:50.311833",
     "status": "completed"
    },
    "tags": []
   },
   "outputs": [
    {
     "data": {
      "text/plain": [
       "(1000, 22)"
      ]
     },
     "execution_count": 14,
     "metadata": {},
     "output_type": "execute_result"
    }
   ],
   "source": [
    "all_data = pd.concat([data, test], ignore_index=True)\n",
    "all_data.shape"
   ]
  },
  {
   "cell_type": "code",
   "execution_count": 15,
   "id": "b930bbd4",
   "metadata": {
    "execution": {
     "iopub.execute_input": "2022-04-19T09:01:50.478475Z",
     "iopub.status.busy": "2022-04-19T09:01:50.478175Z",
     "iopub.status.idle": "2022-04-19T09:01:50.496297Z",
     "shell.execute_reply": "2022-04-19T09:01:50.494975Z"
    },
    "papermill": {
     "duration": 0.073169,
     "end_time": "2022-04-19T09:01:50.498619",
     "exception": false,
     "start_time": "2022-04-19T09:01:50.425450",
     "status": "completed"
    },
    "tags": []
   },
   "outputs": [
    {
     "name": "stdout",
     "output_type": "stream",
     "text": [
      "<class 'pandas.core.frame.DataFrame'>\n",
      "RangeIndex: 1000 entries, 0 to 999\n",
      "Data columns (total 22 columns):\n",
      " #   Column           Non-Null Count  Dtype  \n",
      "---  ------           --------------  -----  \n",
      " 0   ID               1000 non-null   int64  \n",
      " 1   A1_Score         1000 non-null   int64  \n",
      " 2   A2_Score         1000 non-null   int64  \n",
      " 3   A3_Score         1000 non-null   int64  \n",
      " 4   A4_Score         1000 non-null   int64  \n",
      " 5   A5_Score         1000 non-null   int64  \n",
      " 6   A6_Score         1000 non-null   int64  \n",
      " 7   A7_Score         1000 non-null   int64  \n",
      " 8   A8_Score         1000 non-null   int64  \n",
      " 9   A9_Score         1000 non-null   int64  \n",
      " 10  A10_Score        1000 non-null   int64  \n",
      " 11  age              1000 non-null   float64\n",
      " 12  gender           1000 non-null   int64  \n",
      " 13  ethnicity        1000 non-null   int64  \n",
      " 14  jaundice         1000 non-null   int64  \n",
      " 15  austim           1000 non-null   int64  \n",
      " 16  contry_of_res    1000 non-null   int64  \n",
      " 17  used_app_before  1000 non-null   int64  \n",
      " 18  result           1000 non-null   float64\n",
      " 19  age_desc         1000 non-null   int64  \n",
      " 20  relation         1000 non-null   int64  \n",
      " 21  Class/ASD        800 non-null    float64\n",
      "dtypes: float64(3), int64(19)\n",
      "memory usage: 172.0 KB\n"
     ]
    }
   ],
   "source": [
    "all_data.info()"
   ]
  },
  {
   "cell_type": "markdown",
   "id": "c5fee273",
   "metadata": {
    "papermill": {
     "duration": 0.049871,
     "end_time": "2022-04-19T09:01:50.598821",
     "exception": false,
     "start_time": "2022-04-19T09:01:50.548950",
     "status": "completed"
    },
    "tags": []
   },
   "source": [
    "### Impute data"
   ]
  },
  {
   "cell_type": "code",
   "execution_count": 16,
   "id": "dccceb84",
   "metadata": {
    "_kg_hide-output": true,
    "execution": {
     "iopub.execute_input": "2022-04-19T09:01:50.700624Z",
     "iopub.status.busy": "2022-04-19T09:01:50.700307Z",
     "iopub.status.idle": "2022-04-19T09:01:50.710122Z",
     "shell.execute_reply": "2022-04-19T09:01:50.709136Z"
    },
    "papermill": {
     "duration": 0.063641,
     "end_time": "2022-04-19T09:01:50.712382",
     "exception": false,
     "start_time": "2022-04-19T09:01:50.648741",
     "status": "completed"
    },
    "tags": []
   },
   "outputs": [],
   "source": [
    "from sklearn.impute import KNNImputer, SimpleImputer"
   ]
  },
  {
   "cell_type": "code",
   "execution_count": 17,
   "id": "b860c0ae",
   "metadata": {
    "execution": {
     "iopub.execute_input": "2022-04-19T09:01:50.818316Z",
     "iopub.status.busy": "2022-04-19T09:01:50.817819Z",
     "iopub.status.idle": "2022-04-19T09:01:50.866444Z",
     "shell.execute_reply": "2022-04-19T09:01:50.865443Z"
    },
    "papermill": {
     "duration": 0.105063,
     "end_time": "2022-04-19T09:01:50.868848",
     "exception": false,
     "start_time": "2022-04-19T09:01:50.763785",
     "status": "completed"
    },
    "tags": []
   },
   "outputs": [
    {
     "data": {
      "text/html": [
       "<div>\n",
       "<style scoped>\n",
       "    .dataframe tbody tr th:only-of-type {\n",
       "        vertical-align: middle;\n",
       "    }\n",
       "\n",
       "    .dataframe tbody tr th {\n",
       "        vertical-align: top;\n",
       "    }\n",
       "\n",
       "    .dataframe thead th {\n",
       "        text-align: right;\n",
       "    }\n",
       "</style>\n",
       "<table border=\"1\" class=\"dataframe\">\n",
       "  <thead>\n",
       "    <tr style=\"text-align: right;\">\n",
       "      <th></th>\n",
       "      <th>0</th>\n",
       "      <th>1</th>\n",
       "      <th>2</th>\n",
       "      <th>3</th>\n",
       "      <th>4</th>\n",
       "      <th>5</th>\n",
       "      <th>6</th>\n",
       "      <th>7</th>\n",
       "      <th>8</th>\n",
       "      <th>9</th>\n",
       "      <th>...</th>\n",
       "      <th>12</th>\n",
       "      <th>13</th>\n",
       "      <th>14</th>\n",
       "      <th>15</th>\n",
       "      <th>16</th>\n",
       "      <th>17</th>\n",
       "      <th>18</th>\n",
       "      <th>19</th>\n",
       "      <th>20</th>\n",
       "      <th>21</th>\n",
       "    </tr>\n",
       "  </thead>\n",
       "  <tbody>\n",
       "    <tr>\n",
       "      <th>0</th>\n",
       "      <td>1.0</td>\n",
       "      <td>1.0</td>\n",
       "      <td>0.0</td>\n",
       "      <td>1.0</td>\n",
       "      <td>0.0</td>\n",
       "      <td>1.0</td>\n",
       "      <td>0.0</td>\n",
       "      <td>1.0</td>\n",
       "      <td>0.0</td>\n",
       "      <td>1.0</td>\n",
       "      <td>...</td>\n",
       "      <td>0.0</td>\n",
       "      <td>0.0</td>\n",
       "      <td>0.0</td>\n",
       "      <td>0.0</td>\n",
       "      <td>7.0</td>\n",
       "      <td>0.0</td>\n",
       "      <td>6.351166</td>\n",
       "      <td>0.0</td>\n",
       "      <td>5.0</td>\n",
       "      <td>0.00000</td>\n",
       "    </tr>\n",
       "    <tr>\n",
       "      <th>1</th>\n",
       "      <td>2.0</td>\n",
       "      <td>0.0</td>\n",
       "      <td>0.0</td>\n",
       "      <td>0.0</td>\n",
       "      <td>0.0</td>\n",
       "      <td>0.0</td>\n",
       "      <td>0.0</td>\n",
       "      <td>0.0</td>\n",
       "      <td>0.0</td>\n",
       "      <td>0.0</td>\n",
       "      <td>...</td>\n",
       "      <td>1.0</td>\n",
       "      <td>0.0</td>\n",
       "      <td>0.0</td>\n",
       "      <td>0.0</td>\n",
       "      <td>25.0</td>\n",
       "      <td>0.0</td>\n",
       "      <td>2.255185</td>\n",
       "      <td>0.0</td>\n",
       "      <td>5.0</td>\n",
       "      <td>0.00000</td>\n",
       "    </tr>\n",
       "    <tr>\n",
       "      <th>2</th>\n",
       "      <td>3.0</td>\n",
       "      <td>1.0</td>\n",
       "      <td>1.0</td>\n",
       "      <td>1.0</td>\n",
       "      <td>1.0</td>\n",
       "      <td>1.0</td>\n",
       "      <td>1.0</td>\n",
       "      <td>1.0</td>\n",
       "      <td>1.0</td>\n",
       "      <td>1.0</td>\n",
       "      <td>...</td>\n",
       "      <td>1.0</td>\n",
       "      <td>10.0</td>\n",
       "      <td>0.0</td>\n",
       "      <td>1.0</td>\n",
       "      <td>54.0</td>\n",
       "      <td>0.0</td>\n",
       "      <td>14.851484</td>\n",
       "      <td>0.0</td>\n",
       "      <td>5.0</td>\n",
       "      <td>1.00000</td>\n",
       "    </tr>\n",
       "    <tr>\n",
       "      <th>3</th>\n",
       "      <td>4.0</td>\n",
       "      <td>0.0</td>\n",
       "      <td>0.0</td>\n",
       "      <td>0.0</td>\n",
       "      <td>0.0</td>\n",
       "      <td>0.0</td>\n",
       "      <td>0.0</td>\n",
       "      <td>0.0</td>\n",
       "      <td>0.0</td>\n",
       "      <td>0.0</td>\n",
       "      <td>...</td>\n",
       "      <td>0.0</td>\n",
       "      <td>0.0</td>\n",
       "      <td>0.0</td>\n",
       "      <td>0.0</td>\n",
       "      <td>54.0</td>\n",
       "      <td>0.0</td>\n",
       "      <td>2.276617</td>\n",
       "      <td>0.0</td>\n",
       "      <td>5.0</td>\n",
       "      <td>0.00000</td>\n",
       "    </tr>\n",
       "    <tr>\n",
       "      <th>4</th>\n",
       "      <td>5.0</td>\n",
       "      <td>0.0</td>\n",
       "      <td>0.0</td>\n",
       "      <td>0.0</td>\n",
       "      <td>0.0</td>\n",
       "      <td>0.0</td>\n",
       "      <td>0.0</td>\n",
       "      <td>0.0</td>\n",
       "      <td>0.0</td>\n",
       "      <td>0.0</td>\n",
       "      <td>...</td>\n",
       "      <td>1.0</td>\n",
       "      <td>0.0</td>\n",
       "      <td>0.0</td>\n",
       "      <td>0.0</td>\n",
       "      <td>46.0</td>\n",
       "      <td>0.0</td>\n",
       "      <td>-4.777286</td>\n",
       "      <td>0.0</td>\n",
       "      <td>5.0</td>\n",
       "      <td>0.00000</td>\n",
       "    </tr>\n",
       "    <tr>\n",
       "      <th>...</th>\n",
       "      <td>...</td>\n",
       "      <td>...</td>\n",
       "      <td>...</td>\n",
       "      <td>...</td>\n",
       "      <td>...</td>\n",
       "      <td>...</td>\n",
       "      <td>...</td>\n",
       "      <td>...</td>\n",
       "      <td>...</td>\n",
       "      <td>...</td>\n",
       "      <td>...</td>\n",
       "      <td>...</td>\n",
       "      <td>...</td>\n",
       "      <td>...</td>\n",
       "      <td>...</td>\n",
       "      <td>...</td>\n",
       "      <td>...</td>\n",
       "      <td>...</td>\n",
       "      <td>...</td>\n",
       "      <td>...</td>\n",
       "      <td>...</td>\n",
       "    </tr>\n",
       "    <tr>\n",
       "      <th>995</th>\n",
       "      <td>196.0</td>\n",
       "      <td>1.0</td>\n",
       "      <td>1.0</td>\n",
       "      <td>0.0</td>\n",
       "      <td>0.0</td>\n",
       "      <td>1.0</td>\n",
       "      <td>0.0</td>\n",
       "      <td>0.0</td>\n",
       "      <td>1.0</td>\n",
       "      <td>1.0</td>\n",
       "      <td>...</td>\n",
       "      <td>1.0</td>\n",
       "      <td>2.0</td>\n",
       "      <td>0.0</td>\n",
       "      <td>0.0</td>\n",
       "      <td>4.0</td>\n",
       "      <td>0.0</td>\n",
       "      <td>-1.915659</td>\n",
       "      <td>0.0</td>\n",
       "      <td>5.0</td>\n",
       "      <td>0.20125</td>\n",
       "    </tr>\n",
       "    <tr>\n",
       "      <th>996</th>\n",
       "      <td>197.0</td>\n",
       "      <td>1.0</td>\n",
       "      <td>0.0</td>\n",
       "      <td>0.0</td>\n",
       "      <td>0.0</td>\n",
       "      <td>0.0</td>\n",
       "      <td>0.0</td>\n",
       "      <td>0.0</td>\n",
       "      <td>0.0</td>\n",
       "      <td>0.0</td>\n",
       "      <td>...</td>\n",
       "      <td>1.0</td>\n",
       "      <td>6.0</td>\n",
       "      <td>0.0</td>\n",
       "      <td>0.0</td>\n",
       "      <td>14.0</td>\n",
       "      <td>0.0</td>\n",
       "      <td>0.520234</td>\n",
       "      <td>0.0</td>\n",
       "      <td>5.0</td>\n",
       "      <td>0.20125</td>\n",
       "    </tr>\n",
       "    <tr>\n",
       "      <th>997</th>\n",
       "      <td>198.0</td>\n",
       "      <td>1.0</td>\n",
       "      <td>0.0</td>\n",
       "      <td>0.0</td>\n",
       "      <td>0.0</td>\n",
       "      <td>0.0</td>\n",
       "      <td>0.0</td>\n",
       "      <td>1.0</td>\n",
       "      <td>0.0</td>\n",
       "      <td>1.0</td>\n",
       "      <td>...</td>\n",
       "      <td>1.0</td>\n",
       "      <td>0.0</td>\n",
       "      <td>0.0</td>\n",
       "      <td>0.0</td>\n",
       "      <td>23.0</td>\n",
       "      <td>0.0</td>\n",
       "      <td>3.498948</td>\n",
       "      <td>0.0</td>\n",
       "      <td>0.0</td>\n",
       "      <td>0.20125</td>\n",
       "    </tr>\n",
       "    <tr>\n",
       "      <th>998</th>\n",
       "      <td>199.0</td>\n",
       "      <td>0.0</td>\n",
       "      <td>1.0</td>\n",
       "      <td>0.0</td>\n",
       "      <td>0.0</td>\n",
       "      <td>0.0</td>\n",
       "      <td>0.0</td>\n",
       "      <td>0.0</td>\n",
       "      <td>1.0</td>\n",
       "      <td>0.0</td>\n",
       "      <td>...</td>\n",
       "      <td>0.0</td>\n",
       "      <td>0.0</td>\n",
       "      <td>0.0</td>\n",
       "      <td>0.0</td>\n",
       "      <td>32.0</td>\n",
       "      <td>0.0</td>\n",
       "      <td>5.594550</td>\n",
       "      <td>0.0</td>\n",
       "      <td>5.0</td>\n",
       "      <td>0.20125</td>\n",
       "    </tr>\n",
       "    <tr>\n",
       "      <th>999</th>\n",
       "      <td>200.0</td>\n",
       "      <td>1.0</td>\n",
       "      <td>0.0</td>\n",
       "      <td>0.0</td>\n",
       "      <td>0.0</td>\n",
       "      <td>0.0</td>\n",
       "      <td>0.0</td>\n",
       "      <td>1.0</td>\n",
       "      <td>1.0</td>\n",
       "      <td>0.0</td>\n",
       "      <td>...</td>\n",
       "      <td>0.0</td>\n",
       "      <td>6.0</td>\n",
       "      <td>0.0</td>\n",
       "      <td>0.0</td>\n",
       "      <td>9.0</td>\n",
       "      <td>0.0</td>\n",
       "      <td>9.532981</td>\n",
       "      <td>0.0</td>\n",
       "      <td>5.0</td>\n",
       "      <td>0.20125</td>\n",
       "    </tr>\n",
       "  </tbody>\n",
       "</table>\n",
       "<p>1000 rows × 22 columns</p>\n",
       "</div>"
      ],
      "text/plain": [
       "        0    1    2    3    4    5    6    7    8    9   ...   12    13   14  \\\n",
       "0      1.0  1.0  0.0  1.0  0.0  1.0  0.0  1.0  0.0  1.0  ...  0.0   0.0  0.0   \n",
       "1      2.0  0.0  0.0  0.0  0.0  0.0  0.0  0.0  0.0  0.0  ...  1.0   0.0  0.0   \n",
       "2      3.0  1.0  1.0  1.0  1.0  1.0  1.0  1.0  1.0  1.0  ...  1.0  10.0  0.0   \n",
       "3      4.0  0.0  0.0  0.0  0.0  0.0  0.0  0.0  0.0  0.0  ...  0.0   0.0  0.0   \n",
       "4      5.0  0.0  0.0  0.0  0.0  0.0  0.0  0.0  0.0  0.0  ...  1.0   0.0  0.0   \n",
       "..     ...  ...  ...  ...  ...  ...  ...  ...  ...  ...  ...  ...   ...  ...   \n",
       "995  196.0  1.0  1.0  0.0  0.0  1.0  0.0  0.0  1.0  1.0  ...  1.0   2.0  0.0   \n",
       "996  197.0  1.0  0.0  0.0  0.0  0.0  0.0  0.0  0.0  0.0  ...  1.0   6.0  0.0   \n",
       "997  198.0  1.0  0.0  0.0  0.0  0.0  0.0  1.0  0.0  1.0  ...  1.0   0.0  0.0   \n",
       "998  199.0  0.0  1.0  0.0  0.0  0.0  0.0  0.0  1.0  0.0  ...  0.0   0.0  0.0   \n",
       "999  200.0  1.0  0.0  0.0  0.0  0.0  0.0  1.0  1.0  0.0  ...  0.0   6.0  0.0   \n",
       "\n",
       "      15    16   17         18   19   20       21  \n",
       "0    0.0   7.0  0.0   6.351166  0.0  5.0  0.00000  \n",
       "1    0.0  25.0  0.0   2.255185  0.0  5.0  0.00000  \n",
       "2    1.0  54.0  0.0  14.851484  0.0  5.0  1.00000  \n",
       "3    0.0  54.0  0.0   2.276617  0.0  5.0  0.00000  \n",
       "4    0.0  46.0  0.0  -4.777286  0.0  5.0  0.00000  \n",
       "..   ...   ...  ...        ...  ...  ...      ...  \n",
       "995  0.0   4.0  0.0  -1.915659  0.0  5.0  0.20125  \n",
       "996  0.0  14.0  0.0   0.520234  0.0  5.0  0.20125  \n",
       "997  0.0  23.0  0.0   3.498948  0.0  0.0  0.20125  \n",
       "998  0.0  32.0  0.0   5.594550  0.0  5.0  0.20125  \n",
       "999  0.0   9.0  0.0   9.532981  0.0  5.0  0.20125  \n",
       "\n",
       "[1000 rows x 22 columns]"
      ]
     },
     "execution_count": 17,
     "metadata": {},
     "output_type": "execute_result"
    }
   ],
   "source": [
    "spim = SimpleImputer()\n",
    "spimput_data = pd.DataFrame(spim.fit_transform(all_data))\n",
    "spimput_data"
   ]
  },
  {
   "cell_type": "code",
   "execution_count": 18,
   "id": "aad5f815",
   "metadata": {
    "execution": {
     "iopub.execute_input": "2022-04-19T09:01:50.975713Z",
     "iopub.status.busy": "2022-04-19T09:01:50.974847Z",
     "iopub.status.idle": "2022-04-19T09:01:51.095422Z",
     "shell.execute_reply": "2022-04-19T09:01:51.094468Z"
    },
    "papermill": {
     "duration": 0.177671,
     "end_time": "2022-04-19T09:01:51.099458",
     "exception": false,
     "start_time": "2022-04-19T09:01:50.921787",
     "status": "completed"
    },
    "tags": []
   },
   "outputs": [
    {
     "data": {
      "text/html": [
       "<div>\n",
       "<style scoped>\n",
       "    .dataframe tbody tr th:only-of-type {\n",
       "        vertical-align: middle;\n",
       "    }\n",
       "\n",
       "    .dataframe tbody tr th {\n",
       "        vertical-align: top;\n",
       "    }\n",
       "\n",
       "    .dataframe thead th {\n",
       "        text-align: right;\n",
       "    }\n",
       "</style>\n",
       "<table border=\"1\" class=\"dataframe\">\n",
       "  <thead>\n",
       "    <tr style=\"text-align: right;\">\n",
       "      <th></th>\n",
       "      <th>0</th>\n",
       "      <th>1</th>\n",
       "      <th>2</th>\n",
       "      <th>3</th>\n",
       "      <th>4</th>\n",
       "      <th>5</th>\n",
       "      <th>6</th>\n",
       "      <th>7</th>\n",
       "      <th>8</th>\n",
       "      <th>9</th>\n",
       "      <th>...</th>\n",
       "      <th>12</th>\n",
       "      <th>13</th>\n",
       "      <th>14</th>\n",
       "      <th>15</th>\n",
       "      <th>16</th>\n",
       "      <th>17</th>\n",
       "      <th>18</th>\n",
       "      <th>19</th>\n",
       "      <th>20</th>\n",
       "      <th>21</th>\n",
       "    </tr>\n",
       "  </thead>\n",
       "  <tbody>\n",
       "    <tr>\n",
       "      <th>0</th>\n",
       "      <td>1.0</td>\n",
       "      <td>1.0</td>\n",
       "      <td>0.0</td>\n",
       "      <td>1.0</td>\n",
       "      <td>0.0</td>\n",
       "      <td>1.0</td>\n",
       "      <td>0.0</td>\n",
       "      <td>1.0</td>\n",
       "      <td>0.0</td>\n",
       "      <td>1.0</td>\n",
       "      <td>...</td>\n",
       "      <td>0.0</td>\n",
       "      <td>0.0</td>\n",
       "      <td>0.0</td>\n",
       "      <td>0.0</td>\n",
       "      <td>7.0</td>\n",
       "      <td>0.0</td>\n",
       "      <td>6.351166</td>\n",
       "      <td>0.0</td>\n",
       "      <td>5.0</td>\n",
       "      <td>0.0</td>\n",
       "    </tr>\n",
       "    <tr>\n",
       "      <th>1</th>\n",
       "      <td>2.0</td>\n",
       "      <td>0.0</td>\n",
       "      <td>0.0</td>\n",
       "      <td>0.0</td>\n",
       "      <td>0.0</td>\n",
       "      <td>0.0</td>\n",
       "      <td>0.0</td>\n",
       "      <td>0.0</td>\n",
       "      <td>0.0</td>\n",
       "      <td>0.0</td>\n",
       "      <td>...</td>\n",
       "      <td>1.0</td>\n",
       "      <td>0.0</td>\n",
       "      <td>0.0</td>\n",
       "      <td>0.0</td>\n",
       "      <td>25.0</td>\n",
       "      <td>0.0</td>\n",
       "      <td>2.255185</td>\n",
       "      <td>0.0</td>\n",
       "      <td>5.0</td>\n",
       "      <td>0.0</td>\n",
       "    </tr>\n",
       "    <tr>\n",
       "      <th>2</th>\n",
       "      <td>3.0</td>\n",
       "      <td>1.0</td>\n",
       "      <td>1.0</td>\n",
       "      <td>1.0</td>\n",
       "      <td>1.0</td>\n",
       "      <td>1.0</td>\n",
       "      <td>1.0</td>\n",
       "      <td>1.0</td>\n",
       "      <td>1.0</td>\n",
       "      <td>1.0</td>\n",
       "      <td>...</td>\n",
       "      <td>1.0</td>\n",
       "      <td>10.0</td>\n",
       "      <td>0.0</td>\n",
       "      <td>1.0</td>\n",
       "      <td>54.0</td>\n",
       "      <td>0.0</td>\n",
       "      <td>14.851484</td>\n",
       "      <td>0.0</td>\n",
       "      <td>5.0</td>\n",
       "      <td>1.0</td>\n",
       "    </tr>\n",
       "    <tr>\n",
       "      <th>3</th>\n",
       "      <td>4.0</td>\n",
       "      <td>0.0</td>\n",
       "      <td>0.0</td>\n",
       "      <td>0.0</td>\n",
       "      <td>0.0</td>\n",
       "      <td>0.0</td>\n",
       "      <td>0.0</td>\n",
       "      <td>0.0</td>\n",
       "      <td>0.0</td>\n",
       "      <td>0.0</td>\n",
       "      <td>...</td>\n",
       "      <td>0.0</td>\n",
       "      <td>0.0</td>\n",
       "      <td>0.0</td>\n",
       "      <td>0.0</td>\n",
       "      <td>54.0</td>\n",
       "      <td>0.0</td>\n",
       "      <td>2.276617</td>\n",
       "      <td>0.0</td>\n",
       "      <td>5.0</td>\n",
       "      <td>0.0</td>\n",
       "    </tr>\n",
       "    <tr>\n",
       "      <th>4</th>\n",
       "      <td>5.0</td>\n",
       "      <td>0.0</td>\n",
       "      <td>0.0</td>\n",
       "      <td>0.0</td>\n",
       "      <td>0.0</td>\n",
       "      <td>0.0</td>\n",
       "      <td>0.0</td>\n",
       "      <td>0.0</td>\n",
       "      <td>0.0</td>\n",
       "      <td>0.0</td>\n",
       "      <td>...</td>\n",
       "      <td>1.0</td>\n",
       "      <td>0.0</td>\n",
       "      <td>0.0</td>\n",
       "      <td>0.0</td>\n",
       "      <td>46.0</td>\n",
       "      <td>0.0</td>\n",
       "      <td>-4.777286</td>\n",
       "      <td>0.0</td>\n",
       "      <td>5.0</td>\n",
       "      <td>0.0</td>\n",
       "    </tr>\n",
       "    <tr>\n",
       "      <th>...</th>\n",
       "      <td>...</td>\n",
       "      <td>...</td>\n",
       "      <td>...</td>\n",
       "      <td>...</td>\n",
       "      <td>...</td>\n",
       "      <td>...</td>\n",
       "      <td>...</td>\n",
       "      <td>...</td>\n",
       "      <td>...</td>\n",
       "      <td>...</td>\n",
       "      <td>...</td>\n",
       "      <td>...</td>\n",
       "      <td>...</td>\n",
       "      <td>...</td>\n",
       "      <td>...</td>\n",
       "      <td>...</td>\n",
       "      <td>...</td>\n",
       "      <td>...</td>\n",
       "      <td>...</td>\n",
       "      <td>...</td>\n",
       "      <td>...</td>\n",
       "    </tr>\n",
       "    <tr>\n",
       "      <th>995</th>\n",
       "      <td>196.0</td>\n",
       "      <td>1.0</td>\n",
       "      <td>1.0</td>\n",
       "      <td>0.0</td>\n",
       "      <td>0.0</td>\n",
       "      <td>1.0</td>\n",
       "      <td>0.0</td>\n",
       "      <td>0.0</td>\n",
       "      <td>1.0</td>\n",
       "      <td>1.0</td>\n",
       "      <td>...</td>\n",
       "      <td>1.0</td>\n",
       "      <td>2.0</td>\n",
       "      <td>0.0</td>\n",
       "      <td>0.0</td>\n",
       "      <td>4.0</td>\n",
       "      <td>0.0</td>\n",
       "      <td>-1.915659</td>\n",
       "      <td>0.0</td>\n",
       "      <td>5.0</td>\n",
       "      <td>0.0</td>\n",
       "    </tr>\n",
       "    <tr>\n",
       "      <th>996</th>\n",
       "      <td>197.0</td>\n",
       "      <td>1.0</td>\n",
       "      <td>0.0</td>\n",
       "      <td>0.0</td>\n",
       "      <td>0.0</td>\n",
       "      <td>0.0</td>\n",
       "      <td>0.0</td>\n",
       "      <td>0.0</td>\n",
       "      <td>0.0</td>\n",
       "      <td>0.0</td>\n",
       "      <td>...</td>\n",
       "      <td>1.0</td>\n",
       "      <td>6.0</td>\n",
       "      <td>0.0</td>\n",
       "      <td>0.0</td>\n",
       "      <td>14.0</td>\n",
       "      <td>0.0</td>\n",
       "      <td>0.520234</td>\n",
       "      <td>0.0</td>\n",
       "      <td>5.0</td>\n",
       "      <td>0.0</td>\n",
       "    </tr>\n",
       "    <tr>\n",
       "      <th>997</th>\n",
       "      <td>198.0</td>\n",
       "      <td>1.0</td>\n",
       "      <td>0.0</td>\n",
       "      <td>0.0</td>\n",
       "      <td>0.0</td>\n",
       "      <td>0.0</td>\n",
       "      <td>0.0</td>\n",
       "      <td>1.0</td>\n",
       "      <td>0.0</td>\n",
       "      <td>1.0</td>\n",
       "      <td>...</td>\n",
       "      <td>1.0</td>\n",
       "      <td>0.0</td>\n",
       "      <td>0.0</td>\n",
       "      <td>0.0</td>\n",
       "      <td>23.0</td>\n",
       "      <td>0.0</td>\n",
       "      <td>3.498948</td>\n",
       "      <td>0.0</td>\n",
       "      <td>0.0</td>\n",
       "      <td>0.0</td>\n",
       "    </tr>\n",
       "    <tr>\n",
       "      <th>998</th>\n",
       "      <td>199.0</td>\n",
       "      <td>0.0</td>\n",
       "      <td>1.0</td>\n",
       "      <td>0.0</td>\n",
       "      <td>0.0</td>\n",
       "      <td>0.0</td>\n",
       "      <td>0.0</td>\n",
       "      <td>0.0</td>\n",
       "      <td>1.0</td>\n",
       "      <td>0.0</td>\n",
       "      <td>...</td>\n",
       "      <td>0.0</td>\n",
       "      <td>0.0</td>\n",
       "      <td>0.0</td>\n",
       "      <td>0.0</td>\n",
       "      <td>32.0</td>\n",
       "      <td>0.0</td>\n",
       "      <td>5.594550</td>\n",
       "      <td>0.0</td>\n",
       "      <td>5.0</td>\n",
       "      <td>0.0</td>\n",
       "    </tr>\n",
       "    <tr>\n",
       "      <th>999</th>\n",
       "      <td>200.0</td>\n",
       "      <td>1.0</td>\n",
       "      <td>0.0</td>\n",
       "      <td>0.0</td>\n",
       "      <td>0.0</td>\n",
       "      <td>0.0</td>\n",
       "      <td>0.0</td>\n",
       "      <td>1.0</td>\n",
       "      <td>1.0</td>\n",
       "      <td>0.0</td>\n",
       "      <td>...</td>\n",
       "      <td>0.0</td>\n",
       "      <td>6.0</td>\n",
       "      <td>0.0</td>\n",
       "      <td>0.0</td>\n",
       "      <td>9.0</td>\n",
       "      <td>0.0</td>\n",
       "      <td>9.532981</td>\n",
       "      <td>0.0</td>\n",
       "      <td>5.0</td>\n",
       "      <td>0.5</td>\n",
       "    </tr>\n",
       "  </tbody>\n",
       "</table>\n",
       "<p>1000 rows × 22 columns</p>\n",
       "</div>"
      ],
      "text/plain": [
       "        0    1    2    3    4    5    6    7    8    9   ...   12    13   14  \\\n",
       "0      1.0  1.0  0.0  1.0  0.0  1.0  0.0  1.0  0.0  1.0  ...  0.0   0.0  0.0   \n",
       "1      2.0  0.0  0.0  0.0  0.0  0.0  0.0  0.0  0.0  0.0  ...  1.0   0.0  0.0   \n",
       "2      3.0  1.0  1.0  1.0  1.0  1.0  1.0  1.0  1.0  1.0  ...  1.0  10.0  0.0   \n",
       "3      4.0  0.0  0.0  0.0  0.0  0.0  0.0  0.0  0.0  0.0  ...  0.0   0.0  0.0   \n",
       "4      5.0  0.0  0.0  0.0  0.0  0.0  0.0  0.0  0.0  0.0  ...  1.0   0.0  0.0   \n",
       "..     ...  ...  ...  ...  ...  ...  ...  ...  ...  ...  ...  ...   ...  ...   \n",
       "995  196.0  1.0  1.0  0.0  0.0  1.0  0.0  0.0  1.0  1.0  ...  1.0   2.0  0.0   \n",
       "996  197.0  1.0  0.0  0.0  0.0  0.0  0.0  0.0  0.0  0.0  ...  1.0   6.0  0.0   \n",
       "997  198.0  1.0  0.0  0.0  0.0  0.0  0.0  1.0  0.0  1.0  ...  1.0   0.0  0.0   \n",
       "998  199.0  0.0  1.0  0.0  0.0  0.0  0.0  0.0  1.0  0.0  ...  0.0   0.0  0.0   \n",
       "999  200.0  1.0  0.0  0.0  0.0  0.0  0.0  1.0  1.0  0.0  ...  0.0   6.0  0.0   \n",
       "\n",
       "      15    16   17         18   19   20   21  \n",
       "0    0.0   7.0  0.0   6.351166  0.0  5.0  0.0  \n",
       "1    0.0  25.0  0.0   2.255185  0.0  5.0  0.0  \n",
       "2    1.0  54.0  0.0  14.851484  0.0  5.0  1.0  \n",
       "3    0.0  54.0  0.0   2.276617  0.0  5.0  0.0  \n",
       "4    0.0  46.0  0.0  -4.777286  0.0  5.0  0.0  \n",
       "..   ...   ...  ...        ...  ...  ...  ...  \n",
       "995  0.0   4.0  0.0  -1.915659  0.0  5.0  0.0  \n",
       "996  0.0  14.0  0.0   0.520234  0.0  5.0  0.0  \n",
       "997  0.0  23.0  0.0   3.498948  0.0  0.0  0.0  \n",
       "998  0.0  32.0  0.0   5.594550  0.0  5.0  0.0  \n",
       "999  0.0   9.0  0.0   9.532981  0.0  5.0  0.5  \n",
       "\n",
       "[1000 rows x 22 columns]"
      ]
     },
     "execution_count": 18,
     "metadata": {},
     "output_type": "execute_result"
    }
   ],
   "source": [
    "imputer = KNNImputer(n_neighbors=2, weights=\"uniform\")\n",
    "imput_data = pd.DataFrame(imputer.fit_transform(all_data))\n",
    "imput_data"
   ]
  },
  {
   "cell_type": "markdown",
   "id": "1dd70a06",
   "metadata": {
    "papermill": {
     "duration": 0.051832,
     "end_time": "2022-04-19T09:01:51.211227",
     "exception": false,
     "start_time": "2022-04-19T09:01:51.159395",
     "status": "completed"
    },
    "tags": []
   },
   "source": [
    "### Rename cols"
   ]
  },
  {
   "cell_type": "code",
   "execution_count": 19,
   "id": "e43cae6c",
   "metadata": {
    "execution": {
     "iopub.execute_input": "2022-04-19T09:01:51.318859Z",
     "iopub.status.busy": "2022-04-19T09:01:51.318551Z",
     "iopub.status.idle": "2022-04-19T09:01:51.324512Z",
     "shell.execute_reply": "2022-04-19T09:01:51.323865Z"
    },
    "papermill": {
     "duration": 0.06253,
     "end_time": "2022-04-19T09:01:51.326362",
     "exception": false,
     "start_time": "2022-04-19T09:01:51.263832",
     "status": "completed"
    },
    "tags": []
   },
   "outputs": [
    {
     "data": {
      "text/plain": [
       "['ID',\n",
       " 'A1_Score',\n",
       " 'A2_Score',\n",
       " 'A3_Score',\n",
       " 'A4_Score',\n",
       " 'A5_Score',\n",
       " 'A6_Score',\n",
       " 'A7_Score',\n",
       " 'A8_Score',\n",
       " 'A9_Score',\n",
       " 'A10_Score',\n",
       " 'age',\n",
       " 'gender',\n",
       " 'ethnicity',\n",
       " 'jaundice',\n",
       " 'austim',\n",
       " 'contry_of_res',\n",
       " 'used_app_before',\n",
       " 'result',\n",
       " 'age_desc',\n",
       " 'relation',\n",
       " 'Class/ASD']"
      ]
     },
     "execution_count": 19,
     "metadata": {},
     "output_type": "execute_result"
    }
   ],
   "source": [
    "all_data.columns.tolist()"
   ]
  },
  {
   "cell_type": "code",
   "execution_count": 20,
   "id": "a5085ef6",
   "metadata": {
    "execution": {
     "iopub.execute_input": "2022-04-19T09:01:51.435656Z",
     "iopub.status.busy": "2022-04-19T09:01:51.435342Z",
     "iopub.status.idle": "2022-04-19T09:01:51.441547Z",
     "shell.execute_reply": "2022-04-19T09:01:51.440525Z"
    },
    "papermill": {
     "duration": 0.063019,
     "end_time": "2022-04-19T09:01:51.443644",
     "exception": false,
     "start_time": "2022-04-19T09:01:51.380625",
     "status": "completed"
    },
    "tags": []
   },
   "outputs": [],
   "source": [
    "col_names = {0:'ID', 1:'A1_Score', 2:'A2_Score', 3:'A3_Score', 4:'A4_Score', 5:'A5_Score', 6:'A6_Score',\n",
    " 7:'A7_Score', 8:'A8_Score', 9:'A9_Score', 10:'A10_Score', 11:'age', 12:'gender', 13:'ethnicity', 14:'jaundice',\n",
    " 15:'austim', 16:'contry_of_res', 17:'used_app_before', 18:'result', 19:'age_desc', 20:'relation', 21:'Class/ASD'}"
   ]
  },
  {
   "cell_type": "code",
   "execution_count": 21,
   "id": "a8a36a68",
   "metadata": {
    "execution": {
     "iopub.execute_input": "2022-04-19T09:01:51.551705Z",
     "iopub.status.busy": "2022-04-19T09:01:51.551384Z",
     "iopub.status.idle": "2022-04-19T09:01:51.564355Z",
     "shell.execute_reply": "2022-04-19T09:01:51.563362Z"
    },
    "papermill": {
     "duration": 0.06945,
     "end_time": "2022-04-19T09:01:51.566581",
     "exception": false,
     "start_time": "2022-04-19T09:01:51.497131",
     "status": "completed"
    },
    "tags": []
   },
   "outputs": [
    {
     "data": {
      "text/plain": [
       "0.00000    639\n",
       "0.20125    200\n",
       "1.00000    161\n",
       "Name: Class/ASD, dtype: int64"
      ]
     },
     "execution_count": 21,
     "metadata": {},
     "output_type": "execute_result"
    }
   ],
   "source": [
    "spimput_data.rename(columns = col_names, inplace = True)\n",
    "spimput_data['Class/ASD'].value_counts()"
   ]
  },
  {
   "cell_type": "code",
   "execution_count": 22,
   "id": "7cc45382",
   "metadata": {
    "execution": {
     "iopub.execute_input": "2022-04-19T09:01:51.674867Z",
     "iopub.status.busy": "2022-04-19T09:01:51.674222Z",
     "iopub.status.idle": "2022-04-19T09:01:51.682888Z",
     "shell.execute_reply": "2022-04-19T09:01:51.681975Z"
    },
    "papermill": {
     "duration": 0.065475,
     "end_time": "2022-04-19T09:01:51.685251",
     "exception": false,
     "start_time": "2022-04-19T09:01:51.619776",
     "status": "completed"
    },
    "tags": []
   },
   "outputs": [
    {
     "data": {
      "text/plain": [
       "0.0    798\n",
       "1.0    167\n",
       "0.5     35\n",
       "Name: Class/ASD, dtype: int64"
      ]
     },
     "execution_count": 22,
     "metadata": {},
     "output_type": "execute_result"
    }
   ],
   "source": [
    "imput_data.rename(columns = col_names, inplace = True)\n",
    "imput_data['Class/ASD'].value_counts()"
   ]
  },
  {
   "cell_type": "code",
   "execution_count": 23,
   "id": "06e0dfd7",
   "metadata": {
    "execution": {
     "iopub.execute_input": "2022-04-19T09:01:51.793994Z",
     "iopub.status.busy": "2022-04-19T09:01:51.793674Z",
     "iopub.status.idle": "2022-04-19T09:01:51.801588Z",
     "shell.execute_reply": "2022-04-19T09:01:51.800703Z"
    },
    "papermill": {
     "duration": 0.065357,
     "end_time": "2022-04-19T09:01:51.803780",
     "exception": false,
     "start_time": "2022-04-19T09:01:51.738423",
     "status": "completed"
    },
    "tags": []
   },
   "outputs": [],
   "source": [
    "imput_data['Class/ASD'][ imput_data['Class/ASD'] == 0.5] = 0"
   ]
  },
  {
   "cell_type": "code",
   "execution_count": 24,
   "id": "f8d64a1c",
   "metadata": {
    "execution": {
     "iopub.execute_input": "2022-04-19T09:01:51.915019Z",
     "iopub.status.busy": "2022-04-19T09:01:51.914071Z",
     "iopub.status.idle": "2022-04-19T09:01:51.922349Z",
     "shell.execute_reply": "2022-04-19T09:01:51.921278Z"
    },
    "papermill": {
     "duration": 0.064933,
     "end_time": "2022-04-19T09:01:51.924439",
     "exception": false,
     "start_time": "2022-04-19T09:01:51.859506",
     "status": "completed"
    },
    "tags": []
   },
   "outputs": [
    {
     "data": {
      "text/plain": [
       "0.0    833\n",
       "1.0    167\n",
       "Name: Class/ASD, dtype: int64"
      ]
     },
     "execution_count": 24,
     "metadata": {},
     "output_type": "execute_result"
    }
   ],
   "source": [
    "imput_data['Class/ASD'].value_counts()"
   ]
  },
  {
   "cell_type": "code",
   "execution_count": 25,
   "id": "c09f89fa",
   "metadata": {
    "execution": {
     "iopub.execute_input": "2022-04-19T09:01:52.036226Z",
     "iopub.status.busy": "2022-04-19T09:01:52.035908Z",
     "iopub.status.idle": "2022-04-19T09:01:52.044446Z",
     "shell.execute_reply": "2022-04-19T09:01:52.043560Z"
    },
    "papermill": {
     "duration": 0.066812,
     "end_time": "2022-04-19T09:01:52.046538",
     "exception": false,
     "start_time": "2022-04-19T09:01:51.979726",
     "status": "completed"
    },
    "tags": []
   },
   "outputs": [
    {
     "data": {
      "text/plain": [
       "(1000, 20)"
      ]
     },
     "execution_count": 25,
     "metadata": {},
     "output_type": "execute_result"
    }
   ],
   "source": [
    "X_ = imput_data.copy()\n",
    "del X_['ID']\n",
    "y_ = X_.pop('Class/ASD')\n",
    "X_.shape"
   ]
  },
  {
   "cell_type": "code",
   "execution_count": 26,
   "id": "4ff96670",
   "metadata": {
    "execution": {
     "iopub.execute_input": "2022-04-19T09:01:52.159307Z",
     "iopub.status.busy": "2022-04-19T09:01:52.158672Z",
     "iopub.status.idle": "2022-04-19T09:01:52.533875Z",
     "shell.execute_reply": "2022-04-19T09:01:52.532445Z"
    },
    "papermill": {
     "duration": 0.435628,
     "end_time": "2022-04-19T09:01:52.537776",
     "exception": false,
     "start_time": "2022-04-19T09:01:52.102148",
     "status": "completed"
    },
    "tags": []
   },
   "outputs": [
    {
     "name": "stderr",
     "output_type": "stream",
     "text": [
      "/opt/conda/lib/python3.7/site-packages/xgboost/sklearn.py:1224: UserWarning: The use of label encoder in XGBClassifier is deprecated and will be removed in a future release. To remove this warning, do the following: 1) Pass option use_label_encoder=False when constructing XGBClassifier object; and 2) Encode your labels (y) as integers starting with 0, i.e. 0, 1, 2, ..., [num_class - 1].\n",
      "  warnings.warn(label_encoder_deprecation_msg, UserWarning)\n"
     ]
    },
    {
     "name": "stdout",
     "output_type": "stream",
     "text": [
      "[09:01:52] WARNING: ../src/learner.cc:1115: Starting in XGBoost 1.3.0, the default evaluation metric used with the objective 'binary:logistic' was changed from 'error' to 'logloss'. Explicitly set eval_metric if you'd like to restore the old behavior.\n",
      "AUC: 1.00000\n"
     ]
    }
   ],
   "source": [
    "model = XGBClassifier()\n",
    "model.fit(X_, y_)\n",
    "\n",
    "pred = model.predict(X_test)\n",
    "auc = roc_auc_score(y_test, pred)\n",
    "print(\"AUC: %.5f\" % auc)\n",
    "\n",
    "# AUC: 0.74328\n",
    "# X, y : AUC: 1.00000"
   ]
  },
  {
   "cell_type": "code",
   "execution_count": 27,
   "id": "f8dce8fc",
   "metadata": {
    "execution": {
     "iopub.execute_input": "2022-04-19T09:01:52.651939Z",
     "iopub.status.busy": "2022-04-19T09:01:52.651364Z",
     "iopub.status.idle": "2022-04-19T09:01:52.664946Z",
     "shell.execute_reply": "2022-04-19T09:01:52.664293Z"
    },
    "papermill": {
     "duration": 0.072151,
     "end_time": "2022-04-19T09:01:52.666890",
     "exception": false,
     "start_time": "2022-04-19T09:01:52.594739",
     "status": "completed"
    },
    "tags": []
   },
   "outputs": [
    {
     "data": {
      "text/html": [
       "<div>\n",
       "<style scoped>\n",
       "    .dataframe tbody tr th:only-of-type {\n",
       "        vertical-align: middle;\n",
       "    }\n",
       "\n",
       "    .dataframe tbody tr th {\n",
       "        vertical-align: top;\n",
       "    }\n",
       "\n",
       "    .dataframe thead th {\n",
       "        text-align: right;\n",
       "    }\n",
       "</style>\n",
       "<table border=\"1\" class=\"dataframe\">\n",
       "  <thead>\n",
       "    <tr style=\"text-align: right;\">\n",
       "      <th></th>\n",
       "      <th>Value</th>\n",
       "      <th>Feature</th>\n",
       "    </tr>\n",
       "  </thead>\n",
       "  <tbody>\n",
       "    <tr>\n",
       "      <th>3</th>\n",
       "      <td>0.182708</td>\n",
       "      <td>A4_Score</td>\n",
       "    </tr>\n",
       "    <tr>\n",
       "      <th>5</th>\n",
       "      <td>0.181518</td>\n",
       "      <td>A6_Score</td>\n",
       "    </tr>\n",
       "    <tr>\n",
       "      <th>8</th>\n",
       "      <td>0.143151</td>\n",
       "      <td>A9_Score</td>\n",
       "    </tr>\n",
       "    <tr>\n",
       "      <th>9</th>\n",
       "      <td>0.079461</td>\n",
       "      <td>A10_Score</td>\n",
       "    </tr>\n",
       "    <tr>\n",
       "      <th>2</th>\n",
       "      <td>0.058014</td>\n",
       "      <td>A3_Score</td>\n",
       "    </tr>\n",
       "    <tr>\n",
       "      <th>19</th>\n",
       "      <td>0.048835</td>\n",
       "      <td>relation</td>\n",
       "    </tr>\n",
       "    <tr>\n",
       "      <th>1</th>\n",
       "      <td>0.043922</td>\n",
       "      <td>A2_Score</td>\n",
       "    </tr>\n",
       "    <tr>\n",
       "      <th>15</th>\n",
       "      <td>0.034850</td>\n",
       "      <td>contry_of_res</td>\n",
       "    </tr>\n",
       "    <tr>\n",
       "      <th>7</th>\n",
       "      <td>0.032780</td>\n",
       "      <td>A8_Score</td>\n",
       "    </tr>\n",
       "    <tr>\n",
       "      <th>6</th>\n",
       "      <td>0.027368</td>\n",
       "      <td>A7_Score</td>\n",
       "    </tr>\n",
       "    <tr>\n",
       "      <th>12</th>\n",
       "      <td>0.026531</td>\n",
       "      <td>ethnicity</td>\n",
       "    </tr>\n",
       "    <tr>\n",
       "      <th>4</th>\n",
       "      <td>0.024192</td>\n",
       "      <td>A5_Score</td>\n",
       "    </tr>\n",
       "    <tr>\n",
       "      <th>10</th>\n",
       "      <td>0.021297</td>\n",
       "      <td>age</td>\n",
       "    </tr>\n",
       "    <tr>\n",
       "      <th>14</th>\n",
       "      <td>0.019643</td>\n",
       "      <td>austim</td>\n",
       "    </tr>\n",
       "    <tr>\n",
       "      <th>0</th>\n",
       "      <td>0.019560</td>\n",
       "      <td>A1_Score</td>\n",
       "    </tr>\n",
       "    <tr>\n",
       "      <th>13</th>\n",
       "      <td>0.017886</td>\n",
       "      <td>jaundice</td>\n",
       "    </tr>\n",
       "    <tr>\n",
       "      <th>11</th>\n",
       "      <td>0.016071</td>\n",
       "      <td>gender</td>\n",
       "    </tr>\n",
       "    <tr>\n",
       "      <th>17</th>\n",
       "      <td>0.015903</td>\n",
       "      <td>result</td>\n",
       "    </tr>\n",
       "    <tr>\n",
       "      <th>16</th>\n",
       "      <td>0.006313</td>\n",
       "      <td>used_app_before</td>\n",
       "    </tr>\n",
       "    <tr>\n",
       "      <th>18</th>\n",
       "      <td>0.000000</td>\n",
       "      <td>age_desc</td>\n",
       "    </tr>\n",
       "  </tbody>\n",
       "</table>\n",
       "</div>"
      ],
      "text/plain": [
       "       Value          Feature\n",
       "3   0.182708         A4_Score\n",
       "5   0.181518         A6_Score\n",
       "8   0.143151         A9_Score\n",
       "9   0.079461        A10_Score\n",
       "2   0.058014         A3_Score\n",
       "19  0.048835         relation\n",
       "1   0.043922         A2_Score\n",
       "15  0.034850    contry_of_res\n",
       "7   0.032780         A8_Score\n",
       "6   0.027368         A7_Score\n",
       "12  0.026531        ethnicity\n",
       "4   0.024192         A5_Score\n",
       "10  0.021297              age\n",
       "14  0.019643           austim\n",
       "0   0.019560         A1_Score\n",
       "13  0.017886         jaundice\n",
       "11  0.016071           gender\n",
       "17  0.015903           result\n",
       "16  0.006313  used_app_before\n",
       "18  0.000000         age_desc"
      ]
     },
     "execution_count": 27,
     "metadata": {},
     "output_type": "execute_result"
    }
   ],
   "source": [
    "pd.DataFrame({'Value':model.feature_importances_,'Feature':X.columns}).sort_values(by=\"Value\",ascending=False)"
   ]
  },
  {
   "cell_type": "code",
   "execution_count": 28,
   "id": "4ed84ce3",
   "metadata": {
    "execution": {
     "iopub.execute_input": "2022-04-19T09:01:52.782872Z",
     "iopub.status.busy": "2022-04-19T09:01:52.782300Z",
     "iopub.status.idle": "2022-04-19T09:01:52.926906Z",
     "shell.execute_reply": "2022-04-19T09:01:52.926219Z"
    },
    "papermill": {
     "duration": 0.206352,
     "end_time": "2022-04-19T09:01:52.929283",
     "exception": false,
     "start_time": "2022-04-19T09:01:52.722931",
     "status": "completed"
    },
    "tags": []
   },
   "outputs": [
    {
     "name": "stdout",
     "output_type": "stream",
     "text": [
      "AUC: 1.00000\n"
     ]
    }
   ],
   "source": [
    "model = LGBMClassifier()\n",
    "model.fit(X_, y_)\n",
    "\n",
    "pred = model.predict(X_test)\n",
    "auc = roc_auc_score(y_test, pred)\n",
    "print(\"AUC: %.5f\" % auc)\n",
    "\n",
    "# AUC: 0.72939\n",
    "# AUC: 0.99597"
   ]
  },
  {
   "cell_type": "code",
   "execution_count": 29,
   "id": "aab6a426",
   "metadata": {
    "execution": {
     "iopub.execute_input": "2022-04-19T09:01:53.045012Z",
     "iopub.status.busy": "2022-04-19T09:01:53.044706Z",
     "iopub.status.idle": "2022-04-19T09:01:54.606422Z",
     "shell.execute_reply": "2022-04-19T09:01:54.605366Z"
    },
    "papermill": {
     "duration": 1.621824,
     "end_time": "2022-04-19T09:01:54.609078",
     "exception": false,
     "start_time": "2022-04-19T09:01:52.987254",
     "status": "completed"
    },
    "tags": []
   },
   "outputs": [
    {
     "name": "stdout",
     "output_type": "stream",
     "text": [
      "AUC: 0.95833\n"
     ]
    }
   ],
   "source": [
    "model = CatBoostClassifier(verbose=False)\n",
    "model.fit(X_, y_)\n",
    "\n",
    "pred = model.predict(X_test)\n",
    "auc = roc_auc_score(y_test, pred)\n",
    "print(\"AUC: %.5f\" % auc)\n",
    "\n",
    "# AUC: 0.76120\n",
    "# AUC: 0.98208"
   ]
  },
  {
   "cell_type": "code",
   "execution_count": 30,
   "id": "f753540e",
   "metadata": {
    "execution": {
     "iopub.execute_input": "2022-04-19T09:01:54.725330Z",
     "iopub.status.busy": "2022-04-19T09:01:54.724996Z",
     "iopub.status.idle": "2022-04-19T09:01:54.730779Z",
     "shell.execute_reply": "2022-04-19T09:01:54.729841Z"
    },
    "papermill": {
     "duration": 0.066692,
     "end_time": "2022-04-19T09:01:54.732956",
     "exception": false,
     "start_time": "2022-04-19T09:01:54.666264",
     "status": "completed"
    },
    "tags": []
   },
   "outputs": [],
   "source": [
    "features = ['A1_Score',\n",
    " 'A2_Score',\n",
    " 'A3_Score',\n",
    " 'A4_Score',\n",
    " 'A5_Score',\n",
    " 'A6_Score',\n",
    " 'A7_Score',\n",
    " 'A8_Score',\n",
    " 'A9_Score',\n",
    " 'age',\n",
    " 'gender',\n",
    " 'ethnicity',\n",
    " 'jaundice',\n",
    " 'austim',\n",
    " 'contry_of_res',\n",
    " 'used_app_before',\n",
    " 'result',\n",
    " 'relation']"
   ]
  },
  {
   "cell_type": "markdown",
   "id": "dde6d985",
   "metadata": {
    "papermill": {
     "duration": 0.057884,
     "end_time": "2022-04-19T09:01:54.848822",
     "exception": false,
     "start_time": "2022-04-19T09:01:54.790938",
     "status": "completed"
    },
    "tags": []
   },
   "source": [
    "# Optuna with XGB"
   ]
  },
  {
   "cell_type": "code",
   "execution_count": 31,
   "id": "2ca702b5",
   "metadata": {
    "execution": {
     "iopub.execute_input": "2022-04-19T09:01:54.965385Z",
     "iopub.status.busy": "2022-04-19T09:01:54.965068Z",
     "iopub.status.idle": "2022-04-19T09:01:54.971531Z",
     "shell.execute_reply": "2022-04-19T09:01:54.970641Z"
    },
    "papermill": {
     "duration": 0.068239,
     "end_time": "2022-04-19T09:01:54.973662",
     "exception": false,
     "start_time": "2022-04-19T09:01:54.905423",
     "status": "completed"
    },
    "tags": []
   },
   "outputs": [],
   "source": [
    "def objectivesXGBCls(trial):\n",
    "    params = {\n",
    "        'max_depth' : trial.suggest_int(\"max_depth\", 1, 16),\n",
    "        'n_estimators': trial.suggest_int('n_estimators', 10, 3000),\n",
    "        'random_state': trial.suggest_int(\"random_state\", 1, 1522),\n",
    "        'learning_rate': trial.suggest_float('learning_rate',0, 1),\n",
    "    }\n",
    "\n",
    "    model = XGBClassifier(**params)\n",
    "    model.fit(X_,y_)\n",
    "    score = model.score(X_,y_)\n",
    "    print(score)\n",
    "    return score"
   ]
  },
  {
   "cell_type": "code",
   "execution_count": 32,
   "id": "57cf6cc6",
   "metadata": {
    "execution": {
     "iopub.execute_input": "2022-04-19T09:01:55.089980Z",
     "iopub.status.busy": "2022-04-19T09:01:55.089526Z",
     "iopub.status.idle": "2022-04-19T09:01:55.092386Z",
     "shell.execute_reply": "2022-04-19T09:01:55.091803Z"
    },
    "papermill": {
     "duration": 0.063695,
     "end_time": "2022-04-19T09:01:55.094287",
     "exception": false,
     "start_time": "2022-04-19T09:01:55.030592",
     "status": "completed"
    },
    "tags": []
   },
   "outputs": [],
   "source": [
    "#opt = optuna.create_study(direction='maximize')\n",
    "#opt.optimize(objectivesXGBCls, n_trials=15)"
   ]
  },
  {
   "cell_type": "code",
   "execution_count": 33,
   "id": "6f0e1038",
   "metadata": {
    "execution": {
     "iopub.execute_input": "2022-04-19T09:01:55.212076Z",
     "iopub.status.busy": "2022-04-19T09:01:55.210943Z",
     "iopub.status.idle": "2022-04-19T09:01:55.216227Z",
     "shell.execute_reply": "2022-04-19T09:01:55.215401Z"
    },
    "papermill": {
     "duration": 0.065735,
     "end_time": "2022-04-19T09:01:55.218372",
     "exception": false,
     "start_time": "2022-04-19T09:01:55.152637",
     "status": "completed"
    },
    "tags": []
   },
   "outputs": [],
   "source": [
    "# best params\n",
    "#parameters = opt.best_params\n",
    "#parameters = {'max_depth': 3, 'n_estimators': 863, 'random_state': 544, 'learning_rate': 0.7747947204223922}\n",
    "#parameters = {'max_depth': 16, 'n_estimators': 1962, 'random_state': 882, 'learning_rate': 0.7705596891430972}\n",
    "parameters = {'max_depth': 3, 'n_estimators': 1130, 'random_state': 1051, 'learning_rate': 0.36522957340144424}"
   ]
  },
  {
   "cell_type": "code",
   "execution_count": 34,
   "id": "758f66dc",
   "metadata": {
    "execution": {
     "iopub.execute_input": "2022-04-19T09:01:55.335908Z",
     "iopub.status.busy": "2022-04-19T09:01:55.335581Z",
     "iopub.status.idle": "2022-04-19T09:01:55.340326Z",
     "shell.execute_reply": "2022-04-19T09:01:55.339731Z"
    },
    "papermill": {
     "duration": 0.066605,
     "end_time": "2022-04-19T09:01:55.342270",
     "exception": false,
     "start_time": "2022-04-19T09:01:55.275665",
     "status": "completed"
    },
    "tags": []
   },
   "outputs": [],
   "source": [
    "del test['ID']"
   ]
  },
  {
   "cell_type": "code",
   "execution_count": 35,
   "id": "d882ffff",
   "metadata": {
    "execution": {
     "iopub.execute_input": "2022-04-19T09:01:55.459126Z",
     "iopub.status.busy": "2022-04-19T09:01:55.458239Z",
     "iopub.status.idle": "2022-04-19T09:01:59.380504Z",
     "shell.execute_reply": "2022-04-19T09:01:59.379827Z"
    },
    "papermill": {
     "duration": 3.983488,
     "end_time": "2022-04-19T09:01:59.383161",
     "exception": false,
     "start_time": "2022-04-19T09:01:55.399673",
     "status": "completed"
    },
    "tags": []
   },
   "outputs": [
    {
     "name": "stderr",
     "output_type": "stream",
     "text": [
      "/opt/conda/lib/python3.7/site-packages/xgboost/sklearn.py:1224: UserWarning: The use of label encoder in XGBClassifier is deprecated and will be removed in a future release. To remove this warning, do the following: 1) Pass option use_label_encoder=False when constructing XGBClassifier object; and 2) Encode your labels (y) as integers starting with 0, i.e. 0, 1, 2, ..., [num_class - 1].\n",
      "  warnings.warn(label_encoder_deprecation_msg, UserWarning)\n"
     ]
    },
    {
     "name": "stdout",
     "output_type": "stream",
     "text": [
      "[09:01:55] WARNING: ../src/learner.cc:1115: Starting in XGBoost 1.3.0, the default evaluation metric used with the objective 'binary:logistic' was changed from 'error' to 'logloss'. Explicitly set eval_metric if you'd like to restore the old behavior.\n"
     ]
    }
   ],
   "source": [
    "model = XGBClassifier(**parameters)\n",
    "model.fit(X_, y_)\n",
    "\n",
    "pred = model.predict(test)"
   ]
  },
  {
   "cell_type": "code",
   "execution_count": 36,
   "id": "c66ffa61",
   "metadata": {
    "execution": {
     "iopub.execute_input": "2022-04-19T09:01:59.501697Z",
     "iopub.status.busy": "2022-04-19T09:01:59.501383Z",
     "iopub.status.idle": "2022-04-19T09:01:59.507364Z",
     "shell.execute_reply": "2022-04-19T09:01:59.506469Z"
    },
    "papermill": {
     "duration": 0.066173,
     "end_time": "2022-04-19T09:01:59.509297",
     "exception": false,
     "start_time": "2022-04-19T09:01:59.443124",
     "status": "completed"
    },
    "tags": []
   },
   "outputs": [
    {
     "data": {
      "text/plain": [
       "200"
      ]
     },
     "execution_count": 36,
     "metadata": {},
     "output_type": "execute_result"
    }
   ],
   "source": [
    "len(pred)"
   ]
  },
  {
   "cell_type": "markdown",
   "id": "b354a95e",
   "metadata": {
    "papermill": {
     "duration": 0.057486,
     "end_time": "2022-04-19T09:01:59.624410",
     "exception": false,
     "start_time": "2022-04-19T09:01:59.566924",
     "status": "completed"
    },
    "tags": []
   },
   "source": [
    "# Submission"
   ]
  },
  {
   "cell_type": "code",
   "execution_count": 37,
   "id": "4d10b7ab",
   "metadata": {
    "execution": {
     "iopub.execute_input": "2022-04-19T09:01:59.742991Z",
     "iopub.status.busy": "2022-04-19T09:01:59.742346Z",
     "iopub.status.idle": "2022-04-19T09:01:59.758409Z",
     "shell.execute_reply": "2022-04-19T09:01:59.757816Z"
    },
    "papermill": {
     "duration": 0.076901,
     "end_time": "2022-04-19T09:01:59.760526",
     "exception": false,
     "start_time": "2022-04-19T09:01:59.683625",
     "status": "completed"
    },
    "tags": []
   },
   "outputs": [
    {
     "data": {
      "text/plain": [
       "(200, 2)"
      ]
     },
     "execution_count": 37,
     "metadata": {},
     "output_type": "execute_result"
    }
   ],
   "source": [
    "sub = pd.read_csv('../input/autismdiagnosis/Autism_Prediction/sample_submission.csv')\n",
    "sub.shape"
   ]
  },
  {
   "cell_type": "code",
   "execution_count": 38,
   "id": "63025f62",
   "metadata": {
    "execution": {
     "iopub.execute_input": "2022-04-19T09:01:59.883121Z",
     "iopub.status.busy": "2022-04-19T09:01:59.882518Z",
     "iopub.status.idle": "2022-04-19T09:01:59.890892Z",
     "shell.execute_reply": "2022-04-19T09:01:59.889703Z"
    },
    "papermill": {
     "duration": 0.071348,
     "end_time": "2022-04-19T09:01:59.893192",
     "exception": false,
     "start_time": "2022-04-19T09:01:59.821844",
     "status": "completed"
    },
    "tags": []
   },
   "outputs": [],
   "source": [
    "sub['Class/ASD'] = pred\n",
    "sub.to_csv('submission.csv', index=False)"
   ]
  },
  {
   "cell_type": "code",
   "execution_count": 39,
   "id": "21e8e400",
   "metadata": {
    "execution": {
     "iopub.execute_input": "2022-04-19T09:02:00.013730Z",
     "iopub.status.busy": "2022-04-19T09:02:00.012892Z",
     "iopub.status.idle": "2022-04-19T09:02:00.020139Z",
     "shell.execute_reply": "2022-04-19T09:02:00.019512Z"
    },
    "papermill": {
     "duration": 0.069222,
     "end_time": "2022-04-19T09:02:00.022496",
     "exception": false,
     "start_time": "2022-04-19T09:01:59.953274",
     "status": "completed"
    },
    "tags": []
   },
   "outputs": [
    {
     "data": {
      "text/plain": [
       "0.0    194\n",
       "1.0      6\n",
       "Name: Class/ASD, dtype: int64"
      ]
     },
     "execution_count": 39,
     "metadata": {},
     "output_type": "execute_result"
    }
   ],
   "source": [
    "sub['Class/ASD'].value_counts()"
   ]
  }
 ],
 "metadata": {
  "kernelspec": {
   "display_name": "Python 3",
   "language": "python",
   "name": "python3"
  },
  "language_info": {
   "codemirror_mode": {
    "name": "ipython",
    "version": 3
   },
   "file_extension": ".py",
   "mimetype": "text/x-python",
   "name": "python",
   "nbconvert_exporter": "python",
   "pygments_lexer": "ipython3",
   "version": "3.7.12"
  },
  "papermill": {
   "default_parameters": {},
   "duration": 26.692556,
   "end_time": "2022-04-19T09:02:01.006364",
   "environment_variables": {},
   "exception": null,
   "input_path": "__notebook__.ipynb",
   "output_path": "__notebook__.ipynb",
   "parameters": {},
   "start_time": "2022-04-19T09:01:34.313808",
   "version": "2.3.4"
  }
 },
 "nbformat": 4,
 "nbformat_minor": 5
}
