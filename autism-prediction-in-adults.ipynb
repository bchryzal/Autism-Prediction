{
 "cells": [
  {
   "cell_type": "markdown",
   "id": "ecb6ee0c",
   "metadata": {
    "papermill": {
     "duration": 0.029882,
     "end_time": "2022-06-15T08:29:33.081548",
     "exception": false,
     "start_time": "2022-06-15T08:29:33.051666",
     "status": "completed"
    },
    "tags": []
   },
   "source": [
    "## Autism Prediction in Adults"
   ]
  },
  {
   "cell_type": "code",
   "execution_count": 1,
   "id": "3b00bb37",
   "metadata": {
    "_cell_guid": "b1076dfc-b9ad-4769-8c92-a6c4dae69d19",
    "_uuid": "8f2839f25d086af736a60e9eeb907d3b93b6e0e5",
    "execution": {
     "iopub.execute_input": "2022-06-15T08:29:33.140321Z",
     "iopub.status.busy": "2022-06-15T08:29:33.139380Z",
     "iopub.status.idle": "2022-06-15T08:29:33.148815Z",
     "shell.execute_reply": "2022-06-15T08:29:33.147849Z"
    },
    "papermill": {
     "duration": 0.041918,
     "end_time": "2022-06-15T08:29:33.151212",
     "exception": false,
     "start_time": "2022-06-15T08:29:33.109294",
     "status": "completed"
    },
    "tags": []
   },
   "outputs": [],
   "source": [
    "import numpy as np # linear algebra\n",
    "import pandas as pd # data processing, CSV file I/O (e.g. pd.read_csv)"
   ]
  },
  {
   "cell_type": "markdown",
   "id": "aa782fce",
   "metadata": {
    "papermill": {
     "duration": 0.026759,
     "end_time": "2022-06-15T08:29:33.206898",
     "exception": false,
     "start_time": "2022-06-15T08:29:33.180139",
     "status": "completed"
    },
    "tags": []
   },
   "source": [
    "# Loading Data"
   ]
  },
  {
   "cell_type": "code",
   "execution_count": 2,
   "id": "9b885a0e",
   "metadata": {
    "execution": {
     "iopub.execute_input": "2022-06-15T08:29:33.266135Z",
     "iopub.status.busy": "2022-06-15T08:29:33.265784Z",
     "iopub.status.idle": "2022-06-15T08:29:33.302739Z",
     "shell.execute_reply": "2022-06-15T08:29:33.301960Z"
    },
    "papermill": {
     "duration": 0.069271,
     "end_time": "2022-06-15T08:29:33.305682",
     "exception": false,
     "start_time": "2022-06-15T08:29:33.236411",
     "status": "completed"
    },
    "tags": []
   },
   "outputs": [
    {
     "data": {
      "text/plain": [
       "((800, 22), (200, 21))"
      ]
     },
     "execution_count": 2,
     "metadata": {},
     "output_type": "execute_result"
    }
   ],
   "source": [
    "train = pd.read_csv('../input/autismdiagnosis/Autism_Prediction/train.csv')\n",
    "test = pd.read_csv('../input/autismdiagnosis/Autism_Prediction/test.csv')\n",
    "\n",
    "train.shape, test.shape"
   ]
  },
  {
   "cell_type": "markdown",
   "id": "9ab00f2f",
   "metadata": {
    "papermill": {
     "duration": 0.028027,
     "end_time": "2022-06-15T08:29:33.363749",
     "exception": false,
     "start_time": "2022-06-15T08:29:33.335722",
     "status": "completed"
    },
    "tags": []
   },
   "source": [
    "# Understading Data"
   ]
  },
  {
   "cell_type": "code",
   "execution_count": 3,
   "id": "4096d0c9",
   "metadata": {
    "_kg_hide-output": true,
    "execution": {
     "iopub.execute_input": "2022-06-15T08:29:33.421675Z",
     "iopub.status.busy": "2022-06-15T08:29:33.421336Z",
     "iopub.status.idle": "2022-06-15T08:29:33.432743Z",
     "shell.execute_reply": "2022-06-15T08:29:33.431872Z"
    },
    "papermill": {
     "duration": 0.043162,
     "end_time": "2022-06-15T08:29:33.434759",
     "exception": false,
     "start_time": "2022-06-15T08:29:33.391597",
     "status": "completed"
    },
    "tags": []
   },
   "outputs": [
    {
     "data": {
      "text/plain": [
       "ID                 0\n",
       "A1_Score           0\n",
       "A2_Score           0\n",
       "A3_Score           0\n",
       "A4_Score           0\n",
       "A5_Score           0\n",
       "A6_Score           0\n",
       "A7_Score           0\n",
       "A8_Score           0\n",
       "A9_Score           0\n",
       "A10_Score          0\n",
       "age                0\n",
       "gender             0\n",
       "ethnicity          0\n",
       "jaundice           0\n",
       "austim             0\n",
       "contry_of_res      0\n",
       "used_app_before    0\n",
       "result             0\n",
       "age_desc           0\n",
       "relation           0\n",
       "Class/ASD          0\n",
       "dtype: int64"
      ]
     },
     "execution_count": 3,
     "metadata": {},
     "output_type": "execute_result"
    }
   ],
   "source": [
    "train.isnull().sum()"
   ]
  },
  {
   "cell_type": "code",
   "execution_count": 4,
   "id": "1aef1ee6",
   "metadata": {
    "_kg_hide-output": true,
    "execution": {
     "iopub.execute_input": "2022-06-15T08:29:33.492848Z",
     "iopub.status.busy": "2022-06-15T08:29:33.492059Z",
     "iopub.status.idle": "2022-06-15T08:29:33.501750Z",
     "shell.execute_reply": "2022-06-15T08:29:33.501072Z"
    },
    "papermill": {
     "duration": 0.040758,
     "end_time": "2022-06-15T08:29:33.503600",
     "exception": false,
     "start_time": "2022-06-15T08:29:33.462842",
     "status": "completed"
    },
    "tags": []
   },
   "outputs": [
    {
     "data": {
      "text/plain": [
       "ID                 0\n",
       "A1_Score           0\n",
       "A2_Score           0\n",
       "A3_Score           0\n",
       "A4_Score           0\n",
       "A5_Score           0\n",
       "A6_Score           0\n",
       "A7_Score           0\n",
       "A8_Score           0\n",
       "A9_Score           0\n",
       "A10_Score          0\n",
       "age                0\n",
       "gender             0\n",
       "ethnicity          0\n",
       "jaundice           0\n",
       "austim             0\n",
       "contry_of_res      0\n",
       "used_app_before    0\n",
       "result             0\n",
       "age_desc           0\n",
       "relation           0\n",
       "dtype: int64"
      ]
     },
     "execution_count": 4,
     "metadata": {},
     "output_type": "execute_result"
    }
   ],
   "source": [
    "test.isnull().sum()"
   ]
  },
  {
   "cell_type": "code",
   "execution_count": 5,
   "id": "575517fd",
   "metadata": {
    "execution": {
     "iopub.execute_input": "2022-06-15T08:29:33.562219Z",
     "iopub.status.busy": "2022-06-15T08:29:33.561743Z",
     "iopub.status.idle": "2022-06-15T08:29:33.586777Z",
     "shell.execute_reply": "2022-06-15T08:29:33.586112Z"
    },
    "papermill": {
     "duration": 0.058419,
     "end_time": "2022-06-15T08:29:33.590391",
     "exception": false,
     "start_time": "2022-06-15T08:29:33.531972",
     "status": "completed"
    },
    "tags": []
   },
   "outputs": [
    {
     "name": "stdout",
     "output_type": "stream",
     "text": [
      "<class 'pandas.core.frame.DataFrame'>\n",
      "RangeIndex: 800 entries, 0 to 799\n",
      "Data columns (total 22 columns):\n",
      " #   Column           Non-Null Count  Dtype  \n",
      "---  ------           --------------  -----  \n",
      " 0   ID               800 non-null    int64  \n",
      " 1   A1_Score         800 non-null    int64  \n",
      " 2   A2_Score         800 non-null    int64  \n",
      " 3   A3_Score         800 non-null    int64  \n",
      " 4   A4_Score         800 non-null    int64  \n",
      " 5   A5_Score         800 non-null    int64  \n",
      " 6   A6_Score         800 non-null    int64  \n",
      " 7   A7_Score         800 non-null    int64  \n",
      " 8   A8_Score         800 non-null    int64  \n",
      " 9   A9_Score         800 non-null    int64  \n",
      " 10  A10_Score        800 non-null    int64  \n",
      " 11  age              800 non-null    float64\n",
      " 12  gender           800 non-null    object \n",
      " 13  ethnicity        800 non-null    object \n",
      " 14  jaundice         800 non-null    object \n",
      " 15  austim           800 non-null    object \n",
      " 16  contry_of_res    800 non-null    object \n",
      " 17  used_app_before  800 non-null    object \n",
      " 18  result           800 non-null    float64\n",
      " 19  age_desc         800 non-null    object \n",
      " 20  relation         800 non-null    object \n",
      " 21  Class/ASD        800 non-null    int64  \n",
      "dtypes: float64(2), int64(12), object(8)\n",
      "memory usage: 137.6+ KB\n"
     ]
    }
   ],
   "source": [
    "train.info()"
   ]
  },
  {
   "cell_type": "markdown",
   "id": "863965a3",
   "metadata": {
    "papermill": {
     "duration": 0.028331,
     "end_time": "2022-06-15T08:29:33.647630",
     "exception": false,
     "start_time": "2022-06-15T08:29:33.619299",
     "status": "completed"
    },
    "tags": []
   },
   "source": [
    "## Select object Cols"
   ]
  },
  {
   "cell_type": "code",
   "execution_count": 6,
   "id": "b6865bd0",
   "metadata": {
    "execution": {
     "iopub.execute_input": "2022-06-15T08:29:33.708720Z",
     "iopub.status.busy": "2022-06-15T08:29:33.708131Z",
     "iopub.status.idle": "2022-06-15T08:29:33.714788Z",
     "shell.execute_reply": "2022-06-15T08:29:33.714107Z"
    },
    "papermill": {
     "duration": 0.040851,
     "end_time": "2022-06-15T08:29:33.716832",
     "exception": false,
     "start_time": "2022-06-15T08:29:33.675981",
     "status": "completed"
    },
    "tags": []
   },
   "outputs": [
    {
     "data": {
      "text/plain": [
       "['gender',\n",
       " 'ethnicity',\n",
       " 'jaundice',\n",
       " 'austim',\n",
       " 'contry_of_res',\n",
       " 'used_app_before',\n",
       " 'age_desc',\n",
       " 'relation']"
      ]
     },
     "execution_count": 6,
     "metadata": {},
     "output_type": "execute_result"
    }
   ],
   "source": [
    "obj_cols = []\n",
    "\n",
    "for i in train.columns:\n",
    "    if train[i].dtypes == 'object':\n",
    "        obj_cols.append(i)\n",
    "        \n",
    "        \n",
    "obj_cols"
   ]
  },
  {
   "cell_type": "markdown",
   "id": "c7d219d3",
   "metadata": {
    "papermill": {
     "duration": 0.028704,
     "end_time": "2022-06-15T08:29:33.774932",
     "exception": false,
     "start_time": "2022-06-15T08:29:33.746228",
     "status": "completed"
    },
    "tags": []
   },
   "source": [
    "## Label encode"
   ]
  },
  {
   "cell_type": "code",
   "execution_count": 7,
   "id": "9aa6cae0",
   "metadata": {
    "execution": {
     "iopub.execute_input": "2022-06-15T08:29:33.835067Z",
     "iopub.status.busy": "2022-06-15T08:29:33.834470Z",
     "iopub.status.idle": "2022-06-15T08:29:34.974182Z",
     "shell.execute_reply": "2022-06-15T08:29:34.973168Z"
    },
    "papermill": {
     "duration": 1.173018,
     "end_time": "2022-06-15T08:29:34.977052",
     "exception": false,
     "start_time": "2022-06-15T08:29:33.804034",
     "status": "completed"
    },
    "tags": []
   },
   "outputs": [],
   "source": [
    "from sklearn import preprocessing\n",
    "le = preprocessing.LabelEncoder()"
   ]
  },
  {
   "cell_type": "code",
   "execution_count": 8,
   "id": "220cbade",
   "metadata": {
    "execution": {
     "iopub.execute_input": "2022-06-15T08:29:35.039605Z",
     "iopub.status.busy": "2022-06-15T08:29:35.039299Z",
     "iopub.status.idle": "2022-06-15T08:29:35.071487Z",
     "shell.execute_reply": "2022-06-15T08:29:35.070608Z"
    },
    "papermill": {
     "duration": 0.064939,
     "end_time": "2022-06-15T08:29:35.073581",
     "exception": false,
     "start_time": "2022-06-15T08:29:35.008642",
     "status": "completed"
    },
    "tags": []
   },
   "outputs": [
    {
     "data": {
      "text/html": [
       "<div>\n",
       "<style scoped>\n",
       "    .dataframe tbody tr th:only-of-type {\n",
       "        vertical-align: middle;\n",
       "    }\n",
       "\n",
       "    .dataframe tbody tr th {\n",
       "        vertical-align: top;\n",
       "    }\n",
       "\n",
       "    .dataframe thead th {\n",
       "        text-align: right;\n",
       "    }\n",
       "</style>\n",
       "<table border=\"1\" class=\"dataframe\">\n",
       "  <thead>\n",
       "    <tr style=\"text-align: right;\">\n",
       "      <th></th>\n",
       "      <th>ID</th>\n",
       "      <th>A1_Score</th>\n",
       "      <th>A2_Score</th>\n",
       "      <th>A3_Score</th>\n",
       "      <th>A4_Score</th>\n",
       "      <th>A5_Score</th>\n",
       "      <th>A6_Score</th>\n",
       "      <th>A7_Score</th>\n",
       "      <th>A8_Score</th>\n",
       "      <th>A9_Score</th>\n",
       "      <th>...</th>\n",
       "      <th>gender</th>\n",
       "      <th>ethnicity</th>\n",
       "      <th>jaundice</th>\n",
       "      <th>austim</th>\n",
       "      <th>contry_of_res</th>\n",
       "      <th>used_app_before</th>\n",
       "      <th>result</th>\n",
       "      <th>age_desc</th>\n",
       "      <th>relation</th>\n",
       "      <th>Class/ASD</th>\n",
       "    </tr>\n",
       "  </thead>\n",
       "  <tbody>\n",
       "    <tr>\n",
       "      <th>0</th>\n",
       "      <td>1</td>\n",
       "      <td>1</td>\n",
       "      <td>0</td>\n",
       "      <td>1</td>\n",
       "      <td>0</td>\n",
       "      <td>1</td>\n",
       "      <td>0</td>\n",
       "      <td>1</td>\n",
       "      <td>0</td>\n",
       "      <td>1</td>\n",
       "      <td>...</td>\n",
       "      <td>f</td>\n",
       "      <td>?</td>\n",
       "      <td>no</td>\n",
       "      <td>no</td>\n",
       "      <td>Austria</td>\n",
       "      <td>no</td>\n",
       "      <td>6.351166</td>\n",
       "      <td>18 and more</td>\n",
       "      <td>Self</td>\n",
       "      <td>0</td>\n",
       "    </tr>\n",
       "    <tr>\n",
       "      <th>1</th>\n",
       "      <td>2</td>\n",
       "      <td>0</td>\n",
       "      <td>0</td>\n",
       "      <td>0</td>\n",
       "      <td>0</td>\n",
       "      <td>0</td>\n",
       "      <td>0</td>\n",
       "      <td>0</td>\n",
       "      <td>0</td>\n",
       "      <td>0</td>\n",
       "      <td>...</td>\n",
       "      <td>m</td>\n",
       "      <td>?</td>\n",
       "      <td>no</td>\n",
       "      <td>no</td>\n",
       "      <td>India</td>\n",
       "      <td>no</td>\n",
       "      <td>2.255185</td>\n",
       "      <td>18 and more</td>\n",
       "      <td>Self</td>\n",
       "      <td>0</td>\n",
       "    </tr>\n",
       "    <tr>\n",
       "      <th>2</th>\n",
       "      <td>3</td>\n",
       "      <td>1</td>\n",
       "      <td>1</td>\n",
       "      <td>1</td>\n",
       "      <td>1</td>\n",
       "      <td>1</td>\n",
       "      <td>1</td>\n",
       "      <td>1</td>\n",
       "      <td>1</td>\n",
       "      <td>1</td>\n",
       "      <td>...</td>\n",
       "      <td>m</td>\n",
       "      <td>White-European</td>\n",
       "      <td>no</td>\n",
       "      <td>yes</td>\n",
       "      <td>United States</td>\n",
       "      <td>no</td>\n",
       "      <td>14.851484</td>\n",
       "      <td>18 and more</td>\n",
       "      <td>Self</td>\n",
       "      <td>1</td>\n",
       "    </tr>\n",
       "    <tr>\n",
       "      <th>3</th>\n",
       "      <td>4</td>\n",
       "      <td>0</td>\n",
       "      <td>0</td>\n",
       "      <td>0</td>\n",
       "      <td>0</td>\n",
       "      <td>0</td>\n",
       "      <td>0</td>\n",
       "      <td>0</td>\n",
       "      <td>0</td>\n",
       "      <td>0</td>\n",
       "      <td>...</td>\n",
       "      <td>f</td>\n",
       "      <td>?</td>\n",
       "      <td>no</td>\n",
       "      <td>no</td>\n",
       "      <td>United States</td>\n",
       "      <td>no</td>\n",
       "      <td>2.276617</td>\n",
       "      <td>18 and more</td>\n",
       "      <td>Self</td>\n",
       "      <td>0</td>\n",
       "    </tr>\n",
       "    <tr>\n",
       "      <th>4</th>\n",
       "      <td>5</td>\n",
       "      <td>0</td>\n",
       "      <td>0</td>\n",
       "      <td>0</td>\n",
       "      <td>0</td>\n",
       "      <td>0</td>\n",
       "      <td>0</td>\n",
       "      <td>0</td>\n",
       "      <td>0</td>\n",
       "      <td>0</td>\n",
       "      <td>...</td>\n",
       "      <td>m</td>\n",
       "      <td>?</td>\n",
       "      <td>no</td>\n",
       "      <td>no</td>\n",
       "      <td>South Africa</td>\n",
       "      <td>no</td>\n",
       "      <td>-4.777286</td>\n",
       "      <td>18 and more</td>\n",
       "      <td>Self</td>\n",
       "      <td>0</td>\n",
       "    </tr>\n",
       "    <tr>\n",
       "      <th>...</th>\n",
       "      <td>...</td>\n",
       "      <td>...</td>\n",
       "      <td>...</td>\n",
       "      <td>...</td>\n",
       "      <td>...</td>\n",
       "      <td>...</td>\n",
       "      <td>...</td>\n",
       "      <td>...</td>\n",
       "      <td>...</td>\n",
       "      <td>...</td>\n",
       "      <td>...</td>\n",
       "      <td>...</td>\n",
       "      <td>...</td>\n",
       "      <td>...</td>\n",
       "      <td>...</td>\n",
       "      <td>...</td>\n",
       "      <td>...</td>\n",
       "      <td>...</td>\n",
       "      <td>...</td>\n",
       "      <td>...</td>\n",
       "      <td>...</td>\n",
       "    </tr>\n",
       "    <tr>\n",
       "      <th>795</th>\n",
       "      <td>796</td>\n",
       "      <td>0</td>\n",
       "      <td>1</td>\n",
       "      <td>0</td>\n",
       "      <td>0</td>\n",
       "      <td>0</td>\n",
       "      <td>0</td>\n",
       "      <td>0</td>\n",
       "      <td>0</td>\n",
       "      <td>1</td>\n",
       "      <td>...</td>\n",
       "      <td>m</td>\n",
       "      <td>Hispanic</td>\n",
       "      <td>no</td>\n",
       "      <td>no</td>\n",
       "      <td>New Zealand</td>\n",
       "      <td>no</td>\n",
       "      <td>12.999501</td>\n",
       "      <td>18 and more</td>\n",
       "      <td>Self</td>\n",
       "      <td>0</td>\n",
       "    </tr>\n",
       "    <tr>\n",
       "      <th>796</th>\n",
       "      <td>797</td>\n",
       "      <td>0</td>\n",
       "      <td>1</td>\n",
       "      <td>1</td>\n",
       "      <td>0</td>\n",
       "      <td>0</td>\n",
       "      <td>1</td>\n",
       "      <td>0</td>\n",
       "      <td>1</td>\n",
       "      <td>1</td>\n",
       "      <td>...</td>\n",
       "      <td>m</td>\n",
       "      <td>White-European</td>\n",
       "      <td>no</td>\n",
       "      <td>no</td>\n",
       "      <td>Cyprus</td>\n",
       "      <td>no</td>\n",
       "      <td>13.561518</td>\n",
       "      <td>18 and more</td>\n",
       "      <td>Self</td>\n",
       "      <td>0</td>\n",
       "    </tr>\n",
       "    <tr>\n",
       "      <th>797</th>\n",
       "      <td>798</td>\n",
       "      <td>0</td>\n",
       "      <td>0</td>\n",
       "      <td>0</td>\n",
       "      <td>0</td>\n",
       "      <td>0</td>\n",
       "      <td>0</td>\n",
       "      <td>0</td>\n",
       "      <td>0</td>\n",
       "      <td>0</td>\n",
       "      <td>...</td>\n",
       "      <td>m</td>\n",
       "      <td>South Asian</td>\n",
       "      <td>yes</td>\n",
       "      <td>no</td>\n",
       "      <td>New Zealand</td>\n",
       "      <td>no</td>\n",
       "      <td>2.653177</td>\n",
       "      <td>18 and more</td>\n",
       "      <td>Self</td>\n",
       "      <td>0</td>\n",
       "    </tr>\n",
       "    <tr>\n",
       "      <th>798</th>\n",
       "      <td>799</td>\n",
       "      <td>0</td>\n",
       "      <td>0</td>\n",
       "      <td>0</td>\n",
       "      <td>0</td>\n",
       "      <td>0</td>\n",
       "      <td>0</td>\n",
       "      <td>0</td>\n",
       "      <td>0</td>\n",
       "      <td>0</td>\n",
       "      <td>...</td>\n",
       "      <td>f</td>\n",
       "      <td>?</td>\n",
       "      <td>no</td>\n",
       "      <td>no</td>\n",
       "      <td>Canada</td>\n",
       "      <td>no</td>\n",
       "      <td>9.069342</td>\n",
       "      <td>18 and more</td>\n",
       "      <td>Self</td>\n",
       "      <td>0</td>\n",
       "    </tr>\n",
       "    <tr>\n",
       "      <th>799</th>\n",
       "      <td>800</td>\n",
       "      <td>0</td>\n",
       "      <td>1</td>\n",
       "      <td>0</td>\n",
       "      <td>0</td>\n",
       "      <td>0</td>\n",
       "      <td>0</td>\n",
       "      <td>0</td>\n",
       "      <td>0</td>\n",
       "      <td>0</td>\n",
       "      <td>...</td>\n",
       "      <td>f</td>\n",
       "      <td>?</td>\n",
       "      <td>no</td>\n",
       "      <td>no</td>\n",
       "      <td>United Arab Emirates</td>\n",
       "      <td>yes</td>\n",
       "      <td>2.243304</td>\n",
       "      <td>18 and more</td>\n",
       "      <td>Self</td>\n",
       "      <td>0</td>\n",
       "    </tr>\n",
       "  </tbody>\n",
       "</table>\n",
       "<p>800 rows × 22 columns</p>\n",
       "</div>"
      ],
      "text/plain": [
       "      ID  A1_Score  A2_Score  A3_Score  A4_Score  A5_Score  A6_Score  \\\n",
       "0      1         1         0         1         0         1         0   \n",
       "1      2         0         0         0         0         0         0   \n",
       "2      3         1         1         1         1         1         1   \n",
       "3      4         0         0         0         0         0         0   \n",
       "4      5         0         0         0         0         0         0   \n",
       "..   ...       ...       ...       ...       ...       ...       ...   \n",
       "795  796         0         1         0         0         0         0   \n",
       "796  797         0         1         1         0         0         1   \n",
       "797  798         0         0         0         0         0         0   \n",
       "798  799         0         0         0         0         0         0   \n",
       "799  800         0         1         0         0         0         0   \n",
       "\n",
       "     A7_Score  A8_Score  A9_Score  ...  gender       ethnicity jaundice  \\\n",
       "0           1         0         1  ...       f               ?       no   \n",
       "1           0         0         0  ...       m               ?       no   \n",
       "2           1         1         1  ...       m  White-European       no   \n",
       "3           0         0         0  ...       f               ?       no   \n",
       "4           0         0         0  ...       m               ?       no   \n",
       "..        ...       ...       ...  ...     ...             ...      ...   \n",
       "795         0         0         1  ...       m        Hispanic       no   \n",
       "796         0         1         1  ...       m  White-European       no   \n",
       "797         0         0         0  ...       m     South Asian      yes   \n",
       "798         0         0         0  ...       f               ?       no   \n",
       "799         0         0         0  ...       f               ?       no   \n",
       "\n",
       "    austim         contry_of_res used_app_before     result     age_desc  \\\n",
       "0       no               Austria              no   6.351166  18 and more   \n",
       "1       no                 India              no   2.255185  18 and more   \n",
       "2      yes         United States              no  14.851484  18 and more   \n",
       "3       no         United States              no   2.276617  18 and more   \n",
       "4       no          South Africa              no  -4.777286  18 and more   \n",
       "..     ...                   ...             ...        ...          ...   \n",
       "795     no           New Zealand              no  12.999501  18 and more   \n",
       "796     no                Cyprus              no  13.561518  18 and more   \n",
       "797     no           New Zealand              no   2.653177  18 and more   \n",
       "798     no                Canada              no   9.069342  18 and more   \n",
       "799     no  United Arab Emirates             yes   2.243304  18 and more   \n",
       "\n",
       "     relation Class/ASD  \n",
       "0        Self         0  \n",
       "1        Self         0  \n",
       "2        Self         1  \n",
       "3        Self         0  \n",
       "4        Self         0  \n",
       "..        ...       ...  \n",
       "795      Self         0  \n",
       "796      Self         0  \n",
       "797      Self         0  \n",
       "798      Self         0  \n",
       "799      Self         0  \n",
       "\n",
       "[800 rows x 22 columns]"
      ]
     },
     "execution_count": 8,
     "metadata": {},
     "output_type": "execute_result"
    }
   ],
   "source": [
    "data = train.copy()\n",
    "data"
   ]
  },
  {
   "cell_type": "code",
   "execution_count": 9,
   "id": "77deb5ed",
   "metadata": {
    "execution": {
     "iopub.execute_input": "2022-06-15T08:29:35.139142Z",
     "iopub.status.busy": "2022-06-15T08:29:35.138541Z",
     "iopub.status.idle": "2022-06-15T08:29:35.159296Z",
     "shell.execute_reply": "2022-06-15T08:29:35.158298Z"
    },
    "papermill": {
     "duration": 0.056952,
     "end_time": "2022-06-15T08:29:35.161582",
     "exception": false,
     "start_time": "2022-06-15T08:29:35.104630",
     "status": "completed"
    },
    "tags": []
   },
   "outputs": [
    {
     "name": "stdout",
     "output_type": "stream",
     "text": [
      "<class 'pandas.core.frame.DataFrame'>\n",
      "RangeIndex: 800 entries, 0 to 799\n",
      "Data columns (total 22 columns):\n",
      " #   Column           Non-Null Count  Dtype  \n",
      "---  ------           --------------  -----  \n",
      " 0   ID               800 non-null    int64  \n",
      " 1   A1_Score         800 non-null    int64  \n",
      " 2   A2_Score         800 non-null    int64  \n",
      " 3   A3_Score         800 non-null    int64  \n",
      " 4   A4_Score         800 non-null    int64  \n",
      " 5   A5_Score         800 non-null    int64  \n",
      " 6   A6_Score         800 non-null    int64  \n",
      " 7   A7_Score         800 non-null    int64  \n",
      " 8   A8_Score         800 non-null    int64  \n",
      " 9   A9_Score         800 non-null    int64  \n",
      " 10  A10_Score        800 non-null    int64  \n",
      " 11  age              800 non-null    float64\n",
      " 12  gender           800 non-null    int64  \n",
      " 13  ethnicity        800 non-null    int64  \n",
      " 14  jaundice         800 non-null    int64  \n",
      " 15  austim           800 non-null    int64  \n",
      " 16  contry_of_res    800 non-null    int64  \n",
      " 17  used_app_before  800 non-null    int64  \n",
      " 18  result           800 non-null    float64\n",
      " 19  age_desc         800 non-null    int64  \n",
      " 20  relation         800 non-null    int64  \n",
      " 21  Class/ASD        800 non-null    int64  \n",
      "dtypes: float64(2), int64(20)\n",
      "memory usage: 137.6 KB\n"
     ]
    }
   ],
   "source": [
    "for col in obj_cols:\n",
    "    data[col] = le.fit_transform(data[col])\n",
    "    test[col] = le.fit_transform(test[col])\n",
    "    \n",
    "data.info()"
   ]
  },
  {
   "cell_type": "markdown",
   "id": "e1f0f575",
   "metadata": {
    "papermill": {
     "duration": 0.030771,
     "end_time": "2022-06-15T08:29:35.223687",
     "exception": false,
     "start_time": "2022-06-15T08:29:35.192916",
     "status": "completed"
    },
    "tags": []
   },
   "source": [
    "## Modeling"
   ]
  },
  {
   "cell_type": "code",
   "execution_count": null,
   "id": "fdcfd601",
   "metadata": {
    "papermill": {
     "duration": 0.031248,
     "end_time": "2022-06-15T08:29:35.286459",
     "exception": false,
     "start_time": "2022-06-15T08:29:35.255211",
     "status": "completed"
    },
    "tags": []
   },
   "outputs": [],
   "source": []
  },
  {
   "cell_type": "markdown",
   "id": "620c95c0",
   "metadata": {
    "papermill": {
     "duration": 0.032327,
     "end_time": "2022-06-15T08:29:35.349433",
     "exception": false,
     "start_time": "2022-06-15T08:29:35.317106",
     "status": "completed"
    },
    "tags": []
   },
   "source": [
    "# Split"
   ]
  },
  {
   "cell_type": "code",
   "execution_count": 10,
   "id": "c438f117",
   "metadata": {
    "execution": {
     "iopub.execute_input": "2022-06-15T08:29:35.415136Z",
     "iopub.status.busy": "2022-06-15T08:29:35.414560Z",
     "iopub.status.idle": "2022-06-15T08:29:35.421725Z",
     "shell.execute_reply": "2022-06-15T08:29:35.421118Z"
    },
    "papermill": {
     "duration": 0.042216,
     "end_time": "2022-06-15T08:29:35.423544",
     "exception": false,
     "start_time": "2022-06-15T08:29:35.381328",
     "status": "completed"
    },
    "tags": []
   },
   "outputs": [
    {
     "data": {
      "text/plain": [
       "(800, 20)"
      ]
     },
     "execution_count": 10,
     "metadata": {},
     "output_type": "execute_result"
    }
   ],
   "source": [
    "#del data['ID']\n",
    "X = data.copy()\n",
    "del X['ID']\n",
    "y = X.pop('Class/ASD')\n",
    "\n",
    "X.shape"
   ]
  },
  {
   "cell_type": "code",
   "execution_count": 11,
   "id": "a2c62042",
   "metadata": {
    "execution": {
     "iopub.execute_input": "2022-06-15T08:29:35.488642Z",
     "iopub.status.busy": "2022-06-15T08:29:35.488162Z",
     "iopub.status.idle": "2022-06-15T08:29:35.563145Z",
     "shell.execute_reply": "2022-06-15T08:29:35.562194Z"
    },
    "papermill": {
     "duration": 0.110697,
     "end_time": "2022-06-15T08:29:35.565496",
     "exception": false,
     "start_time": "2022-06-15T08:29:35.454799",
     "status": "completed"
    },
    "tags": []
   },
   "outputs": [
    {
     "data": {
      "text/plain": [
       "((796, 20), (4, 20), (796,), (4,))"
      ]
     },
     "execution_count": 11,
     "metadata": {},
     "output_type": "execute_result"
    }
   ],
   "source": [
    "from sklearn.model_selection import train_test_split\n",
    "\n",
    "X_train, X_test, y_train, y_test = train_test_split(X, y, test_size=0.005, random_state=42, shuffle=True, stratify=y)\n",
    "X_train.shape, X_test.shape, y_train.shape, y_test.shape"
   ]
  },
  {
   "cell_type": "code",
   "execution_count": 12,
   "id": "90942fee",
   "metadata": {
    "execution": {
     "iopub.execute_input": "2022-06-15T08:29:35.632507Z",
     "iopub.status.busy": "2022-06-15T08:29:35.632169Z",
     "iopub.status.idle": "2022-06-15T08:29:38.022250Z",
     "shell.execute_reply": "2022-06-15T08:29:38.021381Z"
    },
    "papermill": {
     "duration": 2.426979,
     "end_time": "2022-06-15T08:29:38.024662",
     "exception": false,
     "start_time": "2022-06-15T08:29:35.597683",
     "status": "completed"
    },
    "tags": []
   },
   "outputs": [
    {
     "data": {
      "text/html": [
       "<style type='text/css'>\n",
       ".datatable table.frame { margin-bottom: 0; }\n",
       ".datatable table.frame thead { border-bottom: none; }\n",
       ".datatable table.frame tr.coltypes td {  color: #FFFFFF;  line-height: 6px;  padding: 0 0.5em;}\n",
       ".datatable .bool    { background: #DDDD99; }\n",
       ".datatable .object  { background: #565656; }\n",
       ".datatable .int     { background: #5D9E5D; }\n",
       ".datatable .float   { background: #4040CC; }\n",
       ".datatable .str     { background: #CC4040; }\n",
       ".datatable .time    { background: #40CC40; }\n",
       ".datatable .row_index {  background: var(--jp-border-color3);  border-right: 1px solid var(--jp-border-color0);  color: var(--jp-ui-font-color3);  font-size: 9px;}\n",
       ".datatable .frame tbody td { text-align: left; }\n",
       ".datatable .frame tr.coltypes .row_index {  background: var(--jp-border-color0);}\n",
       ".datatable th:nth-child(2) { padding-left: 12px; }\n",
       ".datatable .hellipsis {  color: var(--jp-cell-editor-border-color);}\n",
       ".datatable .vellipsis {  background: var(--jp-layout-color0);  color: var(--jp-cell-editor-border-color);}\n",
       ".datatable .na {  color: var(--jp-cell-editor-border-color);  font-size: 80%;}\n",
       ".datatable .sp {  opacity: 0.25;}\n",
       ".datatable .footer { font-size: 9px; }\n",
       ".datatable .frame_dimensions {  background: var(--jp-border-color3);  border-top: 1px solid var(--jp-border-color0);  color: var(--jp-ui-font-color3);  display: inline-block;  opacity: 0.6;  padding: 1px 10px 1px 5px;}\n",
       "</style>\n"
      ],
      "text/plain": [
       "<IPython.core.display.HTML object>"
      ]
     },
     "metadata": {},
     "output_type": "display_data"
    }
   ],
   "source": [
    "from sklearn.metrics import roc_auc_score, roc_curve, accuracy_score, precision_score\n",
    "from sklearn.model_selection import KFold,StratifiedKFold\n",
    "from sklearn.model_selection import cross_val_score\n",
    "from xgboost import XGBClassifier\n",
    "from lightgbm import LGBMClassifier\n",
    "import optuna\n",
    "from catboost import CatBoostClassifier"
   ]
  },
  {
   "cell_type": "code",
   "execution_count": 13,
   "id": "ea4a0aad",
   "metadata": {
    "_kg_hide-output": true,
    "execution": {
     "iopub.execute_input": "2022-06-15T08:29:38.089716Z",
     "iopub.status.busy": "2022-06-15T08:29:38.088853Z",
     "iopub.status.idle": "2022-06-15T08:29:38.093666Z",
     "shell.execute_reply": "2022-06-15T08:29:38.092923Z"
    },
    "papermill": {
     "duration": 0.039912,
     "end_time": "2022-06-15T08:29:38.095924",
     "exception": false,
     "start_time": "2022-06-15T08:29:38.056012",
     "status": "completed"
    },
    "tags": []
   },
   "outputs": [],
   "source": [
    "#stop"
   ]
  },
  {
   "cell_type": "markdown",
   "id": "e40cdc50",
   "metadata": {
    "papermill": {
     "duration": 0.031809,
     "end_time": "2022-06-15T08:29:38.161053",
     "exception": false,
     "start_time": "2022-06-15T08:29:38.129244",
     "status": "completed"
    },
    "tags": []
   },
   "source": [
    "# Modeling"
   ]
  },
  {
   "cell_type": "code",
   "execution_count": 14,
   "id": "6b183d15",
   "metadata": {
    "execution": {
     "iopub.execute_input": "2022-06-15T08:29:38.226099Z",
     "iopub.status.busy": "2022-06-15T08:29:38.225466Z",
     "iopub.status.idle": "2022-06-15T08:29:38.614813Z",
     "shell.execute_reply": "2022-06-15T08:29:38.613661Z"
    },
    "papermill": {
     "duration": 0.425569,
     "end_time": "2022-06-15T08:29:38.617583",
     "exception": false,
     "start_time": "2022-06-15T08:29:38.192014",
     "status": "completed"
    },
    "tags": []
   },
   "outputs": [
    {
     "name": "stderr",
     "output_type": "stream",
     "text": [
      "/opt/conda/lib/python3.7/site-packages/xgboost/sklearn.py:1224: UserWarning: The use of label encoder in XGBClassifier is deprecated and will be removed in a future release. To remove this warning, do the following: 1) Pass option use_label_encoder=False when constructing XGBClassifier object; and 2) Encode your labels (y) as integers starting with 0, i.e. 0, 1, 2, ..., [num_class - 1].\n",
      "  warnings.warn(label_encoder_deprecation_msg, UserWarning)\n"
     ]
    },
    {
     "name": "stdout",
     "output_type": "stream",
     "text": [
      "[08:29:38] WARNING: ../src/learner.cc:1115: Starting in XGBoost 1.3.0, the default evaluation metric used with the objective 'binary:logistic' was changed from 'error' to 'logloss'. Explicitly set eval_metric if you'd like to restore the old behavior.\n",
      "Training : 1.0\n",
      "AUC: 1.0000000\n",
      "ACC: 1.0000000\n"
     ]
    }
   ],
   "source": [
    "xgb_model = XGBClassifier()\n",
    "xgb_model.fit(X, y)\n",
    "\n",
    "pred = xgb_model.predict(X_train)\n",
    "auc = roc_auc_score(y_train, pred)\n",
    "acc = accuracy_score(y_train, pred)\n",
    "\n",
    "print(\"Training :\", xgb_model.score(X_train, y_train))\n",
    "print(\"AUC: %.7f\" % auc)\n",
    "print(\"ACC: %.7f\" % acc)"
   ]
  },
  {
   "cell_type": "code",
   "execution_count": 15,
   "id": "c203dcaa",
   "metadata": {
    "execution": {
     "iopub.execute_input": "2022-06-15T08:29:38.684619Z",
     "iopub.status.busy": "2022-06-15T08:29:38.683775Z",
     "iopub.status.idle": "2022-06-15T08:29:38.688770Z",
     "shell.execute_reply": "2022-06-15T08:29:38.687922Z"
    },
    "papermill": {
     "duration": 0.040653,
     "end_time": "2022-06-15T08:29:38.690975",
     "exception": false,
     "start_time": "2022-06-15T08:29:38.650322",
     "status": "completed"
    },
    "tags": []
   },
   "outputs": [],
   "source": [
    "#pd.DataFrame({'Value':model.feature_importances_,'Feature':X.columns}).sort_values(by=\"Value\",ascending=False)"
   ]
  },
  {
   "cell_type": "code",
   "execution_count": 16,
   "id": "0b738d08",
   "metadata": {
    "execution": {
     "iopub.execute_input": "2022-06-15T08:29:38.756746Z",
     "iopub.status.busy": "2022-06-15T08:29:38.756455Z",
     "iopub.status.idle": "2022-06-15T08:29:38.935712Z",
     "shell.execute_reply": "2022-06-15T08:29:38.934843Z"
    },
    "papermill": {
     "duration": 0.214813,
     "end_time": "2022-06-15T08:29:38.937800",
     "exception": false,
     "start_time": "2022-06-15T08:29:38.722987",
     "status": "completed"
    },
    "tags": []
   },
   "outputs": [
    {
     "name": "stdout",
     "output_type": "stream",
     "text": [
      "Training : 1.0\n",
      "AUC: 1.0000000\n",
      "ACC: 1.0000000\n"
     ]
    }
   ],
   "source": [
    "params = {'n_estimators': 162, 'learning_rate': 0.6368317697436717}\n",
    "\n",
    "lgb_model = LGBMClassifier(**params)\n",
    "lgb_model.fit(X, y)\n",
    "\n",
    "pred = lgb_model.predict(X_train)\n",
    "auc = roc_auc_score(y_train, pred)\n",
    "acc = accuracy_score(y_train, pred)\n",
    "\n",
    "print(\"Training :\", lgb_model.score(X_train, y_train))\n",
    "print(\"AUC: %.7f\" % auc)\n",
    "print(\"ACC: %.7f\" % acc)"
   ]
  },
  {
   "cell_type": "code",
   "execution_count": 17,
   "id": "aff7dd1b",
   "metadata": {
    "execution": {
     "iopub.execute_input": "2022-06-15T08:29:39.009546Z",
     "iopub.status.busy": "2022-06-15T08:29:39.009011Z",
     "iopub.status.idle": "2022-06-15T08:35:09.724628Z",
     "shell.execute_reply": "2022-06-15T08:35:09.722712Z"
    },
    "papermill": {
     "duration": 330.78851,
     "end_time": "2022-06-15T08:35:09.761142",
     "exception": false,
     "start_time": "2022-06-15T08:29:38.972632",
     "status": "completed"
    },
    "tags": []
   },
   "outputs": [
    {
     "name": "stdout",
     "output_type": "stream",
     "text": [
      "Training : 1.0\n",
      "AUC: 1.0000000\n",
      "ACC: 1.0000000\n"
     ]
    }
   ],
   "source": [
    "params1 = {'max_depth': 14, 'n_estimators': 1520, 'random_state': 1032, 'learning_rate': 0.41941418506267747}\n",
    "params2 = {'max_depth': 2, 'n_estimators': 2040, 'random_state': 215, 'learning_rate': 0.5336647754602964}\n",
    "\n",
    "catb_model = CatBoostClassifier(**params1, verbose=False)\n",
    "catb_model.fit(X, y)\n",
    "\n",
    "pred = catb_model.predict(X_train)\n",
    "auc = roc_auc_score(y_train, pred)\n",
    "acc = accuracy_score(y_train, pred)\n",
    "\n",
    "print(\"Training :\", catb_model.score(X_train, y_train))\n",
    "print(\"AUC: %.7f\" % auc)\n",
    "print(\"ACC: %.7f\" % acc)"
   ]
  },
  {
   "cell_type": "markdown",
   "id": "394fffa9",
   "metadata": {
    "papermill": {
     "duration": 0.033762,
     "end_time": "2022-06-15T08:35:09.829038",
     "exception": false,
     "start_time": "2022-06-15T08:35:09.795276",
     "status": "completed"
    },
    "tags": []
   },
   "source": [
    "# Optuna"
   ]
  },
  {
   "cell_type": "code",
   "execution_count": 18,
   "id": "b8256e21",
   "metadata": {
    "_kg_hide-input": true,
    "execution": {
     "iopub.execute_input": "2022-06-15T08:35:09.898254Z",
     "iopub.status.busy": "2022-06-15T08:35:09.897635Z",
     "iopub.status.idle": "2022-06-15T08:35:09.905716Z",
     "shell.execute_reply": "2022-06-15T08:35:09.904604Z"
    },
    "papermill": {
     "duration": 0.04529,
     "end_time": "2022-06-15T08:35:09.908153",
     "exception": false,
     "start_time": "2022-06-15T08:35:09.862863",
     "status": "completed"
    },
    "tags": []
   },
   "outputs": [],
   "source": [
    "def objectivesXGBCls(trial):\n",
    "    params = {\n",
    "        'max_depth' : trial.suggest_int(\"max_depth\", 1, 16),\n",
    "        'n_estimators': trial.suggest_int('n_estimators', 10, 3000),\n",
    "        'random_state': trial.suggest_int(\"random_state\", 1, 1522),\n",
    "        'learning_rate': trial.suggest_float('learning_rate',0, 1),\n",
    "    }\n",
    "\n",
    "    model = XGBClassifier(**params)\n",
    "    model.fit(X,y)\n",
    "\n",
    "    return model.score(X,y)\n",
    "\n",
    "#opt = optuna.create_study(direction='maximize')\n",
    "#opt.optimize(objectivesXGBCls, n_trials=15)"
   ]
  },
  {
   "cell_type": "code",
   "execution_count": 19,
   "id": "9d400681",
   "metadata": {
    "_kg_hide-input": true,
    "collapsed": true,
    "execution": {
     "iopub.execute_input": "2022-06-15T08:35:09.979347Z",
     "iopub.status.busy": "2022-06-15T08:35:09.978998Z",
     "iopub.status.idle": "2022-06-15T08:35:09.985528Z",
     "shell.execute_reply": "2022-06-15T08:35:09.984531Z"
    },
    "jupyter": {
     "outputs_hidden": true
    },
    "papermill": {
     "duration": 0.043599,
     "end_time": "2022-06-15T08:35:09.987831",
     "exception": false,
     "start_time": "2022-06-15T08:35:09.944232",
     "status": "completed"
    },
    "tags": []
   },
   "outputs": [],
   "source": [
    "def objectivesLGBM(trial):\n",
    "    params = {\n",
    "        #'max_depth' : trial.suggest_int(\"max_depth\", 1, 16),\n",
    "        'n_estimators': trial.suggest_int('n_estimators', 5, 5000),\n",
    "        #'random_state': trial.suggest_int(\"random_state\", 0, 722),\n",
    "        'learning_rate': trial.suggest_float('learning_rate', 0, 1),\n",
    "        \n",
    "        #'num_leaves': trial.suggest_int('num_leaves', 100, 2000),\n",
    "        #'max_bin': trial.suggest_int('max_bin', 2, 100),\n",
    "        \n",
    "        #'device' : 'gpu',\n",
    "        #'n_jobs' : -1,\n",
    "        'verbose': 0\n",
    "    }\n",
    "\n",
    "    model = LGBMClassifier(**params)\n",
    "    model.fit(X,y)\n",
    "\n",
    "    return model.score(X,y)\n",
    "\n",
    "#opt = optuna.create_study(direction='maximize')\n",
    "#opt.optimize(objectivesLGBM, n_trials=5)"
   ]
  },
  {
   "cell_type": "code",
   "execution_count": null,
   "id": "c2904433",
   "metadata": {
    "execution": {
     "iopub.status.busy": "2022-06-15T07:54:37.773267Z",
     "iopub.status.idle": "2022-06-15T07:54:37.773763Z",
     "shell.execute_reply": "2022-06-15T07:54:37.773535Z",
     "shell.execute_reply.started": "2022-06-15T07:54:37.773508Z"
    },
    "papermill": {
     "duration": 0.032193,
     "end_time": "2022-06-15T08:35:10.056251",
     "exception": false,
     "start_time": "2022-06-15T08:35:10.024058",
     "status": "completed"
    },
    "tags": []
   },
   "outputs": [],
   "source": []
  },
  {
   "cell_type": "markdown",
   "id": "24377876",
   "metadata": {
    "papermill": {
     "duration": 0.033403,
     "end_time": "2022-06-15T08:35:10.122710",
     "exception": false,
     "start_time": "2022-06-15T08:35:10.089307",
     "status": "completed"
    },
    "tags": []
   },
   "source": [
    "# Test prediction"
   ]
  },
  {
   "cell_type": "code",
   "execution_count": 20,
   "id": "c46673b6",
   "metadata": {
    "execution": {
     "iopub.execute_input": "2022-06-15T08:35:10.189602Z",
     "iopub.status.busy": "2022-06-15T08:35:10.188879Z",
     "iopub.status.idle": "2022-06-15T08:35:10.196638Z",
     "shell.execute_reply": "2022-06-15T08:35:10.195621Z"
    },
    "papermill": {
     "duration": 0.043702,
     "end_time": "2022-06-15T08:35:10.198682",
     "exception": false,
     "start_time": "2022-06-15T08:35:10.154980",
     "status": "completed"
    },
    "tags": []
   },
   "outputs": [],
   "source": [
    "del test['ID']"
   ]
  },
  {
   "cell_type": "code",
   "execution_count": 21,
   "id": "7a8cbb74",
   "metadata": {
    "execution": {
     "iopub.execute_input": "2022-06-15T08:35:10.265753Z",
     "iopub.status.busy": "2022-06-15T08:35:10.265119Z",
     "iopub.status.idle": "2022-06-15T08:35:10.318175Z",
     "shell.execute_reply": "2022-06-15T08:35:10.317407Z"
    },
    "papermill": {
     "duration": 0.089256,
     "end_time": "2022-06-15T08:35:10.320447",
     "exception": false,
     "start_time": "2022-06-15T08:35:10.231191",
     "status": "completed"
    },
    "tags": []
   },
   "outputs": [],
   "source": [
    "predictions = []\n",
    "\n",
    "pred1 = xgb_model.predict(test)\n",
    "pred2 = lgb_model.predict(test)\n",
    "pred3 = catb_model.predict(test)\n"
   ]
  },
  {
   "cell_type": "code",
   "execution_count": 22,
   "id": "3948480a",
   "metadata": {
    "execution": {
     "iopub.execute_input": "2022-06-15T08:35:10.388814Z",
     "iopub.status.busy": "2022-06-15T08:35:10.388061Z",
     "iopub.status.idle": "2022-06-15T08:35:10.395428Z",
     "shell.execute_reply": "2022-06-15T08:35:10.394519Z"
    },
    "papermill": {
     "duration": 0.043851,
     "end_time": "2022-06-15T08:35:10.397584",
     "exception": false,
     "start_time": "2022-06-15T08:35:10.353733",
     "status": "completed"
    },
    "tags": []
   },
   "outputs": [
    {
     "data": {
      "text/plain": [
       "(200, 200, 200)"
      ]
     },
     "execution_count": 22,
     "metadata": {},
     "output_type": "execute_result"
    }
   ],
   "source": [
    "len(pred1), len(pred2), len(pred3)"
   ]
  },
  {
   "cell_type": "markdown",
   "id": "1749e220",
   "metadata": {
    "papermill": {
     "duration": 0.032425,
     "end_time": "2022-06-15T08:35:10.462849",
     "exception": false,
     "start_time": "2022-06-15T08:35:10.430424",
     "status": "completed"
    },
    "tags": []
   },
   "source": [
    "# Submission"
   ]
  },
  {
   "cell_type": "code",
   "execution_count": 23,
   "id": "4dbdf930",
   "metadata": {
    "execution": {
     "iopub.execute_input": "2022-06-15T08:35:10.532340Z",
     "iopub.status.busy": "2022-06-15T08:35:10.531751Z",
     "iopub.status.idle": "2022-06-15T08:35:10.557920Z",
     "shell.execute_reply": "2022-06-15T08:35:10.557190Z"
    },
    "papermill": {
     "duration": 0.064352,
     "end_time": "2022-06-15T08:35:10.559886",
     "exception": false,
     "start_time": "2022-06-15T08:35:10.495534",
     "status": "completed"
    },
    "tags": []
   },
   "outputs": [
    {
     "data": {
      "text/plain": [
       "(200, 2)"
      ]
     },
     "execution_count": 23,
     "metadata": {},
     "output_type": "execute_result"
    }
   ],
   "source": [
    "sub = pd.read_csv('../input/autismdiagnosis/Autism_Prediction/sample_submission.csv')\n",
    "sub.shape"
   ]
  },
  {
   "cell_type": "code",
   "execution_count": 24,
   "id": "b3ec8700",
   "metadata": {
    "execution": {
     "iopub.execute_input": "2022-06-15T08:35:10.631072Z",
     "iopub.status.busy": "2022-06-15T08:35:10.630503Z",
     "iopub.status.idle": "2022-06-15T08:35:10.644294Z",
     "shell.execute_reply": "2022-06-15T08:35:10.643614Z"
    },
    "papermill": {
     "duration": 0.051934,
     "end_time": "2022-06-15T08:35:10.646226",
     "exception": false,
     "start_time": "2022-06-15T08:35:10.594292",
     "status": "completed"
    },
    "tags": []
   },
   "outputs": [
    {
     "data": {
      "text/plain": [
       "0    172\n",
       "1     28\n",
       "Name: Class/ASD, dtype: int64"
      ]
     },
     "execution_count": 24,
     "metadata": {},
     "output_type": "execute_result"
    }
   ],
   "source": [
    "sub['Class/ASD'] = pred1\n",
    "sub.to_csv('xgb_cls_submission.csv', index=False)\n",
    "sub['Class/ASD'].value_counts()"
   ]
  },
  {
   "cell_type": "code",
   "execution_count": 25,
   "id": "6c08b30e",
   "metadata": {
    "execution": {
     "iopub.execute_input": "2022-06-15T08:35:10.716865Z",
     "iopub.status.busy": "2022-06-15T08:35:10.716281Z",
     "iopub.status.idle": "2022-06-15T08:35:10.725303Z",
     "shell.execute_reply": "2022-06-15T08:35:10.724599Z"
    },
    "papermill": {
     "duration": 0.046305,
     "end_time": "2022-06-15T08:35:10.727194",
     "exception": false,
     "start_time": "2022-06-15T08:35:10.680889",
     "status": "completed"
    },
    "tags": []
   },
   "outputs": [
    {
     "data": {
      "text/plain": [
       "0    174\n",
       "1     26\n",
       "Name: Class/ASD, dtype: int64"
      ]
     },
     "execution_count": 25,
     "metadata": {},
     "output_type": "execute_result"
    }
   ],
   "source": [
    "sub['Class/ASD'] = pred2\n",
    "sub.to_csv('lgb_cls_submission.csv', index=False)\n",
    "sub['Class/ASD'].value_counts()"
   ]
  },
  {
   "cell_type": "code",
   "execution_count": 26,
   "id": "22d21b74",
   "metadata": {
    "execution": {
     "iopub.execute_input": "2022-06-15T08:35:10.796182Z",
     "iopub.status.busy": "2022-06-15T08:35:10.795833Z",
     "iopub.status.idle": "2022-06-15T08:35:10.805177Z",
     "shell.execute_reply": "2022-06-15T08:35:10.804294Z"
    },
    "papermill": {
     "duration": 0.046198,
     "end_time": "2022-06-15T08:35:10.807153",
     "exception": false,
     "start_time": "2022-06-15T08:35:10.760955",
     "status": "completed"
    },
    "tags": []
   },
   "outputs": [
    {
     "data": {
      "text/plain": [
       "0    173\n",
       "1     27\n",
       "Name: Class/ASD, dtype: int64"
      ]
     },
     "execution_count": 26,
     "metadata": {},
     "output_type": "execute_result"
    }
   ],
   "source": [
    "sub['Class/ASD'] = pred3\n",
    "sub.to_csv('catb_cls_submission.csv', index=False)\n",
    "sub['Class/ASD'].value_counts()"
   ]
  },
  {
   "cell_type": "code",
   "execution_count": 27,
   "id": "25a7cf3b",
   "metadata": {
    "execution": {
     "iopub.execute_input": "2022-06-15T08:35:10.878443Z",
     "iopub.status.busy": "2022-06-15T08:35:10.878114Z",
     "iopub.status.idle": "2022-06-15T08:35:10.888558Z",
     "shell.execute_reply": "2022-06-15T08:35:10.887591Z"
    },
    "papermill": {
     "duration": 0.049956,
     "end_time": "2022-06-15T08:35:10.890827",
     "exception": false,
     "start_time": "2022-06-15T08:35:10.840871",
     "status": "completed"
    },
    "tags": []
   },
   "outputs": [],
   "source": [
    "from scipy import stats\n",
    "blending = stats.mode([pred1,pred2,pred3])[0][0]"
   ]
  },
  {
   "cell_type": "code",
   "execution_count": 28,
   "id": "5869a422",
   "metadata": {
    "execution": {
     "iopub.execute_input": "2022-06-15T08:35:10.962843Z",
     "iopub.status.busy": "2022-06-15T08:35:10.962267Z",
     "iopub.status.idle": "2022-06-15T08:35:10.970942Z",
     "shell.execute_reply": "2022-06-15T08:35:10.970292Z"
    },
    "papermill": {
     "duration": 0.047191,
     "end_time": "2022-06-15T08:35:10.972806",
     "exception": false,
     "start_time": "2022-06-15T08:35:10.925615",
     "status": "completed"
    },
    "tags": []
   },
   "outputs": [
    {
     "data": {
      "text/plain": [
       "0    177\n",
       "1     23\n",
       "Name: Class/ASD, dtype: int64"
      ]
     },
     "execution_count": 28,
     "metadata": {},
     "output_type": "execute_result"
    }
   ],
   "source": [
    "sub['Class/ASD'] = blending\n",
    "sub.to_csv('submission.csv', index=False)\n",
    "sub['Class/ASD'].value_counts()"
   ]
  },
  {
   "cell_type": "code",
   "execution_count": null,
   "id": "e72e6ae0",
   "metadata": {
    "papermill": {
     "duration": 0.035218,
     "end_time": "2022-06-15T08:35:11.042580",
     "exception": false,
     "start_time": "2022-06-15T08:35:11.007362",
     "status": "completed"
    },
    "tags": []
   },
   "outputs": [],
   "source": []
  }
 ],
 "metadata": {
  "kernelspec": {
   "display_name": "Python 3",
   "language": "python",
   "name": "python3"
  },
  "language_info": {
   "codemirror_mode": {
    "name": "ipython",
    "version": 3
   },
   "file_extension": ".py",
   "mimetype": "text/x-python",
   "name": "python",
   "nbconvert_exporter": "python",
   "pygments_lexer": "ipython3",
   "version": "3.7.12"
  },
  "papermill": {
   "default_parameters": {},
   "duration": 349.866122,
   "end_time": "2022-06-15T08:35:12.505683",
   "environment_variables": {},
   "exception": null,
   "input_path": "__notebook__.ipynb",
   "output_path": "__notebook__.ipynb",
   "parameters": {},
   "start_time": "2022-06-15T08:29:22.639561",
   "version": "2.3.4"
  }
 },
 "nbformat": 4,
 "nbformat_minor": 5
}
